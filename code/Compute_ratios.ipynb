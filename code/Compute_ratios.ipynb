{
 "cells": [
  {
   "cell_type": "markdown",
   "metadata": {},
   "source": [
    "# Set up"
   ]
  },
  {
   "cell_type": "code",
   "execution_count": 131,
   "metadata": {},
   "outputs": [],
   "source": [
    "# import libraries \n",
    "import simfin as sf\n",
    "import datetime\n",
    "import random as rd\n",
    "import numpy as np\n",
    "import pandas as pd\n",
    "import seaborn as seabornInstance \n",
    "from matplotlib import pyplot as plt\n",
    "from sklearn.model_selection import train_test_split \n",
    "from sklearn.linear_model import LinearRegression\n",
    "from sklearn import metrics\n",
    "%matplotlib inline\n",
    "\n",
    "#set the local directory where data-files are stored\n",
    "#change to your own directory\n",
    "sf.set_data_dir('C:/Users/think/Desktop/UVA/2020Spring/STAT_4996_Capstone/simfin_data')\n",
    "\n",
    "# 一个cell显示所有output\n",
    "from IPython.core.interactiveshell import InteractiveShell\n",
    "InteractiveShell.ast_node_interactivity = 'all'\n",
    "\n",
    "# Set up API key\n",
    "sf.set_api_key(api_key='free')\n",
    "\n",
    "#display all columns\n",
    "pd.set_option('display.max_columns', 100)\n",
    "pd.set_option('display.max_rows', 100)"
   ]
  },
  {
   "cell_type": "code",
   "execution_count": 2,
   "metadata": {},
   "outputs": [],
   "source": [
    "%qtconsole"
   ]
  },
  {
   "cell_type": "markdown",
   "metadata": {},
   "source": [
    "# Define Function"
   ]
  },
  {
   "cell_type": "code",
   "execution_count": 3,
   "metadata": {},
   "outputs": [],
   "source": [
    "#calculate the proportion of non-missing value in each column\n",
    "def prop_nonmissing(df):\n",
    "    df2 = df.reset_index().copy()\n",
    "    output = pd.DataFrame(index = df2.columns)\n",
    "    nomiss_prop = []\n",
    "    for c in df2.columns:\n",
    "        nomiss_prop.append(round((1-(df2.loc[:,c].isnull().sum()/len(df2.loc[:,c])))*100,2))\n",
    "    output['Prop'] = nomiss_prop\n",
    "    return output"
   ]
  },
  {
   "cell_type": "markdown",
   "metadata": {},
   "source": [
    "# Load in data "
   ]
  },
  {
   "cell_type": "code",
   "execution_count": 4,
   "metadata": {},
   "outputs": [
    {
     "name": "stdout",
     "output_type": "stream",
     "text": [
      "Dataset \"us-income-annual\" on disk (13 days old).\n",
      "- Loading from disk ... Done!\n",
      "Dataset \"us-balance-annual\" on disk (13 days old).\n",
      "- Loading from disk ... Done!\n",
      "Dataset \"us-cashflow-annual\" on disk (13 days old).\n",
      "- Loading from disk ... Done!\n",
      "Dataset \"us-companies\" on disk (4 days old).\n",
      "- Loading from disk ... Done!\n",
      "Dataset \"industries\" on disk (13 days old).\n",
      "- Loading from disk ... Done!\n"
     ]
    }
   ],
   "source": [
    "#load in entire annual income statement data\n",
    "df_income_a = sf.load_income(variant='annual', market='us').reset_index()\n",
    "#load in entire annual balance sheet data \n",
    "df_balance_a = sf.load_balance(variant='annual', market='us').reset_index()\n",
    "#load in entire annual balance sheet data \n",
    "df_cashflow_a = sf.load_cashflow(variant='annual', market='us').reset_index()\n",
    "#load in companies detail\n",
    "comp = sf.load_companies(market='us').reset_index()\n",
    "industry = sf.load_industries().reset_index()"
   ]
  },
  {
   "cell_type": "markdown",
   "metadata": {},
   "source": [
    "# Merging Dtat"
   ]
  },
  {
   "cell_type": "code",
   "execution_count": 5,
   "metadata": {},
   "outputs": [
    {
     "data": {
      "text/html": [
       "<div>\n",
       "<style scoped>\n",
       "    .dataframe tbody tr th:only-of-type {\n",
       "        vertical-align: middle;\n",
       "    }\n",
       "\n",
       "    .dataframe tbody tr th {\n",
       "        vertical-align: top;\n",
       "    }\n",
       "\n",
       "    .dataframe thead th {\n",
       "        text-align: right;\n",
       "    }\n",
       "</style>\n",
       "<table border=\"1\" class=\"dataframe\">\n",
       "  <thead>\n",
       "    <tr style=\"text-align: right;\">\n",
       "      <th></th>\n",
       "      <th>Ticker</th>\n",
       "      <th>SimFinId</th>\n",
       "      <th>Company Name</th>\n",
       "      <th>IndustryId</th>\n",
       "    </tr>\n",
       "  </thead>\n",
       "  <tbody>\n",
       "    <tr>\n",
       "      <th>0</th>\n",
       "      <td>A</td>\n",
       "      <td>45846</td>\n",
       "      <td>AGILENT TECHNOLOGIES INC</td>\n",
       "      <td>106001.0</td>\n",
       "    </tr>\n",
       "    <tr>\n",
       "      <th>1</th>\n",
       "      <td>AA</td>\n",
       "      <td>367153</td>\n",
       "      <td>Alcoa Corp</td>\n",
       "      <td>110004.0</td>\n",
       "    </tr>\n",
       "  </tbody>\n",
       "</table>\n",
       "</div>"
      ],
      "text/plain": [
       "  Ticker  SimFinId              Company Name  IndustryId\n",
       "0      A     45846  AGILENT TECHNOLOGIES INC    106001.0\n",
       "1     AA    367153                Alcoa Corp    110004.0"
      ]
     },
     "execution_count": 5,
     "metadata": {},
     "output_type": "execute_result"
    },
    {
     "data": {
      "text/html": [
       "<div>\n",
       "<style scoped>\n",
       "    .dataframe tbody tr th:only-of-type {\n",
       "        vertical-align: middle;\n",
       "    }\n",
       "\n",
       "    .dataframe tbody tr th {\n",
       "        vertical-align: top;\n",
       "    }\n",
       "\n",
       "    .dataframe thead th {\n",
       "        text-align: right;\n",
       "    }\n",
       "</style>\n",
       "<table border=\"1\" class=\"dataframe\">\n",
       "  <thead>\n",
       "    <tr style=\"text-align: right;\">\n",
       "      <th></th>\n",
       "      <th>IndustryId</th>\n",
       "      <th>Sector</th>\n",
       "      <th>Industry</th>\n",
       "    </tr>\n",
       "  </thead>\n",
       "  <tbody>\n",
       "    <tr>\n",
       "      <th>0</th>\n",
       "      <td>100001</td>\n",
       "      <td>Industrials</td>\n",
       "      <td>Industrial Products</td>\n",
       "    </tr>\n",
       "    <tr>\n",
       "      <th>1</th>\n",
       "      <td>100002</td>\n",
       "      <td>Industrials</td>\n",
       "      <td>Business Services</td>\n",
       "    </tr>\n",
       "  </tbody>\n",
       "</table>\n",
       "</div>"
      ],
      "text/plain": [
       "   IndustryId       Sector             Industry\n",
       "0      100001  Industrials  Industrial Products\n",
       "1      100002  Industrials    Business Services"
      ]
     },
     "execution_count": 5,
     "metadata": {},
     "output_type": "execute_result"
    },
    {
     "data": {
      "text/plain": [
       "(2067, 4)"
      ]
     },
     "execution_count": 5,
     "metadata": {},
     "output_type": "execute_result"
    },
    {
     "data": {
      "text/plain": [
       "(71, 3)"
      ]
     },
     "execution_count": 5,
     "metadata": {},
     "output_type": "execute_result"
    }
   ],
   "source": [
    "comp.head(2)\n",
    "industry.head(2)\n",
    "comp.shape\n",
    "industry.shape"
   ]
  },
  {
   "cell_type": "code",
   "execution_count": 6,
   "metadata": {},
   "outputs": [
    {
     "data": {
      "text/plain": [
       "1915"
      ]
     },
     "execution_count": 6,
     "metadata": {},
     "output_type": "execute_result"
    },
    {
     "data": {
      "text/plain": [
       "1915"
      ]
     },
     "execution_count": 6,
     "metadata": {},
     "output_type": "execute_result"
    }
   ],
   "source": [
    "len(set(df_cashflow_a['Ticker']) & set(df_income_a['Ticker']))\n",
    "len(set(df_cashflow_a['Ticker']) & set(df_balance_a['Ticker']))\n",
    "#三个表cover的公司完全相同"
   ]
  },
  {
   "cell_type": "code",
   "execution_count": 7,
   "metadata": {},
   "outputs": [
    {
     "data": {
      "text/html": [
       "<div>\n",
       "<style scoped>\n",
       "    .dataframe tbody tr th:only-of-type {\n",
       "        vertical-align: middle;\n",
       "    }\n",
       "\n",
       "    .dataframe tbody tr th {\n",
       "        vertical-align: top;\n",
       "    }\n",
       "\n",
       "    .dataframe thead th {\n",
       "        text-align: right;\n",
       "    }\n",
       "</style>\n",
       "<table border=\"1\" class=\"dataframe\">\n",
       "  <thead>\n",
       "    <tr style=\"text-align: right;\">\n",
       "      <th></th>\n",
       "      <th>Ticker</th>\n",
       "      <th>SimFinId</th>\n",
       "      <th>Company Name</th>\n",
       "      <th>IndustryId</th>\n",
       "      <th>Sector</th>\n",
       "      <th>Industry</th>\n",
       "    </tr>\n",
       "  </thead>\n",
       "  <tbody>\n",
       "    <tr>\n",
       "      <th>0</th>\n",
       "      <td>A</td>\n",
       "      <td>45846</td>\n",
       "      <td>AGILENT TECHNOLOGIES INC</td>\n",
       "      <td>106001.0</td>\n",
       "      <td>Healthcare</td>\n",
       "      <td>Medical Diagnostics &amp; Research</td>\n",
       "    </tr>\n",
       "    <tr>\n",
       "      <th>1</th>\n",
       "      <td>AA</td>\n",
       "      <td>367153</td>\n",
       "      <td>Alcoa Corp</td>\n",
       "      <td>110004.0</td>\n",
       "      <td>Basic Materials</td>\n",
       "      <td>Metals &amp; Mining</td>\n",
       "    </tr>\n",
       "    <tr>\n",
       "      <th>2</th>\n",
       "      <td>AAC</td>\n",
       "      <td>939324</td>\n",
       "      <td>AAC Holdings, Inc.</td>\n",
       "      <td>NaN</td>\n",
       "      <td>NaN</td>\n",
       "      <td>NaN</td>\n",
       "    </tr>\n",
       "    <tr>\n",
       "      <th>3</th>\n",
       "      <td>AAL</td>\n",
       "      <td>68568</td>\n",
       "      <td>American Airlines Group Inc.</td>\n",
       "      <td>100006.0</td>\n",
       "      <td>Industrials</td>\n",
       "      <td>Airlines</td>\n",
       "    </tr>\n",
       "    <tr>\n",
       "      <th>4</th>\n",
       "      <td>AAME</td>\n",
       "      <td>450021</td>\n",
       "      <td>ATLANTIC AMERICAN CORP</td>\n",
       "      <td>104004.0</td>\n",
       "      <td>Financial Services</td>\n",
       "      <td>Insurance - Life</td>\n",
       "    </tr>\n",
       "  </tbody>\n",
       "</table>\n",
       "</div>"
      ],
      "text/plain": [
       "  Ticker  SimFinId                  Company Name  IndustryId  \\\n",
       "0      A     45846      AGILENT TECHNOLOGIES INC    106001.0   \n",
       "1     AA    367153                    Alcoa Corp    110004.0   \n",
       "2    AAC    939324            AAC Holdings, Inc.         NaN   \n",
       "3    AAL     68568  American Airlines Group Inc.    100006.0   \n",
       "4   AAME    450021        ATLANTIC AMERICAN CORP    104004.0   \n",
       "\n",
       "               Sector                        Industry  \n",
       "0          Healthcare  Medical Diagnostics & Research  \n",
       "1     Basic Materials                 Metals & Mining  \n",
       "2                 NaN                             NaN  \n",
       "3         Industrials                        Airlines  \n",
       "4  Financial Services                Insurance - Life  "
      ]
     },
     "execution_count": 7,
     "metadata": {},
     "output_type": "execute_result"
    },
    {
     "data": {
      "text/plain": [
       "(2067, 6)"
      ]
     },
     "execution_count": 7,
     "metadata": {},
     "output_type": "execute_result"
    }
   ],
   "source": [
    "#left join industry on company\n",
    "comp['IndustryId'] = comp[['IndustryId']].astype('float')\n",
    "df = pd.merge(comp, industry, on ='IndustryId', how = 'left',suffixes=('','_right'))\n",
    "df.head(5)\n",
    "df.shape"
   ]
  },
  {
   "cell_type": "code",
   "execution_count": 8,
   "metadata": {},
   "outputs": [
    {
     "data": {
      "text/plain": [
       "\"\\n#check if joined properly: missing value percentage match\\nprop_nonmissing(df2).sort_values(by = 'Prop',ascending = False)\\ndf2.head(2)\\ndf2.columns\\ndf2.shape\\n\""
      ]
     },
     "execution_count": 8,
     "metadata": {},
     "output_type": "execute_result"
    }
   ],
   "source": [
    "#left join income statement on previous df \n",
    "df2 = pd.merge(df,df_income_a,on = ['Ticker','SimFinId'], how = 'right')\n",
    "\n",
    "'''\n",
    "#check if joined properly: missing value percentage match\n",
    "prop_nonmissing(df2).sort_values(by = 'Prop',ascending = False)\n",
    "df2.head(2)\n",
    "df2.columns\n",
    "df2.shape\n",
    "'''"
   ]
  },
  {
   "cell_type": "code",
   "execution_count": 9,
   "metadata": {},
   "outputs": [
    {
     "data": {
      "text/plain": [
       "(14768, 29)"
      ]
     },
     "execution_count": 9,
     "metadata": {},
     "output_type": "execute_result"
    },
    {
     "data": {
      "text/plain": [
       "\"\\n#take a look at the merge data\\ndf3.head(2)\\ndf3.columns\\n#check if merge successfully, if successful, the row number should not change\\ndf2.shape\\ndf3.shape\\nprop_nonmissing(df3.iloc[:,~df3.columns.isin(df2.columns)]).sort_values(by = 'Prop', ascending = False)\\n\""
      ]
     },
     "execution_count": 9,
     "metadata": {},
     "output_type": "execute_result"
    }
   ],
   "source": [
    "#left join balance sheet on previous df \n",
    "df_balance_a.shape\n",
    "df3 = pd.merge(df2,df_balance_a,on = ['Ticker','SimFinId','Fiscal Year','Currency'], how = 'left', suffixes=('','_b'))\n",
    "\n",
    "'''\n",
    "#take a look at the merge data\n",
    "df3.head(2)\n",
    "df3.columns\n",
    "#check if merge successfully, if successful, the row number should not change\n",
    "df2.shape\n",
    "df3.shape\n",
    "prop_nonmissing(df3.iloc[:,~df3.columns.isin(df2.columns)]).sort_values(by = 'Prop', ascending = False)\n",
    "'''"
   ]
  },
  {
   "cell_type": "code",
   "execution_count": 10,
   "metadata": {},
   "outputs": [
    {
     "data": {
      "text/plain": [
       "(14768, 27)"
      ]
     },
     "execution_count": 10,
     "metadata": {},
     "output_type": "execute_result"
    },
    {
     "data": {
      "text/plain": [
       "\"\\n#take a look at the merge data\\ndf4.head(2)\\ndf4.columns\\n#check if merge successfully, if successful, the row number should not change\\ndf3.shape\\ndf4.shape\\nprop_nonmissing(df4.iloc[:,~df4.columns.isin(df3.columns)]).sort_values(by = 'Prop', ascending = False)\\n\""
      ]
     },
     "execution_count": 10,
     "metadata": {},
     "output_type": "execute_result"
    }
   ],
   "source": [
    "#left join balance sheet on previous df \n",
    "df_cashflow_a.shape\n",
    "df4 = pd.merge(df3,df_cashflow_a,on = ['Ticker','SimFinId','Fiscal Year','Currency'], how = 'left', suffixes=('','_c'))\n",
    "\n",
    "'''\n",
    "#take a look at the merge data\n",
    "df4.head(2)\n",
    "df4.columns\n",
    "#check if merge successfully, if successful, the row number should not change\n",
    "df3.shape\n",
    "df4.shape\n",
    "prop_nonmissing(df4.iloc[:,~df4.columns.isin(df3.columns)]).sort_values(by = 'Prop', ascending = False)\n",
    "'''"
   ]
  },
  {
   "cell_type": "code",
   "execution_count": 11,
   "metadata": {},
   "outputs": [],
   "source": [
    "#delete old dataframe\n",
    "del df3\n",
    "del df2\n",
    "del df\n",
    "del df_balance_a\n",
    "del df_cashflow_a\n",
    "del df_income_a"
   ]
  },
  {
   "cell_type": "code",
   "execution_count": 12,
   "metadata": {},
   "outputs": [
    {
     "data": {
      "text/html": [
       "<div>\n",
       "<style scoped>\n",
       "    .dataframe tbody tr th:only-of-type {\n",
       "        vertical-align: middle;\n",
       "    }\n",
       "\n",
       "    .dataframe tbody tr th {\n",
       "        vertical-align: top;\n",
       "    }\n",
       "\n",
       "    .dataframe thead th {\n",
       "        text-align: right;\n",
       "    }\n",
       "</style>\n",
       "<table border=\"1\" class=\"dataframe\">\n",
       "  <thead>\n",
       "    <tr style=\"text-align: right;\">\n",
       "      <th></th>\n",
       "      <th>Report Date_b</th>\n",
       "      <th>Fiscal Period_b</th>\n",
       "      <th>Publish Date_b</th>\n",
       "      <th>Shares (Basic)_b</th>\n",
       "      <th>Shares (Diluted)_b</th>\n",
       "      <th>Report Date_c</th>\n",
       "      <th>Fiscal Period_c</th>\n",
       "      <th>Publish Date_c</th>\n",
       "      <th>Shares (Basic)_c</th>\n",
       "      <th>Shares (Diluted)_c</th>\n",
       "      <th>Depreciation &amp; Amortization_c</th>\n",
       "    </tr>\n",
       "  </thead>\n",
       "  <tbody>\n",
       "    <tr>\n",
       "      <th>0</th>\n",
       "      <td>2008-10-31</td>\n",
       "      <td>Q4</td>\n",
       "      <td>2009-10-05</td>\n",
       "      <td>357000000.0</td>\n",
       "      <td>359000000.0</td>\n",
       "      <td>2008-10-31</td>\n",
       "      <td>FY</td>\n",
       "      <td>2009-10-05</td>\n",
       "      <td>363000000.0</td>\n",
       "      <td>371000000.0</td>\n",
       "      <td>201000000.0</td>\n",
       "    </tr>\n",
       "    <tr>\n",
       "      <th>1</th>\n",
       "      <td>2009-10-31</td>\n",
       "      <td>Q4</td>\n",
       "      <td>2009-12-21</td>\n",
       "      <td>343000000.0</td>\n",
       "      <td>343000000.0</td>\n",
       "      <td>2009-10-31</td>\n",
       "      <td>FY</td>\n",
       "      <td>2009-12-21</td>\n",
       "      <td>346000000.0</td>\n",
       "      <td>346000000.0</td>\n",
       "      <td>162000000.0</td>\n",
       "    </tr>\n",
       "    <tr>\n",
       "      <th>2</th>\n",
       "      <td>2010-10-31</td>\n",
       "      <td>Q4</td>\n",
       "      <td>2010-12-20</td>\n",
       "      <td>344000000.0</td>\n",
       "      <td>356000000.0</td>\n",
       "      <td>2010-10-31</td>\n",
       "      <td>FY</td>\n",
       "      <td>2010-12-20</td>\n",
       "      <td>347000000.0</td>\n",
       "      <td>353000000.0</td>\n",
       "      <td>202000000.0</td>\n",
       "    </tr>\n",
       "    <tr>\n",
       "      <th>3</th>\n",
       "      <td>2011-10-31</td>\n",
       "      <td>Q4</td>\n",
       "      <td>2011-12-16</td>\n",
       "      <td>346000000.0</td>\n",
       "      <td>353000000.0</td>\n",
       "      <td>2011-10-31</td>\n",
       "      <td>FY</td>\n",
       "      <td>2011-12-16</td>\n",
       "      <td>347000000.0</td>\n",
       "      <td>355000000.0</td>\n",
       "      <td>253000000.0</td>\n",
       "    </tr>\n",
       "    <tr>\n",
       "      <th>4</th>\n",
       "      <td>2012-10-31</td>\n",
       "      <td>Q4</td>\n",
       "      <td>2012-12-20</td>\n",
       "      <td>348000000.0</td>\n",
       "      <td>353000000.0</td>\n",
       "      <td>2012-10-31</td>\n",
       "      <td>FY</td>\n",
       "      <td>2012-12-20</td>\n",
       "      <td>348000000.0</td>\n",
       "      <td>353000000.0</td>\n",
       "      <td>301000000.0</td>\n",
       "    </tr>\n",
       "  </tbody>\n",
       "</table>\n",
       "</div>"
      ],
      "text/plain": [
       "  Report Date_b Fiscal Period_b Publish Date_b  Shares (Basic)_b  \\\n",
       "0    2008-10-31              Q4     2009-10-05       357000000.0   \n",
       "1    2009-10-31              Q4     2009-12-21       343000000.0   \n",
       "2    2010-10-31              Q4     2010-12-20       344000000.0   \n",
       "3    2011-10-31              Q4     2011-12-16       346000000.0   \n",
       "4    2012-10-31              Q4     2012-12-20       348000000.0   \n",
       "\n",
       "   Shares (Diluted)_b Report Date_c Fiscal Period_c Publish Date_c  \\\n",
       "0         359000000.0    2008-10-31              FY     2009-10-05   \n",
       "1         343000000.0    2009-10-31              FY     2009-12-21   \n",
       "2         356000000.0    2010-10-31              FY     2010-12-20   \n",
       "3         353000000.0    2011-10-31              FY     2011-12-16   \n",
       "4         353000000.0    2012-10-31              FY     2012-12-20   \n",
       "\n",
       "   Shares (Basic)_c  Shares (Diluted)_c  Depreciation & Amortization_c  \n",
       "0       363000000.0         371000000.0                    201000000.0  \n",
       "1       346000000.0         346000000.0                    162000000.0  \n",
       "2       347000000.0         353000000.0                    202000000.0  \n",
       "3       347000000.0         355000000.0                    253000000.0  \n",
       "4       348000000.0         353000000.0                    301000000.0  "
      ]
     },
     "execution_count": 12,
     "metadata": {},
     "output_type": "execute_result"
    },
    {
     "data": {
      "text/html": [
       "<div>\n",
       "<style scoped>\n",
       "    .dataframe tbody tr th:only-of-type {\n",
       "        vertical-align: middle;\n",
       "    }\n",
       "\n",
       "    .dataframe tbody tr th {\n",
       "        vertical-align: top;\n",
       "    }\n",
       "\n",
       "    .dataframe thead th {\n",
       "        text-align: right;\n",
       "    }\n",
       "</style>\n",
       "<table border=\"1\" class=\"dataframe\">\n",
       "  <thead>\n",
       "    <tr style=\"text-align: right;\">\n",
       "      <th></th>\n",
       "      <th>Report Date</th>\n",
       "      <th>Fiscal Period</th>\n",
       "      <th>Publish Date</th>\n",
       "      <th>Shares (Basic)</th>\n",
       "      <th>Shares (Diluted)</th>\n",
       "      <th>Depreciation &amp; Amortization</th>\n",
       "    </tr>\n",
       "  </thead>\n",
       "  <tbody>\n",
       "    <tr>\n",
       "      <th>0</th>\n",
       "      <td>2008-10-31</td>\n",
       "      <td>FY</td>\n",
       "      <td>2009-10-05</td>\n",
       "      <td>363000000.0</td>\n",
       "      <td>371000000.0</td>\n",
       "      <td>NaN</td>\n",
       "    </tr>\n",
       "    <tr>\n",
       "      <th>1</th>\n",
       "      <td>2009-10-31</td>\n",
       "      <td>FY</td>\n",
       "      <td>2009-12-21</td>\n",
       "      <td>346000000.0</td>\n",
       "      <td>346000000.0</td>\n",
       "      <td>NaN</td>\n",
       "    </tr>\n",
       "    <tr>\n",
       "      <th>2</th>\n",
       "      <td>2010-10-31</td>\n",
       "      <td>FY</td>\n",
       "      <td>2010-12-20</td>\n",
       "      <td>347000000.0</td>\n",
       "      <td>353000000.0</td>\n",
       "      <td>NaN</td>\n",
       "    </tr>\n",
       "    <tr>\n",
       "      <th>3</th>\n",
       "      <td>2011-10-31</td>\n",
       "      <td>FY</td>\n",
       "      <td>2011-12-16</td>\n",
       "      <td>347000000.0</td>\n",
       "      <td>355000000.0</td>\n",
       "      <td>NaN</td>\n",
       "    </tr>\n",
       "    <tr>\n",
       "      <th>4</th>\n",
       "      <td>2012-10-31</td>\n",
       "      <td>FY</td>\n",
       "      <td>2012-12-20</td>\n",
       "      <td>348000000.0</td>\n",
       "      <td>353000000.0</td>\n",
       "      <td>NaN</td>\n",
       "    </tr>\n",
       "  </tbody>\n",
       "</table>\n",
       "</div>"
      ],
      "text/plain": [
       "  Report Date Fiscal Period Publish Date  Shares (Basic)  Shares (Diluted)  \\\n",
       "0  2008-10-31            FY   2009-10-05     363000000.0       371000000.0   \n",
       "1  2009-10-31            FY   2009-12-21     346000000.0       346000000.0   \n",
       "2  2010-10-31            FY   2010-12-20     347000000.0       353000000.0   \n",
       "3  2011-10-31            FY   2011-12-16     347000000.0       355000000.0   \n",
       "4  2012-10-31            FY   2012-12-20     348000000.0       353000000.0   \n",
       "\n",
       "   Depreciation & Amortization  \n",
       "0                          NaN  \n",
       "1                          NaN  \n",
       "2                          NaN  \n",
       "3                          NaN  \n",
       "4                          NaN  "
      ]
     },
     "execution_count": 12,
     "metadata": {},
     "output_type": "execute_result"
    },
    {
     "data": {
      "text/plain": [
       "0"
      ]
     },
     "execution_count": 12,
     "metadata": {},
     "output_type": "execute_result"
    },
    {
     "data": {
      "text/plain": [
       "407"
      ]
     },
     "execution_count": 12,
     "metadata": {},
     "output_type": "execute_result"
    },
    {
     "data": {
      "text/plain": [
       "409"
      ]
     },
     "execution_count": 12,
     "metadata": {},
     "output_type": "execute_result"
    },
    {
     "data": {
      "text/plain": [
       "14762"
      ]
     },
     "execution_count": 12,
     "metadata": {},
     "output_type": "execute_result"
    }
   ],
   "source": [
    "#check overlapping columns \n",
    "df4.filter(regex='_').head()\n",
    "df4[['Report Date','Fiscal Period','Publish Date','Shares (Basic)','Shares (Diluted)','Depreciation & Amortization']].head()\n",
    "#check if we can delete any overlapping column \n",
    "#can delete report date_b and _c\n",
    "#can delete depreciation & amortizaton \n",
    "sum((df4['Report Date_b'] == df4['Report Date_c'])== False)\n",
    "sum((df4['Publish Date_b'] == df4['Publish Date_c'])== False)\n",
    "sum((df4['Shares (Basic)_c'] == df4['Shares (Basic)'])== False)\n",
    "sum((df4['Depreciation & Amortization'] == df4['Depreciation & Amortization_c'])== False)\n"
   ]
  },
  {
   "cell_type": "code",
   "execution_count": 13,
   "metadata": {},
   "outputs": [
    {
     "data": {
      "text/plain": [
       "Index(['Ticker', 'SimFinId', 'Company Name', 'IndustryId', 'Sector',\n",
       "       'Industry', 'Report Date', 'Currency', 'Fiscal Year', 'Fiscal Period',\n",
       "       'Publish Date', 'Shares (Basic)', 'Shares (Diluted)', 'Revenue',\n",
       "       'Cost of Revenue', 'Gross Profit', 'Operating Expenses',\n",
       "       'Selling, General & Administrative', 'Research & Development',\n",
       "       'Operating Income (Loss)', 'Non-Operating Income (Loss)',\n",
       "       'Interest Expense, Net', 'Pretax Income (Loss), Adj.',\n",
       "       'Abnormal Gains (Losses)', 'Pretax Income (Loss)',\n",
       "       'Income Tax (Expense) Benefit, Net',\n",
       "       'Income (Loss) from Continuing Operations',\n",
       "       'Net Extraordinary Gains (Losses)', 'Net Income', 'Net Income (Common)',\n",
       "       'Fiscal Period_b', 'Publish Date_b', 'Shares (Basic)_b',\n",
       "       'Shares (Diluted)_b', 'Cash, Cash Equivalents & Short Term Investments',\n",
       "       'Accounts & Notes Receivable', 'Inventories', 'Total Current Assets',\n",
       "       'Property, Plant & Equipment, Net',\n",
       "       'Long Term Investments & Receivables', 'Other Long Term Assets',\n",
       "       'Total Noncurrent Assets', 'Total Assets', 'Payables & Accruals',\n",
       "       'Short Term Debt', 'Total Current Liabilities', 'Long Term Debt',\n",
       "       'Total Noncurrent Liabilities', 'Total Liabilities',\n",
       "       'Share Capital & Additional Paid-In Capital', 'Treasury Stock',\n",
       "       'Retained Earnings', 'Total Equity', 'Total Liabilities & Equity',\n",
       "       'Fiscal Period_c', 'Publish Date_c', 'Shares (Basic)_c',\n",
       "       'Shares (Diluted)_c', 'Net Income/Starting Line',\n",
       "       'Depreciation & Amortization_c', 'Non-Cash Items',\n",
       "       'Change in Working Capital', 'Change in Accounts Receivable',\n",
       "       'Change in Inventories', 'Change in Accounts Payable',\n",
       "       'Change in Other', 'Net Cash from Operating Activities',\n",
       "       'Change in Fixed Assets & Intangibles',\n",
       "       'Net Change in Long Term Investment',\n",
       "       'Net Cash from Acquisitions & Divestitures',\n",
       "       'Net Cash from Investing Activities', 'Dividends Paid',\n",
       "       'Cash from (Repayment of) Debt', 'Cash from (Repurchase of) Equity',\n",
       "       'Net Cash from Financing Activities', 'Net Change in Cash'],\n",
       "      dtype='object')"
      ]
     },
     "execution_count": 13,
     "metadata": {},
     "output_type": "execute_result"
    }
   ],
   "source": [
    "#rearrange data frame\n",
    "#drop useless columns \n",
    "df4.drop(columns=['Report Date_b','Report Date_c','Depreciation & Amortization'],inplace=True)\n",
    "df4.columns"
   ]
  },
  {
   "cell_type": "code",
   "execution_count": 14,
   "metadata": {},
   "outputs": [
    {
     "data": {
      "text/plain": [
       "Index(['Ticker', 'SimFinId', 'Company Name', 'IndustryId', 'Sector',\n",
       "       'Industry', 'Report Date', 'Currency', 'Fiscal Year', 'Fiscal Period',\n",
       "       'Publish Date', 'Shares (Basic)', 'Shares (Diluted)', 'Revenue',\n",
       "       'Cost of Revenue', 'Gross Profit', 'Operating Expenses',\n",
       "       'Selling, General & Administrative', 'Research & Development',\n",
       "       'Operating Income (Loss)', 'Non-Operating Income (Loss)',\n",
       "       'Interest Expense, Net', 'Pretax Income (Loss), Adj.',\n",
       "       'Abnormal Gains (Losses)', 'Pretax Income (Loss)',\n",
       "       'Income Tax (Expense) Benefit, Net',\n",
       "       'Income (Loss) from Continuing Operations',\n",
       "       'Net Extraordinary Gains (Losses)', 'Net Income', 'Net Income (Common)',\n",
       "       'Fiscal Period_b', 'Publish Date_b', 'Shares (Basic)_b',\n",
       "       'Shares (Diluted)_b', 'Cash, Cash Equivalents & Short Term Investments',\n",
       "       'Accounts & Notes Receivable', 'Inventories', 'Total Current Assets',\n",
       "       'Property, Plant & Equipment, Net',\n",
       "       'Long Term Investments & Receivables', 'Other Long Term Assets',\n",
       "       'Total Noncurrent Assets', 'Total Assets', 'Payables & Accruals',\n",
       "       'Short Term Debt', 'Total Current Liabilities', 'Long Term Debt',\n",
       "       'Total Noncurrent Liabilities', 'Total Liabilities',\n",
       "       'Share Capital & Additional Paid-In Capital', 'Treasury Stock',\n",
       "       'Retained Earnings', 'Total Equity', 'Total Liabilities & Equity',\n",
       "       'Fiscal Period_c', 'Publish Date_c', 'Shares (Basic)_c',\n",
       "       'Shares (Diluted)_c', 'Net Income/Starting Line',\n",
       "       'Depreciation & Amortization', 'Non-Cash Items',\n",
       "       'Change in Working Capital', 'Change in Accounts Receivable',\n",
       "       'Change in Inventories', 'Change in Accounts Payable',\n",
       "       'Change in Other', 'Net Cash from Operating Activities',\n",
       "       'Change in Fixed Assets & Intangibles',\n",
       "       'Net Change in Long Term Investment',\n",
       "       'Net Cash from Acquisitions & Divestitures',\n",
       "       'Net Cash from Investing Activities', 'Dividends Paid',\n",
       "       'Cash from (Repayment of) Debt', 'Cash from (Repurchase of) Equity',\n",
       "       'Net Cash from Financing Activities', 'Net Change in Cash'],\n",
       "      dtype='object')"
      ]
     },
     "execution_count": 14,
     "metadata": {},
     "output_type": "execute_result"
    }
   ],
   "source": [
    "df4.rename(columns={\"Depreciation & Amortization_c\": \"Depreciation & Amortization\"},inplace=True)\n",
    "df4.columns"
   ]
  },
  {
   "cell_type": "markdown",
   "metadata": {},
   "source": [
    "# Filling Missing Value"
   ]
  },
  {
   "cell_type": "markdown",
   "metadata": {},
   "source": [
    "## Preparation Work "
   ]
  },
  {
   "cell_type": "markdown",
   "metadata": {},
   "source": [
    "以下所有的formula已全部替换为表内对应字段名\n",
    "注意\n",
    "1. Stock Price 目前没有对应字段\n",
    "2. 有一些标注（year-start)的字段，对应的字段名内没有“(year-start)”"
   ]
  },
  {
   "cell_type": "markdown",
   "metadata": {},
   "source": [
    "\n",
    "| Liquidity Ratios     | Formula |\n",
    "| :---- | :---- |\n",
    "| Current ratio |  Total Current Assets/Total Current Liabilities       |\n",
    "| Quick ratio | (Cash, Cash Equivalents & Short Term Investments+ Accounts & Notes Receivable)/Total Current Liabilities|\n",
    "|Net working capital to assets ratio| (Total Current Assets-Total Current Liabilities)/Total Current Assets|\n",
    "|Cash ratio| Cash, Cash Equivalents & Short Term Investments+ Accounts/Total Current Liabilities|"
   ]
  },
  {
   "cell_type": "markdown",
   "metadata": {},
   "source": [
    "\n",
    "| Leverage Ratios     | Formula |\n",
    "| :---- | :---- |\n",
    "| Long-term debt ratio |  Long Term Debt/(Long Term Debt+ Total Equity) |\n",
    "| Liabilities to Equity Ratio|Total Liabilities/ Total Equity)|\n",
    "|Total Debt ratio|Total Liabilities/Total Assets|\n",
    "| Debt to Assets Ratio|(Long Term Debt+Short Term Debt)/Total Assets|\n",
    "|Interest coverage ratio|Operating Income (Loss)/Interest Expense, Net|\n",
    "|Cash coverage ratio|(Operating Income (Loss)+Depreciation & Amortization)/Interest Expense, Net|"
   ]
  },
  {
   "cell_type": "markdown",
   "metadata": {},
   "source": [
    "\n",
    "| Profitability Ratios     | Formula |\n",
    "| :---- | :---- |\n",
    "|After Tax Operating Income|Revenue-Operating Expenses-Depreciation & Amortization-Income Tax (Expense) Benefit, Net|\n",
    "| Return on Asset |After Tax Operating Income/Total Assets  |\n",
    "| Return on Capital|After Tax Operating Income/(Long Term Debt+ Total Equity)|\n",
    "| Return on Equity| After Tax Operating Income/Total Equity|\n",
    "| Economic Value Added| After Tax Operating Income-Cost of capital（need outside data）* (Long Term Debt+ Total Equity)|\n",
    "\n"
   ]
  },
  {
   "cell_type": "markdown",
   "metadata": {},
   "source": [
    "\n",
    "| Efficiency Ratios     | Formula |\n",
    "| :---- | :---- |\n",
    "| Operating profit margin| Operating Income (Loss)/Revenue|\n",
    "|Net Profit Margin| Net Income (Common)/Revenue|\n",
    "|Asset Turnover|Revenue/Total Assets(year-start)|\n",
    "|Receivable turover|Revenue/Accounts & Notes Receivable(year-start)|\n",
    "|Inventory turnover|Cost of Revenue/Inventories(year-start)|\n"
   ]
  },
  {
   "cell_type": "markdown",
   "metadata": {},
   "source": [
    "\n",
    "| Performance Ratios     | Formula |\n",
    "| :---- | :---- |\n",
    "| Market Value added| Stock Price * Shares (Basic) -Total Equity|\n",
    "| Market to Book ratio|Stock Price * Shares (Basic)/Total Equity|\n",
    "|Earning per Share|Net Income (Common)/Shares (Basic)|\n",
    "|Sales per Share|Revenue/Shares (Basic)|\n",
    "|Price to Earning Ratio|Stock Price/Earning Per Share|\n",
    "|Price to Book Ratio|Stock Price/(Total Equity/Shares (Basic))|\n",
    "\n"
   ]
  },
  {
   "cell_type": "code",
   "execution_count": 308,
   "metadata": {
    "scrolled": true
   },
   "outputs": [
    {
     "data": {
      "text/html": [
       "<div>\n",
       "<style scoped>\n",
       "    .dataframe tbody tr th:only-of-type {\n",
       "        vertical-align: middle;\n",
       "    }\n",
       "\n",
       "    .dataframe tbody tr th {\n",
       "        vertical-align: top;\n",
       "    }\n",
       "\n",
       "    .dataframe thead th {\n",
       "        text-align: right;\n",
       "    }\n",
       "</style>\n",
       "<table border=\"1\" class=\"dataframe\">\n",
       "  <thead>\n",
       "    <tr style=\"text-align: right;\">\n",
       "      <th></th>\n",
       "      <th>Prop</th>\n",
       "    </tr>\n",
       "  </thead>\n",
       "  <tbody>\n",
       "    <tr>\n",
       "      <th>index</th>\n",
       "      <td>100.00</td>\n",
       "    </tr>\n",
       "    <tr>\n",
       "      <th>Income (Loss) from Continuing Operations</th>\n",
       "      <td>100.00</td>\n",
       "    </tr>\n",
       "    <tr>\n",
       "      <th>Pretax Income (Loss), Adj.</th>\n",
       "      <td>100.00</td>\n",
       "    </tr>\n",
       "    <tr>\n",
       "      <th>Dividends Paid</th>\n",
       "      <td>100.00</td>\n",
       "    </tr>\n",
       "    <tr>\n",
       "      <th>Net Cash from Operating Activities</th>\n",
       "      <td>100.00</td>\n",
       "    </tr>\n",
       "    <tr>\n",
       "      <th>Publish Date_c</th>\n",
       "      <td>100.00</td>\n",
       "    </tr>\n",
       "    <tr>\n",
       "      <th>Fiscal Period_c</th>\n",
       "      <td>100.00</td>\n",
       "    </tr>\n",
       "    <tr>\n",
       "      <th>Total Liabilities</th>\n",
       "      <td>100.00</td>\n",
       "    </tr>\n",
       "    <tr>\n",
       "      <th>Total Current Liabilities</th>\n",
       "      <td>100.00</td>\n",
       "    </tr>\n",
       "    <tr>\n",
       "      <th>Total Assets</th>\n",
       "      <td>100.00</td>\n",
       "    </tr>\n",
       "    <tr>\n",
       "      <th>Ticker</th>\n",
       "      <td>100.00</td>\n",
       "    </tr>\n",
       "    <tr>\n",
       "      <th>Net Income (Common)</th>\n",
       "      <td>100.00</td>\n",
       "    </tr>\n",
       "    <tr>\n",
       "      <th>Fiscal Year</th>\n",
       "      <td>100.00</td>\n",
       "    </tr>\n",
       "    <tr>\n",
       "      <th>Report Date</th>\n",
       "      <td>100.00</td>\n",
       "    </tr>\n",
       "    <tr>\n",
       "      <th>SimFinId</th>\n",
       "      <td>100.00</td>\n",
       "    </tr>\n",
       "    <tr>\n",
       "      <th>Company Name</th>\n",
       "      <td>100.00</td>\n",
       "    </tr>\n",
       "    <tr>\n",
       "      <th>IndustryId</th>\n",
       "      <td>100.00</td>\n",
       "    </tr>\n",
       "    <tr>\n",
       "      <th>Sector</th>\n",
       "      <td>100.00</td>\n",
       "    </tr>\n",
       "    <tr>\n",
       "      <th>Industry</th>\n",
       "      <td>100.00</td>\n",
       "    </tr>\n",
       "    <tr>\n",
       "      <th>Total Liabilities &amp; Equity</th>\n",
       "      <td>100.00</td>\n",
       "    </tr>\n",
       "    <tr>\n",
       "      <th>Total Equity</th>\n",
       "      <td>99.99</td>\n",
       "    </tr>\n",
       "    <tr>\n",
       "      <th>Total Current Assets</th>\n",
       "      <td>99.97</td>\n",
       "    </tr>\n",
       "    <tr>\n",
       "      <th>Operating Income (Loss)</th>\n",
       "      <td>99.97</td>\n",
       "    </tr>\n",
       "    <tr>\n",
       "      <th>Cash, Cash Equivalents &amp; Short Term Investments</th>\n",
       "      <td>99.78</td>\n",
       "    </tr>\n",
       "    <tr>\n",
       "      <th>Net Income/Starting Line</th>\n",
       "      <td>99.65</td>\n",
       "    </tr>\n",
       "    <tr>\n",
       "      <th>Operating Expenses</th>\n",
       "      <td>99.54</td>\n",
       "    </tr>\n",
       "    <tr>\n",
       "      <th>Revenue</th>\n",
       "      <td>98.52</td>\n",
       "    </tr>\n",
       "    <tr>\n",
       "      <th>Depreciation &amp; Amortization</th>\n",
       "      <td>98.33</td>\n",
       "    </tr>\n",
       "    <tr>\n",
       "      <th>Shares (Diluted)</th>\n",
       "      <td>97.21</td>\n",
       "    </tr>\n",
       "    <tr>\n",
       "      <th>Income Tax (Expense) Benefit, Net</th>\n",
       "      <td>94.68</td>\n",
       "    </tr>\n",
       "    <tr>\n",
       "      <th>Accounts &amp; Notes Receivable</th>\n",
       "      <td>92.24</td>\n",
       "    </tr>\n",
       "    <tr>\n",
       "      <th>Cost of Revenue</th>\n",
       "      <td>91.25</td>\n",
       "    </tr>\n",
       "    <tr>\n",
       "      <th>Interest Expense, Net</th>\n",
       "      <td>88.36</td>\n",
       "    </tr>\n",
       "    <tr>\n",
       "      <th>Long Term Debt</th>\n",
       "      <td>79.21</td>\n",
       "    </tr>\n",
       "    <tr>\n",
       "      <th>Inventories</th>\n",
       "      <td>70.01</td>\n",
       "    </tr>\n",
       "  </tbody>\n",
       "</table>\n",
       "</div>"
      ],
      "text/plain": [
       "                                                   Prop\n",
       "index                                            100.00\n",
       "Income (Loss) from Continuing Operations         100.00\n",
       "Pretax Income (Loss), Adj.                       100.00\n",
       "Dividends Paid                                   100.00\n",
       "Net Cash from Operating Activities               100.00\n",
       "Publish Date_c                                   100.00\n",
       "Fiscal Period_c                                  100.00\n",
       "Total Liabilities                                100.00\n",
       "Total Current Liabilities                        100.00\n",
       "Total Assets                                     100.00\n",
       "Ticker                                           100.00\n",
       "Net Income (Common)                              100.00\n",
       "Fiscal Year                                      100.00\n",
       "Report Date                                      100.00\n",
       "SimFinId                                         100.00\n",
       "Company Name                                     100.00\n",
       "IndustryId                                       100.00\n",
       "Sector                                           100.00\n",
       "Industry                                         100.00\n",
       "Total Liabilities & Equity                       100.00\n",
       "Total Equity                                      99.99\n",
       "Total Current Assets                              99.97\n",
       "Operating Income (Loss)                           99.97\n",
       "Cash, Cash Equivalents & Short Term Investments   99.78\n",
       "Net Income/Starting Line                          99.65\n",
       "Operating Expenses                                99.54\n",
       "Revenue                                           98.52\n",
       "Depreciation & Amortization                       98.33\n",
       "Shares (Diluted)                                  97.21\n",
       "Income Tax (Expense) Benefit, Net                 94.68\n",
       "Accounts & Notes Receivable                       92.24\n",
       "Cost of Revenue                                   91.25\n",
       "Interest Expense, Net                             88.36\n",
       "Long Term Debt                                    79.21\n",
       "Inventories                                       70.01"
      ]
     },
     "execution_count": 308,
     "metadata": {},
     "output_type": "execute_result"
    }
   ],
   "source": [
    "#选取所需的column\n",
    "cols1 = ['Ticker', 'SimFinId', 'Company Name', 'IndustryId', 'Sector',\n",
    "       'Industry', 'Report Date', 'Fiscal Year', 'Shares (Diluted)',\n",
    "        'Revenue','Cost of Revenue',  'Operating Expenses',\n",
    "       'Operating Income (Loss)', 'Interest Expense, Net', \n",
    "       'Income Tax (Expense) Benefit, Net',\n",
    "       'Income (Loss) from Continuing Operations', 'Net Income (Common)',\n",
    "       'Cash, Cash Equivalents & Short Term Investments',\n",
    "       'Accounts & Notes Receivable', 'Inventories', 'Total Current Assets',\n",
    "        'Total Assets',  'Total Current Liabilities', 'Long Term Debt',\n",
    "        'Total Liabilities', 'Total Equity', \n",
    "       'Fiscal Period_c', 'Publish Date_c', 'Net Income/Starting Line',\n",
    "       'Depreciation & Amortization', 'Net Cash from Operating Activities',\n",
    "        'Dividends Paid']\n",
    "#columns used to calculate missing values\n",
    "cols2 = [ \"Pretax Income (Loss), Adj.\",'Total Liabilities & Equity']\n",
    "#drop rows where Industry is missing\n",
    "df = df4[cols1+cols2][df4['Industry'].notnull()]\n",
    "#fill dividend with 0 \n",
    "df['Dividends Paid'] = df['Dividends Paid'].fillna(0)\n",
    "prop_nonmissing(df).sort_values(by='Prop', ascending = False)"
   ]
  },
  {
   "cell_type": "code",
   "execution_count": 209,
   "metadata": {},
   "outputs": [
    {
     "data": {
      "text/plain": [
       "6676"
      ]
     },
     "execution_count": 209,
     "metadata": {},
     "output_type": "execute_result"
    },
    {
     "data": {
      "text/plain": [
       "954"
      ]
     },
     "execution_count": 209,
     "metadata": {},
     "output_type": "execute_result"
    }
   ],
   "source": [
    "#count the number of rows with no missing values. \n",
    "df.notnull().all(axis=1).sum() #6676行没missing value\n",
    "#count the number of companies with no missing value\n",
    "df[df.notnull().all(axis=1)]['Ticker'].nunique() #954个公司完全没有missing value"
   ]
  },
  {
   "cell_type": "code",
   "execution_count": 243,
   "metadata": {},
   "outputs": [
    {
     "data": {
      "text/html": [
       "<div>\n",
       "<style scoped>\n",
       "    .dataframe tbody tr th:only-of-type {\n",
       "        vertical-align: middle;\n",
       "    }\n",
       "\n",
       "    .dataframe tbody tr th {\n",
       "        vertical-align: top;\n",
       "    }\n",
       "\n",
       "    .dataframe thead th {\n",
       "        text-align: right;\n",
       "    }\n",
       "</style>\n",
       "<table border=\"1\" class=\"dataframe\">\n",
       "  <thead>\n",
       "    <tr style=\"text-align: right;\">\n",
       "      <th></th>\n",
       "      <th>ratios</th>\n",
       "      <th>assignment</th>\n",
       "    </tr>\n",
       "  </thead>\n",
       "  <tbody>\n",
       "    <tr>\n",
       "      <th>0</th>\n",
       "      <td>Shares (Diluted)</td>\n",
       "      <td>Zhenzhen</td>\n",
       "    </tr>\n",
       "    <tr>\n",
       "      <th>1</th>\n",
       "      <td>Revenue</td>\n",
       "      <td>Zhenzhen</td>\n",
       "    </tr>\n",
       "    <tr>\n",
       "      <th>2</th>\n",
       "      <td>Cost of Revenue</td>\n",
       "      <td>Xinru</td>\n",
       "    </tr>\n",
       "    <tr>\n",
       "      <th>3</th>\n",
       "      <td>Operating Expenses</td>\n",
       "      <td>Xinru</td>\n",
       "    </tr>\n",
       "    <tr>\n",
       "      <th>4</th>\n",
       "      <td>Operating Income (Loss)</td>\n",
       "      <td>Yimeng</td>\n",
       "    </tr>\n",
       "    <tr>\n",
       "      <th>5</th>\n",
       "      <td>Interest Expense, Net</td>\n",
       "      <td>Xinru</td>\n",
       "    </tr>\n",
       "    <tr>\n",
       "      <th>6</th>\n",
       "      <td>Income Tax (Expense) Benefit, Net</td>\n",
       "      <td>Zhenzhen</td>\n",
       "    </tr>\n",
       "    <tr>\n",
       "      <th>7</th>\n",
       "      <td>Cash, Cash Equivalents &amp; Short Term Investments</td>\n",
       "      <td>Xinru</td>\n",
       "    </tr>\n",
       "    <tr>\n",
       "      <th>8</th>\n",
       "      <td>Accounts &amp; Notes Receivable</td>\n",
       "      <td>Xinru</td>\n",
       "    </tr>\n",
       "    <tr>\n",
       "      <th>9</th>\n",
       "      <td>Inventories</td>\n",
       "      <td>Zhenzhen</td>\n",
       "    </tr>\n",
       "    <tr>\n",
       "      <th>10</th>\n",
       "      <td>Total Current Assets</td>\n",
       "      <td>Yimeng</td>\n",
       "    </tr>\n",
       "    <tr>\n",
       "      <th>11</th>\n",
       "      <td>Long Term Debt</td>\n",
       "      <td>Zhenzhen</td>\n",
       "    </tr>\n",
       "    <tr>\n",
       "      <th>12</th>\n",
       "      <td>Total Equity</td>\n",
       "      <td>Yimeng</td>\n",
       "    </tr>\n",
       "    <tr>\n",
       "      <th>13</th>\n",
       "      <td>Net Income/Starting Line</td>\n",
       "      <td>Yimeng</td>\n",
       "    </tr>\n",
       "    <tr>\n",
       "      <th>14</th>\n",
       "      <td>Depreciation &amp; Amortization</td>\n",
       "      <td>Yimeng</td>\n",
       "    </tr>\n",
       "  </tbody>\n",
       "</table>\n",
       "</div>"
      ],
      "text/plain": [
       "                                             ratios assignment\n",
       "0                                  Shares (Diluted)   Zhenzhen\n",
       "1                                           Revenue   Zhenzhen\n",
       "2                                   Cost of Revenue      Xinru\n",
       "3                                Operating Expenses      Xinru\n",
       "4                           Operating Income (Loss)     Yimeng\n",
       "5                             Interest Expense, Net      Xinru\n",
       "6                 Income Tax (Expense) Benefit, Net   Zhenzhen\n",
       "7   Cash, Cash Equivalents & Short Term Investments      Xinru\n",
       "8                       Accounts & Notes Receivable      Xinru\n",
       "9                                       Inventories   Zhenzhen\n",
       "10                             Total Current Assets     Yimeng\n",
       "11                                   Long Term Debt   Zhenzhen\n",
       "12                                     Total Equity     Yimeng\n",
       "13                         Net Income/Starting Line     Yimeng\n",
       "14                      Depreciation & Amortization     Yimeng"
      ]
     },
     "execution_count": 243,
     "metadata": {},
     "output_type": "execute_result"
    }
   ],
   "source": [
    "#assign columns to three members \n",
    "random.seed(4996)\n",
    "rand = random.sample(['Yimeng','Zhenzhen','Xinru']*5, 15)\n",
    "assign = {'ratios': df.columns[df.isnull().any()], 'assignment': rand}\n",
    "pd.DataFrame(assign)"
   ]
  },
  {
   "cell_type": "markdown",
   "metadata": {},
   "source": [
    "## Finding Correlations"
   ]
  },
  {
   "cell_type": "markdown",
   "metadata": {},
   "source": [
    "### Operating Income"
   ]
  },
  {
   "cell_type": "code",
   "execution_count": 212,
   "metadata": {},
   "outputs": [
    {
     "data": {
      "text/html": [
       "<div>\n",
       "<style scoped>\n",
       "    .dataframe tbody tr th:only-of-type {\n",
       "        vertical-align: middle;\n",
       "    }\n",
       "\n",
       "    .dataframe tbody tr th {\n",
       "        vertical-align: top;\n",
       "    }\n",
       "\n",
       "    .dataframe thead th {\n",
       "        text-align: right;\n",
       "    }\n",
       "</style>\n",
       "<table border=\"1\" class=\"dataframe\">\n",
       "  <thead>\n",
       "    <tr style=\"text-align: right;\">\n",
       "      <th></th>\n",
       "      <th>Operating Income (Loss)</th>\n",
       "    </tr>\n",
       "  </thead>\n",
       "  <tbody>\n",
       "    <tr>\n",
       "      <th>Operating Income (Loss)</th>\n",
       "      <td>1.000000</td>\n",
       "    </tr>\n",
       "    <tr>\n",
       "      <th>Pretax Income (Loss), Adj.</th>\n",
       "      <td>0.947483</td>\n",
       "    </tr>\n",
       "    <tr>\n",
       "      <th>Pretax Income (Loss)</th>\n",
       "      <td>0.920440</td>\n",
       "    </tr>\n",
       "    <tr>\n",
       "      <th>Gross Profit</th>\n",
       "      <td>0.873886</td>\n",
       "    </tr>\n",
       "    <tr>\n",
       "      <th>Net Cash from Operating Activities</th>\n",
       "      <td>0.869203</td>\n",
       "    </tr>\n",
       "    <tr>\n",
       "      <th>Income (Loss) from Continuing Operations</th>\n",
       "      <td>0.865969</td>\n",
       "    </tr>\n",
       "    <tr>\n",
       "      <th>Net Income/Starting Line</th>\n",
       "      <td>0.857612</td>\n",
       "    </tr>\n",
       "    <tr>\n",
       "      <th>Net Income</th>\n",
       "      <td>0.854496</td>\n",
       "    </tr>\n",
       "    <tr>\n",
       "      <th>Net Income (Common)</th>\n",
       "      <td>0.854224</td>\n",
       "    </tr>\n",
       "    <tr>\n",
       "      <th>Income Tax (Expense) Benefit, Net</th>\n",
       "      <td>0.816792</td>\n",
       "    </tr>\n",
       "  </tbody>\n",
       "</table>\n",
       "</div>"
      ],
      "text/plain": [
       "                                          Operating Income (Loss)\n",
       "Operating Income (Loss)                                  1.000000\n",
       "Pretax Income (Loss), Adj.                               0.947483\n",
       "Pretax Income (Loss)                                     0.920440\n",
       "Gross Profit                                             0.873886\n",
       "Net Cash from Operating Activities                       0.869203\n",
       "Income (Loss) from Continuing Operations                 0.865969\n",
       "Net Income/Starting Line                                 0.857612\n",
       "Net Income                                               0.854496\n",
       "Net Income (Common)                                      0.854224\n",
       "Income Tax (Expense) Benefit, Net                        0.816792"
      ]
     },
     "execution_count": 212,
     "metadata": {},
     "output_type": "execute_result"
    },
    {
     "data": {
      "text/plain": [
       "False"
      ]
     },
     "execution_count": 212,
     "metadata": {},
     "output_type": "execute_result"
    }
   ],
   "source": [
    "#find the columns that has correlation with Operating Income larger than 0.7\n",
    "corr = df4.corr()\n",
    "abs(corr[['Operating Income (Loss)']])[abs(corr['Operating Income (Loss)']) > 0.8].sort_values(by = 'Operating Income (Loss)', ascending = False )\n",
    "#get those columns' names\n",
    "names = abs(corr[['Operating Income (Loss)']])[abs(corr['Operating Income (Loss)']) > 0.8].sort_values(by = 'Operating Income (Loss)', ascending = False ).index.values.tolist()\n",
    "\n",
    "#Pretax Income(Loss) has the highest correlation\n",
    "#check if it has missing value in rows where Operating Income is null: 100% non-missing\n",
    "df4[df4['Operating Income (Loss)'].isnull()]['Pretax Income (Loss), Adj.'].isnull().any()"
   ]
  },
  {
   "cell_type": "code",
   "execution_count": 213,
   "metadata": {},
   "outputs": [
    {
     "data": {
      "text/plain": [
       "<matplotlib.axes._subplots.AxesSubplot at 0x2595fb4ba48>"
      ]
     },
     "execution_count": 213,
     "metadata": {},
     "output_type": "execute_result"
    },
    {
     "data": {
      "text/plain": [
       "Text(0.5, 0, 'Pretax Income (Loss), Adj.')"
      ]
     },
     "execution_count": 213,
     "metadata": {},
     "output_type": "execute_result"
    },
    {
     "data": {
      "text/plain": [
       "Text(0, 0.5, 'Operating Income (Loss)')"
      ]
     },
     "execution_count": 213,
     "metadata": {},
     "output_type": "execute_result"
    },
    {
     "data": {
      "image/png": "[encoded data removed]",
      "text/plain": [
       "<Figure size 432x288 with 1 Axes>"
      ]
     },
     "metadata": {
      "needs_background": "light"
     },
     "output_type": "display_data"
    }
   ],
   "source": [
    "#check the linearity: pretty linear  \n",
    "mydata = df4[[\"Operating Income (Loss)\", \"Pretax Income (Loss), Adj.\"]].dropna(how=\"any\")\n",
    "mydata.plot(kind= 'scatter', x=\"Pretax Income (Loss), Adj.\", y=\"Operating Income (Loss)\")\n",
    "plt.xlabel(\"Pretax Income (Loss), Adj.\")\n",
    "plt.ylabel(\"Operating Income (Loss)\")\n",
    "plt.show()"
   ]
  },
  {
   "cell_type": "code",
   "execution_count": 276,
   "metadata": {},
   "outputs": [
    {
     "data": {
      "text/plain": [
       "LinearRegression(copy_X=True, fit_intercept=True, n_jobs=None, normalize=False)"
      ]
     },
     "execution_count": 276,
     "metadata": {},
     "output_type": "execute_result"
    }
   ],
   "source": [
    "#fit linear regression and use the fitted value to fill missing value\n",
    "regressor = LinearRegression()  \n",
    "train = df[[\"Pretax Income (Loss), Adj.\",\"Operating Income (Loss)\" ]][df[\"Operating Income (Loss)\" ].notnull()]\n",
    "regressor.fit(train.iloc[:,0].values.reshape(-1,1), train.iloc[:,1].values.reshape(-1,1)) #training the algorithm\n",
    "predict1 =  regressor.predict(df[\"Pretax Income (Loss), Adj.\"].values.reshape(-1,1))"
   ]
  },
  {
   "cell_type": "code",
   "execution_count": 220,
   "metadata": {},
   "outputs": [
    {
     "data": {
      "text/plain": [
       "[<matplotlib.lines.Line2D at 0x2595f9ef308>]"
      ]
     },
     "execution_count": 220,
     "metadata": {},
     "output_type": "execute_result"
    },
    {
     "data": {
      "text/plain": [
       "<matplotlib.collections.PathCollection at 0x2595fad6908>"
      ]
     },
     "execution_count": 220,
     "metadata": {},
     "output_type": "execute_result"
    },
    {
     "data": {
      "image/png": "[encoded data removed]",
      "text/plain": [
       "<Figure size 432x288 with 1 Axes>"
      ]
     },
     "metadata": {
      "needs_background": "light"
     },
     "output_type": "display_data"
    }
   ],
   "source": [
    "#check result \n",
    "plt.plot(df[\"Pretax Income (Loss), Adj.\"].values.reshape(-1,1), predict1, color='red', linewidth=2)\n",
    "plt.scatter(mydata[\"Pretax Income (Loss), Adj.\"], mydata[\"Operating Income (Loss)\"])\n",
    "plt.show()"
   ]
  },
  {
   "cell_type": "code",
   "execution_count": 240,
   "metadata": {},
   "outputs": [],
   "source": [
    "#assign fitted value to missing value\n",
    "df.loc[df[\"Operating Income (Loss)\"].isnull(),\"Operating Income (Loss)\"]=list(predict1.reshape(-1)[np.array(df[\"Operating Income (Loss)\"].isnull())])"
   ]
  },
  {
   "cell_type": "markdown",
   "metadata": {},
   "source": [
    "### Total current asset"
   ]
  },
  {
   "cell_type": "code",
   "execution_count": 257,
   "metadata": {},
   "outputs": [
    {
     "data": {
      "text/html": [
       "<div>\n",
       "<style scoped>\n",
       "    .dataframe tbody tr th:only-of-type {\n",
       "        vertical-align: middle;\n",
       "    }\n",
       "\n",
       "    .dataframe tbody tr th {\n",
       "        vertical-align: top;\n",
       "    }\n",
       "\n",
       "    .dataframe thead th {\n",
       "        text-align: right;\n",
       "    }\n",
       "</style>\n",
       "<table border=\"1\" class=\"dataframe\">\n",
       "  <thead>\n",
       "    <tr style=\"text-align: right;\">\n",
       "      <th></th>\n",
       "      <th>Total Current Assets</th>\n",
       "    </tr>\n",
       "  </thead>\n",
       "  <tbody>\n",
       "    <tr>\n",
       "      <th>Total Current Assets</th>\n",
       "      <td>1.000000</td>\n",
       "    </tr>\n",
       "    <tr>\n",
       "      <th>Research &amp; Development</th>\n",
       "      <td>0.837776</td>\n",
       "    </tr>\n",
       "    <tr>\n",
       "      <th>Total Liabilities</th>\n",
       "      <td>0.810185</td>\n",
       "    </tr>\n",
       "    <tr>\n",
       "      <th>Total Current Liabilities</th>\n",
       "      <td>0.809414</td>\n",
       "    </tr>\n",
       "    <tr>\n",
       "      <th>Total Assets</th>\n",
       "      <td>0.801755</td>\n",
       "    </tr>\n",
       "    <tr>\n",
       "      <th>Total Liabilities &amp; Equity</th>\n",
       "      <td>0.801754</td>\n",
       "    </tr>\n",
       "  </tbody>\n",
       "</table>\n",
       "</div>"
      ],
      "text/plain": [
       "                            Total Current Assets\n",
       "Total Current Assets                    1.000000\n",
       "Research & Development                  0.837776\n",
       "Total Liabilities                       0.810185\n",
       "Total Current Liabilities               0.809414\n",
       "Total Assets                            0.801755\n",
       "Total Liabilities & Equity              0.801754"
      ]
     },
     "execution_count": 257,
     "metadata": {},
     "output_type": "execute_result"
    },
    {
     "data": {
      "text/html": [
       "<div>\n",
       "<style scoped>\n",
       "    .dataframe tbody tr th:only-of-type {\n",
       "        vertical-align: middle;\n",
       "    }\n",
       "\n",
       "    .dataframe tbody tr th {\n",
       "        vertical-align: top;\n",
       "    }\n",
       "\n",
       "    .dataframe thead th {\n",
       "        text-align: right;\n",
       "    }\n",
       "</style>\n",
       "<table border=\"1\" class=\"dataframe\">\n",
       "  <thead>\n",
       "    <tr style=\"text-align: right;\">\n",
       "      <th></th>\n",
       "      <th>Prop</th>\n",
       "    </tr>\n",
       "  </thead>\n",
       "  <tbody>\n",
       "    <tr>\n",
       "      <th>index</th>\n",
       "      <td>100.0</td>\n",
       "    </tr>\n",
       "    <tr>\n",
       "      <th>Research &amp; Development</th>\n",
       "      <td>0.0</td>\n",
       "    </tr>\n",
       "    <tr>\n",
       "      <th>Total Current Assets</th>\n",
       "      <td>0.0</td>\n",
       "    </tr>\n",
       "    <tr>\n",
       "      <th>Total Assets</th>\n",
       "      <td>100.0</td>\n",
       "    </tr>\n",
       "    <tr>\n",
       "      <th>Total Current Liabilities</th>\n",
       "      <td>100.0</td>\n",
       "    </tr>\n",
       "    <tr>\n",
       "      <th>Total Liabilities</th>\n",
       "      <td>100.0</td>\n",
       "    </tr>\n",
       "    <tr>\n",
       "      <th>Total Liabilities &amp; Equity</th>\n",
       "      <td>100.0</td>\n",
       "    </tr>\n",
       "  </tbody>\n",
       "</table>\n",
       "</div>"
      ],
      "text/plain": [
       "                             Prop\n",
       "index                       100.0\n",
       "Research & Development        0.0\n",
       "Total Current Assets          0.0\n",
       "Total Assets                100.0\n",
       "Total Current Liabilities   100.0\n",
       "Total Liabilities           100.0\n",
       "Total Liabilities & Equity  100.0"
      ]
     },
     "execution_count": 257,
     "metadata": {},
     "output_type": "execute_result"
    }
   ],
   "source": [
    "#find the columns that has correlation with Operating Income larger than 0.8\n",
    "abs(corr[['Total Current Assets']])[abs(corr['Total Current Assets']) > 0.8].sort_values(by = 'Total Current Assets', ascending = False )\n",
    "#get those columns' names\n",
    "names = abs(corr[['Total Current Assets']])[abs(corr['Total Current Assets']) > 0.8].index.values.tolist()\n",
    "\n",
    "#check whether these column have missing value when total current asset is null\n",
    "prop_nonmissing(df4[df4['Total Current Assets'].isnull()][names])\n",
    "#total liabilities have the best performance, lets check for linearity"
   ]
  },
  {
   "cell_type": "code",
   "execution_count": 271,
   "metadata": {},
   "outputs": [
    {
     "data": {
      "text/plain": [
       "<matplotlib.axes._subplots.AxesSubplot at 0x2595c48ed48>"
      ]
     },
     "execution_count": 271,
     "metadata": {},
     "output_type": "execute_result"
    },
    {
     "data": {
      "text/plain": [
       "Text(0.5, 0, 'Total Liabilities')"
      ]
     },
     "execution_count": 271,
     "metadata": {},
     "output_type": "execute_result"
    },
    {
     "data": {
      "text/plain": [
       "Text(0, 0.5, 'Total Current Assets')"
      ]
     },
     "execution_count": 271,
     "metadata": {},
     "output_type": "execute_result"
    },
    {
     "data": {
      "image/png": "[encoded data removed]",
      "text/plain": [
       "<Figure size 432x288 with 1 Axes>"
      ]
     },
     "metadata": {
      "needs_background": "light"
     },
     "output_type": "display_data"
    }
   ],
   "source": [
    "#check the linearity: pretty linear  \n",
    "mydata = df4[['Total Current Assets', \"Total Liabilities\",\"Total Current Liabilities\" ]].dropna(how=\"any\")\n",
    "mydata.plot(kind= 'scatter', x=\"Total Liabilities\", y='Total Current Assets')\n",
    "plt.xlabel(\"Total Liabilities\")\n",
    "plt.ylabel('Total Current Assets')"
   ]
  },
  {
   "cell_type": "code",
   "execution_count": 285,
   "metadata": {},
   "outputs": [
    {
     "data": {
      "text/plain": [
       "LinearRegression(copy_X=True, fit_intercept=True, n_jobs=None, normalize=False)"
      ]
     },
     "execution_count": 285,
     "metadata": {},
     "output_type": "execute_result"
    }
   ],
   "source": [
    "#fit linear regression and use the fitted value to fill missing value\n",
    "regressor = LinearRegression()  \n",
    "train = df[[\"Total Liabilities\",'Total Current Assets']][df['Total Current Assets'].notnull()]\n",
    "regressor.fit(train.iloc[:,0].values.reshape(-1,1), train.iloc[:,1].values.reshape(-1,1)) #training the algorithm\n",
    "predict =  regressor.predict(df[\"Total Liabilities\"].values.reshape(-1,1))"
   ]
  },
  {
   "cell_type": "code",
   "execution_count": 284,
   "metadata": {},
   "outputs": [
    {
     "data": {
      "text/plain": [
       "[<matplotlib.lines.Line2D at 0x2596158f108>]"
      ]
     },
     "execution_count": 284,
     "metadata": {},
     "output_type": "execute_result"
    },
    {
     "data": {
      "text/plain": [
       "<matplotlib.collections.PathCollection at 0x25963b266c8>"
      ]
     },
     "execution_count": 284,
     "metadata": {},
     "output_type": "execute_result"
    },
    {
     "data": {
      "image/png": "[encoded data removed]",
      "text/plain": [
       "<Figure size 432x288 with 1 Axes>"
      ]
     },
     "metadata": {
      "needs_background": "light"
     },
     "output_type": "display_data"
    }
   ],
   "source": [
    "#check result \n",
    "plt.plot(df[\"Total Liabilities\"].values.reshape(-1,1), predict, color='red', linewidth=2)\n",
    "plt.scatter(mydata[\"Total Liabilities\"], mydata['Total Current Assets'])\n",
    "plt.show()"
   ]
  },
  {
   "cell_type": "code",
   "execution_count": 286,
   "metadata": {},
   "outputs": [],
   "source": [
    "#assign fitted value to missing value\n",
    "df.loc[df['Total Current Assets'].isnull(),'Total Current Assets']=list(predict.reshape(-1)[np.array(df['Total Current Assets'].isnull())])"
   ]
  },
  {
   "cell_type": "markdown",
   "metadata": {},
   "source": [
    "### Total Equity"
   ]
  },
  {
   "cell_type": "code",
   "execution_count": 315,
   "metadata": {},
   "outputs": [
    {
     "data": {
      "text/html": [
       "<div>\n",
       "<style scoped>\n",
       "    .dataframe tbody tr th:only-of-type {\n",
       "        vertical-align: middle;\n",
       "    }\n",
       "\n",
       "    .dataframe tbody tr th {\n",
       "        vertical-align: top;\n",
       "    }\n",
       "\n",
       "    .dataframe thead th {\n",
       "        text-align: right;\n",
       "    }\n",
       "</style>\n",
       "<table border=\"1\" class=\"dataframe\">\n",
       "  <thead>\n",
       "    <tr style=\"text-align: right;\">\n",
       "      <th></th>\n",
       "      <th>Prop</th>\n",
       "    </tr>\n",
       "  </thead>\n",
       "  <tbody>\n",
       "    <tr>\n",
       "      <th>index</th>\n",
       "      <td>100.0</td>\n",
       "    </tr>\n",
       "    <tr>\n",
       "      <th>Total Liabilities</th>\n",
       "      <td>100.0</td>\n",
       "    </tr>\n",
       "    <tr>\n",
       "      <th>Total Liabilities &amp; Equity</th>\n",
       "      <td>100.0</td>\n",
       "    </tr>\n",
       "  </tbody>\n",
       "</table>\n",
       "</div>"
      ],
      "text/plain": [
       "                             Prop\n",
       "index                       100.0\n",
       "Total Liabilities           100.0\n",
       "Total Liabilities & Equity  100.0"
      ]
     },
     "execution_count": 315,
     "metadata": {},
     "output_type": "execute_result"
    },
    {
     "data": {
      "text/html": [
       "<div>\n",
       "<style scoped>\n",
       "    .dataframe tbody tr th:only-of-type {\n",
       "        vertical-align: middle;\n",
       "    }\n",
       "\n",
       "    .dataframe tbody tr th {\n",
       "        vertical-align: top;\n",
       "    }\n",
       "\n",
       "    .dataframe thead th {\n",
       "        text-align: right;\n",
       "    }\n",
       "</style>\n",
       "<table border=\"1\" class=\"dataframe\">\n",
       "  <thead>\n",
       "    <tr style=\"text-align: right;\">\n",
       "      <th></th>\n",
       "      <th>Ticker</th>\n",
       "      <th>SimFinId</th>\n",
       "      <th>Company Name</th>\n",
       "      <th>IndustryId</th>\n",
       "      <th>Sector</th>\n",
       "      <th>Industry</th>\n",
       "      <th>Report Date</th>\n",
       "      <th>Fiscal Year</th>\n",
       "      <th>Shares (Diluted)</th>\n",
       "      <th>Revenue</th>\n",
       "      <th>Cost of Revenue</th>\n",
       "      <th>Operating Expenses</th>\n",
       "      <th>Operating Income (Loss)</th>\n",
       "      <th>Interest Expense, Net</th>\n",
       "      <th>Income Tax (Expense) Benefit, Net</th>\n",
       "      <th>Income (Loss) from Continuing Operations</th>\n",
       "      <th>Net Income (Common)</th>\n",
       "      <th>Cash, Cash Equivalents &amp; Short Term Investments</th>\n",
       "      <th>Accounts &amp; Notes Receivable</th>\n",
       "      <th>Inventories</th>\n",
       "      <th>Total Current Assets</th>\n",
       "      <th>Total Assets</th>\n",
       "      <th>Total Current Liabilities</th>\n",
       "      <th>Long Term Debt</th>\n",
       "      <th>Total Liabilities</th>\n",
       "      <th>Total Equity</th>\n",
       "      <th>Fiscal Period_c</th>\n",
       "      <th>Publish Date_c</th>\n",
       "      <th>Net Income/Starting Line</th>\n",
       "      <th>Depreciation &amp; Amortization</th>\n",
       "      <th>Net Cash from Operating Activities</th>\n",
       "      <th>Dividends Paid</th>\n",
       "      <th>Pretax Income (Loss), Adj.</th>\n",
       "      <th>Total Liabilities &amp; Equity</th>\n",
       "    </tr>\n",
       "  </thead>\n",
       "  <tbody>\n",
       "    <tr>\n",
       "      <th>3165</th>\n",
       "      <td>CNNX</td>\n",
       "      <td>208611</td>\n",
       "      <td>CONE Midstream Partners LP</td>\n",
       "      <td>107003.0</td>\n",
       "      <td>Energy</td>\n",
       "      <td>Oil &amp; Gas - Midstream</td>\n",
       "      <td>2013-12-31</td>\n",
       "      <td>2013</td>\n",
       "      <td>NaN</td>\n",
       "      <td>65626000.0</td>\n",
       "      <td>-16669000.0</td>\n",
       "      <td>-20833000.0</td>\n",
       "      <td>28124000.0</td>\n",
       "      <td>0.0</td>\n",
       "      <td>NaN</td>\n",
       "      <td>28124000</td>\n",
       "      <td>28124000</td>\n",
       "      <td>5976000.0</td>\n",
       "      <td>NaN</td>\n",
       "      <td>NaN</td>\n",
       "      <td>21148000.0</td>\n",
       "      <td>409264000</td>\n",
       "      <td>41190000</td>\n",
       "      <td>368074000.0</td>\n",
       "      <td>409264000</td>\n",
       "      <td>NaN</td>\n",
       "      <td>FY</td>\n",
       "      <td>2014-10-30</td>\n",
       "      <td>28124000.0</td>\n",
       "      <td>5825000.0</td>\n",
       "      <td>34514000</td>\n",
       "      <td>0.0</td>\n",
       "      <td>28124000</td>\n",
       "      <td>409264000</td>\n",
       "    </tr>\n",
       "  </tbody>\n",
       "</table>\n",
       "</div>"
      ],
      "text/plain": [
       "     Ticker  SimFinId                Company Name  IndustryId  Sector  \\\n",
       "3165   CNNX    208611  CONE Midstream Partners LP    107003.0  Energy   \n",
       "\n",
       "                   Industry Report Date  Fiscal Year  Shares (Diluted)  \\\n",
       "3165  Oil & Gas - Midstream  2013-12-31         2013               NaN   \n",
       "\n",
       "         Revenue  Cost of Revenue  Operating Expenses  \\\n",
       "3165  65626000.0      -16669000.0         -20833000.0   \n",
       "\n",
       "      Operating Income (Loss)  Interest Expense, Net  \\\n",
       "3165               28124000.0                    0.0   \n",
       "\n",
       "      Income Tax (Expense) Benefit, Net  \\\n",
       "3165                                NaN   \n",
       "\n",
       "      Income (Loss) from Continuing Operations  Net Income (Common)  \\\n",
       "3165                                  28124000             28124000   \n",
       "\n",
       "      Cash, Cash Equivalents & Short Term Investments  \\\n",
       "3165                                        5976000.0   \n",
       "\n",
       "      Accounts & Notes Receivable  Inventories  Total Current Assets  \\\n",
       "3165                          NaN          NaN            21148000.0   \n",
       "\n",
       "      Total Assets  Total Current Liabilities  Long Term Debt  \\\n",
       "3165     409264000                   41190000     368074000.0   \n",
       "\n",
       "      Total Liabilities  Total Equity Fiscal Period_c Publish Date_c  \\\n",
       "3165          409264000           NaN              FY     2014-10-30   \n",
       "\n",
       "      Net Income/Starting Line  Depreciation & Amortization  \\\n",
       "3165                28124000.0                    5825000.0   \n",
       "\n",
       "      Net Cash from Operating Activities  Dividends Paid  \\\n",
       "3165                            34514000             0.0   \n",
       "\n",
       "      Pretax Income (Loss), Adj.  Total Liabilities & Equity  \n",
       "3165                    28124000                   409264000  "
      ]
     },
     "execution_count": 315,
     "metadata": {},
     "output_type": "execute_result"
    }
   ],
   "source": [
    "#we can use formula to fill \n",
    "prop_nonmissing(df4[df4['Total Equity'].isnull()][['Total Liabilities', 'Total Liabilities & Equity']])\n",
    "df[df['Total Equity'].isnull()]"
   ]
  },
  {
   "cell_type": "code",
   "execution_count": 321,
   "metadata": {},
   "outputs": [],
   "source": [
    "#这个公司不存在equity，用0fill\n",
    "df.loc[df['Total Equity'].isnull(),'Total Equity'] = 0"
   ]
  },
  {
   "cell_type": "code",
   "execution_count": null,
   "metadata": {},
   "outputs": [],
   "source": []
  },
  {
   "cell_type": "code",
   "execution_count": 314,
   "metadata": {},
   "outputs": [
    {
     "data": {
      "text/html": [
       "<div>\n",
       "<style scoped>\n",
       "    .dataframe tbody tr th:only-of-type {\n",
       "        vertical-align: middle;\n",
       "    }\n",
       "\n",
       "    .dataframe tbody tr th {\n",
       "        vertical-align: top;\n",
       "    }\n",
       "\n",
       "    .dataframe thead th {\n",
       "        text-align: right;\n",
       "    }\n",
       "</style>\n",
       "<table border=\"1\" class=\"dataframe\">\n",
       "  <thead>\n",
       "    <tr style=\"text-align: right;\">\n",
       "      <th></th>\n",
       "      <th>Ticker</th>\n",
       "      <th>SimFinId</th>\n",
       "      <th>Company Name</th>\n",
       "      <th>IndustryId</th>\n",
       "      <th>Sector</th>\n",
       "      <th>Industry</th>\n",
       "      <th>Report Date</th>\n",
       "      <th>Fiscal Year</th>\n",
       "      <th>Shares (Diluted)</th>\n",
       "      <th>Revenue</th>\n",
       "      <th>Cost of Revenue</th>\n",
       "      <th>Operating Expenses</th>\n",
       "      <th>Operating Income (Loss)</th>\n",
       "      <th>Interest Expense, Net</th>\n",
       "      <th>Income Tax (Expense) Benefit, Net</th>\n",
       "      <th>Income (Loss) from Continuing Operations</th>\n",
       "      <th>Net Income (Common)</th>\n",
       "      <th>Cash, Cash Equivalents &amp; Short Term Investments</th>\n",
       "      <th>Accounts &amp; Notes Receivable</th>\n",
       "      <th>Inventories</th>\n",
       "      <th>Total Current Assets</th>\n",
       "      <th>Total Assets</th>\n",
       "      <th>Total Current Liabilities</th>\n",
       "      <th>Long Term Debt</th>\n",
       "      <th>Total Liabilities</th>\n",
       "      <th>Total Equity</th>\n",
       "      <th>Fiscal Period_c</th>\n",
       "      <th>Publish Date_c</th>\n",
       "      <th>Net Income/Starting Line</th>\n",
       "      <th>Depreciation &amp; Amortization</th>\n",
       "      <th>Net Cash from Operating Activities</th>\n",
       "      <th>Dividends Paid</th>\n",
       "      <th>Pretax Income (Loss), Adj.</th>\n",
       "      <th>Total Liabilities &amp; Equity</th>\n",
       "    </tr>\n",
       "  </thead>\n",
       "  <tbody>\n",
       "    <tr>\n",
       "      <th>3165</th>\n",
       "      <td>CNNX</td>\n",
       "      <td>208611</td>\n",
       "      <td>CONE Midstream Partners LP</td>\n",
       "      <td>107003.0</td>\n",
       "      <td>Energy</td>\n",
       "      <td>Oil &amp; Gas - Midstream</td>\n",
       "      <td>2013-12-31</td>\n",
       "      <td>2013</td>\n",
       "      <td>NaN</td>\n",
       "      <td>65626000.0</td>\n",
       "      <td>-16669000.0</td>\n",
       "      <td>-20833000.0</td>\n",
       "      <td>28124000.0</td>\n",
       "      <td>0.0</td>\n",
       "      <td>NaN</td>\n",
       "      <td>28124000</td>\n",
       "      <td>28124000</td>\n",
       "      <td>5976000.0</td>\n",
       "      <td>NaN</td>\n",
       "      <td>NaN</td>\n",
       "      <td>21148000.0</td>\n",
       "      <td>409264000</td>\n",
       "      <td>41190000</td>\n",
       "      <td>368074000.0</td>\n",
       "      <td>409264000</td>\n",
       "      <td>NaN</td>\n",
       "      <td>FY</td>\n",
       "      <td>2014-10-30</td>\n",
       "      <td>28124000.0</td>\n",
       "      <td>5825000.0</td>\n",
       "      <td>34514000</td>\n",
       "      <td>0.0</td>\n",
       "      <td>28124000</td>\n",
       "      <td>409264000</td>\n",
       "    </tr>\n",
       "  </tbody>\n",
       "</table>\n",
       "</div>"
      ],
      "text/plain": [
       "     Ticker  SimFinId                Company Name  IndustryId  Sector  \\\n",
       "3165   CNNX    208611  CONE Midstream Partners LP    107003.0  Energy   \n",
       "\n",
       "                   Industry Report Date  Fiscal Year  Shares (Diluted)  \\\n",
       "3165  Oil & Gas - Midstream  2013-12-31         2013               NaN   \n",
       "\n",
       "         Revenue  Cost of Revenue  Operating Expenses  \\\n",
       "3165  65626000.0      -16669000.0         -20833000.0   \n",
       "\n",
       "      Operating Income (Loss)  Interest Expense, Net  \\\n",
       "3165               28124000.0                    0.0   \n",
       "\n",
       "      Income Tax (Expense) Benefit, Net  \\\n",
       "3165                                NaN   \n",
       "\n",
       "      Income (Loss) from Continuing Operations  Net Income (Common)  \\\n",
       "3165                                  28124000             28124000   \n",
       "\n",
       "      Cash, Cash Equivalents & Short Term Investments  \\\n",
       "3165                                        5976000.0   \n",
       "\n",
       "      Accounts & Notes Receivable  Inventories  Total Current Assets  \\\n",
       "3165                          NaN          NaN            21148000.0   \n",
       "\n",
       "      Total Assets  Total Current Liabilities  Long Term Debt  \\\n",
       "3165     409264000                   41190000     368074000.0   \n",
       "\n",
       "      Total Liabilities  Total Equity Fiscal Period_c Publish Date_c  \\\n",
       "3165          409264000           NaN              FY     2014-10-30   \n",
       "\n",
       "      Net Income/Starting Line  Depreciation & Amortization  \\\n",
       "3165                28124000.0                    5825000.0   \n",
       "\n",
       "      Net Cash from Operating Activities  Dividends Paid  \\\n",
       "3165                            34514000             0.0   \n",
       "\n",
       "      Pretax Income (Loss), Adj.  Total Liabilities & Equity  \n",
       "3165                    28124000                   409264000  "
      ]
     },
     "execution_count": 314,
     "metadata": {},
     "output_type": "execute_result"
    }
   ],
   "source": []
  }
 ],
 "metadata": {
  "kernelspec": {
   "display_name": "Python 3",
   "language": "python",
   "name": "python3"
  },
  "language_info": {
   "codemirror_mode": {
    "name": "ipython",
    "version": 3
   },
   "file_extension": ".py",
   "mimetype": "text/x-python",
   "name": "python",
   "nbconvert_exporter": "python",
   "pygments_lexer": "ipython3",
   "version": "3.7.4"
  },
  "toc": {
   "base_numbering": 1,
   "nav_menu": {
    "height": "184px",
    "width": "182px"
   },
   "number_sections": true,
   "sideBar": true,
   "skip_h1_title": false,
   "title_cell": "Table of Contents",
   "title_sidebar": "Contents",
   "toc_cell": false,
   "toc_position": {
    "height": "calc(100% - 180px)",
    "left": "10px",
    "top": "150px",
    "width": "384px"
   },
   "toc_section_display": true,
   "toc_window_display": true
  },
  "varInspector": {
   "cols": {
    "lenName": 16,
    "lenType": 16,
    "lenVar": 40
   },
   "kernels_config": {
    "python": {
     "delete_cmd_postfix": "",
     "delete_cmd_prefix": "del ",
     "library": "var_list.py",
     "varRefreshCmd": "print(var_dic_list())"
    },
    "r": {
     "delete_cmd_postfix": ") ",
     "delete_cmd_prefix": "rm(",
     "library": "var_list.r",
     "varRefreshCmd": "cat(var_dic_list()) "
    }
   },
   "position": {
    "height": "602px",
    "left": "1544px",
    "right": "20px",
    "top": "120px",
    "width": "356px"
   },
   "types_to_exclude": [
    "module",
    "function",
    "builtin_function_or_method",
    "instance",
    "_Feature"
   ],
   "window_display": true
  }
 },
 "nbformat": 4,
 "nbformat_minor": 2
}
