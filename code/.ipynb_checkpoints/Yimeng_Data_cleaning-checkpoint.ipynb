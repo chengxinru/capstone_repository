{
 "cells": [
  {
   "cell_type": "markdown",
   "metadata": {},
   "source": [
    "# Set up"
   ]
  },
  {
   "cell_type": "code",
   "execution_count": 1,
   "metadata": {},
   "outputs": [],
   "source": [
    "#import libraries \n",
    "import pandas as pd\n",
    "import numpy as np\n",
    "import seaborn as sns\n",
    "import matplotlib.pyplot as plt \n",
    "import simfin as sf\n",
    "from simfin.names import *\n",
    "from IPython.display import display\n",
    "import datetime\n",
    "%matplotlib inline\n",
    "\n",
    "#set the local directory where data-files are stored\n",
    "sf.set_data_dir('C:/Users/think/Desktop/UVA/2020Spring/STAT_4996_Capstone/simfin_data/')\n",
    "\n",
    "# 一个cell显示所有output\n",
    "from IPython.core.interactiveshell import InteractiveShell\n",
    "InteractiveShell.ast_node_interactivity = 'all'\n",
    "\n",
    "# Set up API key\n",
    "sf.set_api_key(api_key='free')\n",
    "\n",
    "# Seaborn set plotting style.\n",
    "sns.set_style(\"whitegrid\")\n",
    "\n",
    "#display all columns\n",
    "pd.set_option('display.max_columns', None)\n",
    "pd.set_option('display.max_rows', None)"
   ]
  },
  {
   "cell_type": "markdown",
   "metadata": {},
   "source": [
    "# Define functions"
   ]
  },
  {
   "cell_type": "code",
   "execution_count": 2,
   "metadata": {},
   "outputs": [],
   "source": [
    "#calculate the proportion of non-missing value in each column\n",
    "def prop_nonmissing(df):\n",
    "    df2 = df.reset_index().copy()\n",
    "    output = pd.DataFrame(index = df2.columns)\n",
    "    nomiss_prop = []\n",
    "    for c in df2.columns:\n",
    "        nomiss_prop.append(round((1-(df2.loc[:,c].isnull().sum()/len(df2.loc[:,c])))*100,2))\n",
    "    output['Prop'] = nomiss_prop\n",
    "    return output"
   ]
  },
  {
   "cell_type": "markdown",
   "metadata": {},
   "source": [
    "# Loading Data"
   ]
  },
  {
   "cell_type": "markdown",
   "metadata": {},
   "source": [
    "## income statement"
   ]
  },
  {
   "cell_type": "code",
   "execution_count": 3,
   "metadata": {},
   "outputs": [
    {
     "name": "stdout",
     "output_type": "stream",
     "text": [
      "Dataset \"us-income-annual\" on disk (8 days old).\n",
      "- Loading from disk ... Done!\n",
      "Dataset \"us-income-banks-annual\" on disk (8 days old).\n",
      "- Loading from disk ... Done!\n",
      "Dataset \"us-balance-insurance-annual\" on disk (8 days old).\n",
      "- Loading from disk ... Done!\n"
     ]
    },
    {
     "data": {
      "text/plain": [
       "\"\\n#load quarter data\\ndf_income_q = sf.load_income(variant='quarterly', market='us')\\ndf_income_q_bank  = sf.load_income_banks(variant='quarterly', market='us')\\ndf_income_q_ins = df = sf.load_balance_insurance(variant='quarterly', market='us')\\n\\n#load ttm data\\ndf_income_ttm = sf.load_income(variant='ttm', market='us')\\ndf_income_ttm_bank  = sf.load_income_banks(variant='ttm', market='us')\\ndf_income_ttm_ins = df = sf.load_balance_insurance(variant='ttm', market='us')\\n\""
      ]
     },
     "execution_count": 3,
     "metadata": {},
     "output_type": "execute_result"
    }
   ],
   "source": [
    "#load in entire annual income statement data\n",
    "df_income_a = sf.load_income(variant='annual', market='us').reset_index()\n",
    "#banks only\n",
    "df_income_a_bank  = sf.load_income_banks(variant='annual', market='us').reset_index()\n",
    "#insurance companies only\n",
    "df_income_a_ins = df = sf.load_balance_insurance(variant='annual', market='us').reset_index()\n",
    "\n",
    "\"\"\"\n",
    "#load quarter data\n",
    "df_income_q = sf.load_income(variant='quarterly', market='us')\n",
    "df_income_q_bank  = sf.load_income_banks(variant='quarterly', market='us')\n",
    "df_income_q_ins = df = sf.load_balance_insurance(variant='quarterly', market='us')\n",
    "\n",
    "#load ttm data\n",
    "df_income_ttm = sf.load_income(variant='ttm', market='us')\n",
    "df_income_ttm_bank  = sf.load_income_banks(variant='ttm', market='us')\n",
    "df_income_ttm_ins = df = sf.load_balance_insurance(variant='ttm', market='us')\n",
    "\"\"\""
   ]
  },
  {
   "cell_type": "markdown",
   "metadata": {},
   "source": [
    "## balance sheet"
   ]
  },
  {
   "cell_type": "code",
   "execution_count": 4,
   "metadata": {},
   "outputs": [
    {
     "name": "stdout",
     "output_type": "stream",
     "text": [
      "Dataset \"us-balance-annual\" on disk (8 days old).\n",
      "- Loading from disk ... Done!\n",
      "Dataset \"us-balance-banks-annual\" on disk (8 days old).\n",
      "- Loading from disk ... Done!\n",
      "Dataset \"us-balance-insurance-annual\" on disk (8 days old).\n",
      "- Loading from disk ... Done!\n"
     ]
    }
   ],
   "source": [
    "#load in entire annual balance sheet data \n",
    "df_balance_a = sf.load_balance(variant='annual', market='us').reset_index()\n",
    "#banks only\n",
    "df_balance_a_bank = sf.load_balance_banks(variant='annual', market='us').reset_index()\n",
    "#insurance companies only\n",
    "df_balance_a_ins = sf.load_balance_insurance(variant='annual', market='us').reset_index()"
   ]
  },
  {
   "cell_type": "markdown",
   "metadata": {},
   "source": [
    "## cash flow"
   ]
  },
  {
   "cell_type": "code",
   "execution_count": 5,
   "metadata": {},
   "outputs": [
    {
     "name": "stdout",
     "output_type": "stream",
     "text": [
      "Dataset \"us-cashflow-annual\" on disk (8 days old).\n",
      "- Loading from disk ... Done!\n",
      "Dataset \"us-cashflow-banks-annual\" on disk (8 days old).\n",
      "- Loading from disk ... Done!\n",
      "Dataset \"us-cashflow-insurance-annual\" on disk (8 days old).\n",
      "- Loading from disk ... Done!\n"
     ]
    }
   ],
   "source": [
    "#load in entire annual balance sheet data \n",
    "df_cashflow_a = sf.load_cashflow(variant='annual', market='us').reset_index()\n",
    "#banks only\n",
    "df_cashflow_a_bank = sf.load_cashflow_banks(variant='annual', market='us').reset_index()\n",
    "#insurance companies only\n",
    "df_cashflow_a_ins = sf.load_cashflow_insurance(variant='annual', market='us').reset_index()"
   ]
  },
  {
   "cell_type": "markdown",
   "metadata": {},
   "source": [
    "## Shareprice "
   ]
  },
  {
   "cell_type": "code",
   "execution_count": 6,
   "metadata": {},
   "outputs": [
    {
     "name": "stdout",
     "output_type": "stream",
     "text": [
      "Dataset \"us-shareprices-daily\" on disk (8 days old).\n",
      "- Loading from disk ... Done!\n",
      "Dataset \"us-shareprices-latest\" on disk (8 days old).\n",
      "- Loading from disk ... Done!\n"
     ]
    }
   ],
   "source": [
    "df_prices = sf.load_shareprices(variant='daily', market='us').reset_index()\n",
    "df_prices_latest = sf.load_shareprices(variant='latest', market='us').reset_index()"
   ]
  },
  {
   "cell_type": "code",
   "execution_count": 10,
   "metadata": {},
   "outputs": [
    {
     "name": "stdout",
     "output_type": "stream",
     "text": [
      "Dataset \"industries\" on disk (8 days old).\n",
      "- Loading from disk ... Done!\n",
      "All datasets: balance, balance-banks, balance-insurance, cashflow,\n",
      "              cashflow-banks, cashflow-insurance, companies, income,\n",
      "              income-banks, income-insurance, industries, markets, shareprices\n"
     ]
    }
   ],
   "source": [
    "industry = sf.load_industries().reset_index()\n",
    "sf.info_datasets()"
   ]
  },
  {
   "cell_type": "markdown",
   "metadata": {},
   "source": [
    "## Companies details"
   ]
  },
  {
   "cell_type": "code",
   "execution_count": null,
   "metadata": {},
   "outputs": [],
   "source": [
    "comp = sf.load_companies(index=TICKER, market='us')"
   ]
  },
  {
   "cell_type": "code",
   "execution_count": null,
   "metadata": {},
   "outputs": [],
   "source": [
    "comp.head()"
   ]
  },
  {
   "cell_type": "markdown",
   "metadata": {},
   "source": [
    "# Date exploration"
   ]
  },
  {
   "cell_type": "markdown",
   "metadata": {},
   "source": [
    "## Income Statement "
   ]
  },
  {
   "cell_type": "markdown",
   "metadata": {},
   "source": [
    "结论：\n",
    "\n",
    "\n",
    "1. Simfin ID 和 Ticker都是唯一的\n",
    "2. 三个表之间公司无重合\n"
   ]
  },
  {
   "cell_type": "code",
   "execution_count": 7,
   "metadata": {
    "scrolled": true
   },
   "outputs": [
    {
     "data": {
      "text/plain": [
       "Index(['Ticker', 'Report Date', 'SimFinId', 'Currency', 'Fiscal Year',\n",
       "       'Fiscal Period', 'Publish Date', 'Shares (Basic)', 'Shares (Diluted)',\n",
       "       'Revenue', 'Cost of Revenue', 'Gross Profit', 'Operating Expenses',\n",
       "       'Selling, General & Administrative', 'Research & Development',\n",
       "       'Depreciation & Amortization', 'Operating Income (Loss)',\n",
       "       'Non-Operating Income (Loss)', 'Interest Expense, Net',\n",
       "       'Pretax Income (Loss), Adj.', 'Abnormal Gains (Losses)',\n",
       "       'Pretax Income (Loss)', 'Income Tax (Expense) Benefit, Net',\n",
       "       'Income (Loss) from Continuing Operations',\n",
       "       'Net Extraordinary Gains (Losses)', 'Net Income',\n",
       "       'Net Income (Common)'],\n",
       "      dtype='object')"
      ]
     },
     "execution_count": 7,
     "metadata": {},
     "output_type": "execute_result"
    },
    {
     "data": {
      "text/html": [
       "<div>\n",
       "<style scoped>\n",
       "    .dataframe tbody tr th:only-of-type {\n",
       "        vertical-align: middle;\n",
       "    }\n",
       "\n",
       "    .dataframe tbody tr th {\n",
       "        vertical-align: top;\n",
       "    }\n",
       "\n",
       "    .dataframe thead th {\n",
       "        text-align: right;\n",
       "    }\n",
       "</style>\n",
       "<table border=\"1\" class=\"dataframe\">\n",
       "  <thead>\n",
       "    <tr style=\"text-align: right;\">\n",
       "      <th></th>\n",
       "      <th>Ticker</th>\n",
       "      <th>Report Date</th>\n",
       "      <th>SimFinId</th>\n",
       "      <th>Currency</th>\n",
       "      <th>Fiscal Year</th>\n",
       "      <th>Fiscal Period</th>\n",
       "      <th>Publish Date</th>\n",
       "      <th>Shares (Basic)</th>\n",
       "      <th>Shares (Diluted)</th>\n",
       "      <th>Revenue</th>\n",
       "      <th>Cost of Revenue</th>\n",
       "      <th>Gross Profit</th>\n",
       "      <th>Operating Expenses</th>\n",
       "      <th>Selling, General &amp; Administrative</th>\n",
       "      <th>Research &amp; Development</th>\n",
       "      <th>Depreciation &amp; Amortization</th>\n",
       "      <th>Operating Income (Loss)</th>\n",
       "      <th>Non-Operating Income (Loss)</th>\n",
       "      <th>Interest Expense, Net</th>\n",
       "      <th>Pretax Income (Loss), Adj.</th>\n",
       "      <th>Abnormal Gains (Losses)</th>\n",
       "      <th>Pretax Income (Loss)</th>\n",
       "      <th>Income Tax (Expense) Benefit, Net</th>\n",
       "      <th>Income (Loss) from Continuing Operations</th>\n",
       "      <th>Net Extraordinary Gains (Losses)</th>\n",
       "      <th>Net Income</th>\n",
       "      <th>Net Income (Common)</th>\n",
       "    </tr>\n",
       "  </thead>\n",
       "  <tbody>\n",
       "    <tr>\n",
       "      <th>0</th>\n",
       "      <td>A</td>\n",
       "      <td>2008-10-31</td>\n",
       "      <td>45846</td>\n",
       "      <td>USD</td>\n",
       "      <td>2008</td>\n",
       "      <td>FY</td>\n",
       "      <td>2009-10-05</td>\n",
       "      <td>363000000.0</td>\n",
       "      <td>371000000.0</td>\n",
       "      <td>5.774000e+09</td>\n",
       "      <td>-2.578000e+09</td>\n",
       "      <td>3.196000e+09</td>\n",
       "      <td>-2.401000e+09</td>\n",
       "      <td>-1.697000e+09</td>\n",
       "      <td>-704000000.0</td>\n",
       "      <td>NaN</td>\n",
       "      <td>7.950000e+08</td>\n",
       "      <td>20000000.0</td>\n",
       "      <td>-10000000.0</td>\n",
       "      <td>815000000</td>\n",
       "      <td>0.0</td>\n",
       "      <td>815000000</td>\n",
       "      <td>-122000000.0</td>\n",
       "      <td>693000000</td>\n",
       "      <td>NaN</td>\n",
       "      <td>693000000</td>\n",
       "      <td>693000000</td>\n",
       "    </tr>\n",
       "    <tr>\n",
       "      <th>1</th>\n",
       "      <td>A</td>\n",
       "      <td>2009-10-31</td>\n",
       "      <td>45846</td>\n",
       "      <td>USD</td>\n",
       "      <td>2009</td>\n",
       "      <td>FY</td>\n",
       "      <td>2009-12-21</td>\n",
       "      <td>346000000.0</td>\n",
       "      <td>346000000.0</td>\n",
       "      <td>4.481000e+09</td>\n",
       "      <td>-2.189000e+09</td>\n",
       "      <td>2.292000e+09</td>\n",
       "      <td>-2.245000e+09</td>\n",
       "      <td>-1.603000e+09</td>\n",
       "      <td>-642000000.0</td>\n",
       "      <td>NaN</td>\n",
       "      <td>4.700000e+07</td>\n",
       "      <td>-40000000.0</td>\n",
       "      <td>-59000000.0</td>\n",
       "      <td>7000000</td>\n",
       "      <td>0.0</td>\n",
       "      <td>7000000</td>\n",
       "      <td>-38000000.0</td>\n",
       "      <td>-31000000</td>\n",
       "      <td>NaN</td>\n",
       "      <td>-31000000</td>\n",
       "      <td>-31000000</td>\n",
       "    </tr>\n",
       "    <tr>\n",
       "      <th>2</th>\n",
       "      <td>A</td>\n",
       "      <td>2010-10-31</td>\n",
       "      <td>45846</td>\n",
       "      <td>USD</td>\n",
       "      <td>2010</td>\n",
       "      <td>FY</td>\n",
       "      <td>2010-12-20</td>\n",
       "      <td>347000000.0</td>\n",
       "      <td>353000000.0</td>\n",
       "      <td>5.444000e+09</td>\n",
       "      <td>-2.514000e+09</td>\n",
       "      <td>2.930000e+09</td>\n",
       "      <td>-2.364000e+09</td>\n",
       "      <td>-1.752000e+09</td>\n",
       "      <td>-612000000.0</td>\n",
       "      <td>NaN</td>\n",
       "      <td>5.660000e+08</td>\n",
       "      <td>-6000000.0</td>\n",
       "      <td>-76000000.0</td>\n",
       "      <td>560000000</td>\n",
       "      <td>132000000.0</td>\n",
       "      <td>692000000</td>\n",
       "      <td>-8000000.0</td>\n",
       "      <td>684000000</td>\n",
       "      <td>NaN</td>\n",
       "      <td>684000000</td>\n",
       "      <td>684000000</td>\n",
       "    </tr>\n",
       "    <tr>\n",
       "      <th>3</th>\n",
       "      <td>A</td>\n",
       "      <td>2011-10-31</td>\n",
       "      <td>45846</td>\n",
       "      <td>USD</td>\n",
       "      <td>2011</td>\n",
       "      <td>FY</td>\n",
       "      <td>2011-12-16</td>\n",
       "      <td>347000000.0</td>\n",
       "      <td>355000000.0</td>\n",
       "      <td>6.615000e+09</td>\n",
       "      <td>-3.086000e+09</td>\n",
       "      <td>3.529000e+09</td>\n",
       "      <td>-2.458000e+09</td>\n",
       "      <td>-1.809000e+09</td>\n",
       "      <td>-649000000.0</td>\n",
       "      <td>NaN</td>\n",
       "      <td>1.071000e+09</td>\n",
       "      <td>-39000000.0</td>\n",
       "      <td>-72000000.0</td>\n",
       "      <td>1032000000</td>\n",
       "      <td>NaN</td>\n",
       "      <td>1032000000</td>\n",
       "      <td>-20000000.0</td>\n",
       "      <td>1012000000</td>\n",
       "      <td>NaN</td>\n",
       "      <td>1012000000</td>\n",
       "      <td>1012000000</td>\n",
       "    </tr>\n",
       "    <tr>\n",
       "      <th>4</th>\n",
       "      <td>A</td>\n",
       "      <td>2012-10-31</td>\n",
       "      <td>45846</td>\n",
       "      <td>USD</td>\n",
       "      <td>2012</td>\n",
       "      <td>FY</td>\n",
       "      <td>2012-12-20</td>\n",
       "      <td>348000000.0</td>\n",
       "      <td>353000000.0</td>\n",
       "      <td>6.858000e+09</td>\n",
       "      <td>-3.254000e+09</td>\n",
       "      <td>3.604000e+09</td>\n",
       "      <td>-2.485000e+09</td>\n",
       "      <td>-1.817000e+09</td>\n",
       "      <td>-668000000.0</td>\n",
       "      <td>NaN</td>\n",
       "      <td>1.119000e+09</td>\n",
       "      <td>-76000000.0</td>\n",
       "      <td>-92000000.0</td>\n",
       "      <td>1043000000</td>\n",
       "      <td>NaN</td>\n",
       "      <td>1043000000</td>\n",
       "      <td>110000000.0</td>\n",
       "      <td>1153000000</td>\n",
       "      <td>NaN</td>\n",
       "      <td>1153000000</td>\n",
       "      <td>1153000000</td>\n",
       "    </tr>\n",
       "  </tbody>\n",
       "</table>\n",
       "</div>"
      ],
      "text/plain": [
       "  Ticker Report Date  SimFinId Currency  Fiscal Year Fiscal Period  \\\n",
       "0      A  2008-10-31     45846      USD         2008            FY   \n",
       "1      A  2009-10-31     45846      USD         2009            FY   \n",
       "2      A  2010-10-31     45846      USD         2010            FY   \n",
       "3      A  2011-10-31     45846      USD         2011            FY   \n",
       "4      A  2012-10-31     45846      USD         2012            FY   \n",
       "\n",
       "  Publish Date  Shares (Basic)  Shares (Diluted)       Revenue  \\\n",
       "0   2009-10-05     363000000.0       371000000.0  5.774000e+09   \n",
       "1   2009-12-21     346000000.0       346000000.0  4.481000e+09   \n",
       "2   2010-12-20     347000000.0       353000000.0  5.444000e+09   \n",
       "3   2011-12-16     347000000.0       355000000.0  6.615000e+09   \n",
       "4   2012-12-20     348000000.0       353000000.0  6.858000e+09   \n",
       "\n",
       "   Cost of Revenue  Gross Profit  Operating Expenses  \\\n",
       "0    -2.578000e+09  3.196000e+09       -2.401000e+09   \n",
       "1    -2.189000e+09  2.292000e+09       -2.245000e+09   \n",
       "2    -2.514000e+09  2.930000e+09       -2.364000e+09   \n",
       "3    -3.086000e+09  3.529000e+09       -2.458000e+09   \n",
       "4    -3.254000e+09  3.604000e+09       -2.485000e+09   \n",
       "\n",
       "   Selling, General & Administrative  Research & Development  \\\n",
       "0                      -1.697000e+09            -704000000.0   \n",
       "1                      -1.603000e+09            -642000000.0   \n",
       "2                      -1.752000e+09            -612000000.0   \n",
       "3                      -1.809000e+09            -649000000.0   \n",
       "4                      -1.817000e+09            -668000000.0   \n",
       "\n",
       "   Depreciation & Amortization  Operating Income (Loss)  \\\n",
       "0                          NaN             7.950000e+08   \n",
       "1                          NaN             4.700000e+07   \n",
       "2                          NaN             5.660000e+08   \n",
       "3                          NaN             1.071000e+09   \n",
       "4                          NaN             1.119000e+09   \n",
       "\n",
       "   Non-Operating Income (Loss)  Interest Expense, Net  \\\n",
       "0                   20000000.0            -10000000.0   \n",
       "1                  -40000000.0            -59000000.0   \n",
       "2                   -6000000.0            -76000000.0   \n",
       "3                  -39000000.0            -72000000.0   \n",
       "4                  -76000000.0            -92000000.0   \n",
       "\n",
       "   Pretax Income (Loss), Adj.  Abnormal Gains (Losses)  Pretax Income (Loss)  \\\n",
       "0                   815000000                      0.0             815000000   \n",
       "1                     7000000                      0.0               7000000   \n",
       "2                   560000000              132000000.0             692000000   \n",
       "3                  1032000000                      NaN            1032000000   \n",
       "4                  1043000000                      NaN            1043000000   \n",
       "\n",
       "   Income Tax (Expense) Benefit, Net  \\\n",
       "0                       -122000000.0   \n",
       "1                        -38000000.0   \n",
       "2                         -8000000.0   \n",
       "3                        -20000000.0   \n",
       "4                        110000000.0   \n",
       "\n",
       "   Income (Loss) from Continuing Operations  Net Extraordinary Gains (Losses)  \\\n",
       "0                                 693000000                               NaN   \n",
       "1                                 -31000000                               NaN   \n",
       "2                                 684000000                               NaN   \n",
       "3                                1012000000                               NaN   \n",
       "4                                1153000000                               NaN   \n",
       "\n",
       "   Net Income  Net Income (Common)  \n",
       "0   693000000            693000000  \n",
       "1   -31000000            -31000000  \n",
       "2   684000000            684000000  \n",
       "3  1012000000           1012000000  \n",
       "4  1153000000           1153000000  "
      ]
     },
     "execution_count": 7,
     "metadata": {},
     "output_type": "execute_result"
    }
   ],
   "source": [
    "#display all column names \n",
    "df_income_a.columns\n",
    "df_income_a.head(5)"
   ]
  },
  {
   "cell_type": "code",
   "execution_count": null,
   "metadata": {
    "scrolled": false
   },
   "outputs": [],
   "source": [
    "#everything included\n",
    "df_income_a.shape #(14768, 25)\n",
    "df_income_a['Ticker'].nunique() #1915 stocks\n",
    "df_income_a['SimFinId'].nunique() #same as above "
   ]
  },
  {
   "cell_type": "code",
   "execution_count": null,
   "metadata": {
    "scrolled": true
   },
   "outputs": [],
   "source": [
    "#看income dataset是否包含banks 和 insurance\n",
    "\n",
    "intersection = set(df_income_a['SimFinId']) & set(df_income_a_bank['SimFinId'])\n",
    "intersection #无重合\n",
    "\n",
    "intersection2 = set(df_income_a['SimFinId']) & set(df_income_a_ins['SimFinId'])\n",
    "intersection2 #无重合"
   ]
  },
  {
   "cell_type": "code",
   "execution_count": null,
   "metadata": {},
   "outputs": [],
   "source": [
    "#check non-missing value % of income statement\n",
    "prop_nonmissing(df_income_a).sort_values(by = 'Prop',ascending = False)"
   ]
  },
  {
   "cell_type": "code",
   "execution_count": null,
   "metadata": {},
   "outputs": [],
   "source": [
    "#plot distribution for each column\n",
    "drop_c =['Ticker','Report Date','SimFinId','Currency','Fiscal Year','Fiscal Period', 'Publish Date' ]\n",
    "df = df_income_a.drop(drop_c,axis=1)\n",
    "for i, col in enumerate(df.columns):\n",
    "    if isinstance(df[col], object):\n",
    "        __ = plt.figure(i)\n",
    "        _ = sns.distplot(df[col])\n",
    "        plt.show()"
   ]
  },
  {
   "cell_type": "markdown",
   "metadata": {},
   "source": [
    "## Balance Sheet"
   ]
  },
  {
   "cell_type": "code",
   "execution_count": null,
   "metadata": {},
   "outputs": [],
   "source": [
    "#display all column names \n",
    "df_balance_a.columns"
   ]
  },
  {
   "cell_type": "code",
   "execution_count": null,
   "metadata": {},
   "outputs": [],
   "source": [
    "#everything included\n",
    "df_balance_a.shape #(14768, 29)\n",
    "df_balance_a['Ticker'].nunique() #1915 stocks\n",
    "df_balance_a['SimFinId'].nunique() #same as above "
   ]
  },
  {
   "cell_type": "code",
   "execution_count": null,
   "metadata": {},
   "outputs": [],
   "source": [
    "#看三张表重合度,无重合\n",
    "intersection = set(df_balance_a['SimFinId']) & set(df_balance_a_bank['SimFinId'])\n",
    "intersection #无重合\n",
    "\n",
    "intersection2 = set(df_balance_a['SimFinId']) & set(df_income_a_ins['SimFinId'])\n",
    "intersection2 #无重合"
   ]
  },
  {
   "cell_type": "code",
   "execution_count": null,
   "metadata": {
    "scrolled": true
   },
   "outputs": [],
   "source": [
    "#balance sheet\n",
    "prop_nonmissing(df_balance_a).sort_values(by='Prop',ascending = False)"
   ]
  },
  {
   "cell_type": "markdown",
   "metadata": {},
   "source": [
    "## Cash Flow"
   ]
  },
  {
   "cell_type": "code",
   "execution_count": null,
   "metadata": {},
   "outputs": [],
   "source": [
    "#display all column names \n",
    "df_cashflow_a.columns"
   ]
  },
  {
   "cell_type": "code",
   "execution_count": null,
   "metadata": {},
   "outputs": [],
   "source": [
    "#everything included\n",
    "df_cashflow_a.shape #(14768, 27)\n",
    "df_cashflow_a['Ticker'].nunique() #1915 stocks\n",
    "df_cashflow_a['SimFinId'].nunique() #same as above "
   ]
  },
  {
   "cell_type": "code",
   "execution_count": null,
   "metadata": {},
   "outputs": [],
   "source": [
    "#看三张表重合度,无重合\n",
    "intersection = set(df_cashflow_a['SimFinId']) & set(df_cashflow_a_bank['SimFinId'])\n",
    "intersection #无重合\n",
    "\n",
    "intersection2 = set(df_cashflow_a['SimFinId']) & set(df_cashflow_a_ins['SimFinId'])\n",
    "intersection2 #无重合"
   ]
  },
  {
   "cell_type": "code",
   "execution_count": null,
   "metadata": {},
   "outputs": [],
   "source": [
    "#cash flow\n",
    "prop_nonmissing(df_cashflow_a).sort_values(by='Prop', ascending = False)"
   ]
  },
  {
   "cell_type": "markdown",
   "metadata": {},
   "source": [
    "可以drop：Net Extraordinary Gains (Losses)\t,Abnormal Gains (Losses), Depreciation， too much missing value and are not useful for calculating financial ratio\n",
    "\n",
    "R&D是否需要drop？或许R&D投资高的企业profit margin比较高\n",
    "Net extraordinary gain 和 loss或许可以做成categorical variable"
   ]
  },
  {
   "cell_type": "markdown",
   "metadata": {},
   "source": [
    "## Stock Price"
   ]
  },
  {
   "cell_type": "code",
   "execution_count": null,
   "metadata": {},
   "outputs": [],
   "source": [
    "#display all column names\n",
    "df_prices.columns"
   ]
  },
  {
   "cell_type": "code",
   "execution_count": null,
   "metadata": {},
   "outputs": [],
   "source": [
    "df_prices.shape #(5027050, 10)\n",
    "df_prices['Ticker'].nunique()#2050 companies\n",
    "df_prices.head(5)"
   ]
  },
  {
   "cell_type": "code",
   "execution_count": null,
   "metadata": {},
   "outputs": [],
   "source": [
    "#check missing values \n",
    "prop_nonmissing(df_prices).sort_values(by = 'Prop', ascending = False)"
   ]
  },
  {
   "cell_type": "markdown",
   "metadata": {},
   "source": [
    "## Company&Industry"
   ]
  },
  {
   "cell_type": "code",
   "execution_count": null,
   "metadata": {},
   "outputs": [],
   "source": [
    "#display all column names \n",
    "comp.columns\n",
    "industry.columns"
   ]
  },
  {
   "cell_type": "code",
   "execution_count": null,
   "metadata": {},
   "outputs": [],
   "source": [
    "comp.shape #(2069, 4)\n",
    "industry.shape #(71,3)\n",
    "comp['Ticker'].nunique() #2069 stocks\n",
    "industry['IndustryId'].nunique() #71 industries\n",
    "industry['Industry'].nunique()#same as above\n",
    "industry['Sector'].nunique()#12 sector"
   ]
  },
  {
   "cell_type": "code",
   "execution_count": null,
   "metadata": {},
   "outputs": [],
   "source": [
    "#check missing values\n",
    "prop_nonmissing(comp)\n",
    "prop_nonmissing(industry)"
   ]
  },
  {
   "cell_type": "code",
   "execution_count": null,
   "metadata": {},
   "outputs": [],
   "source": [
    "intersection3 = set(df_balance_a['SimFinId']) & set(df_income_a['SimFinId'])\n",
    "len(intersection3) #有income和balance数据的是同一批公司\n",
    "\n",
    "intersection4 = set(df_balance_a['SimFinId']) & set(df_cashflow_a['SimFinId'])\n",
    "len(intersection4) #有income和balance数据的是同一批公司"
   ]
  },
  {
   "cell_type": "markdown",
   "metadata": {},
   "source": [
    "# Join Data"
   ]
  },
  {
   "cell_type": "code",
   "execution_count": null,
   "metadata": {},
   "outputs": [],
   "source": [
    "comp.head(2)\n",
    "industry.head(2)"
   ]
  },
  {
   "cell_type": "code",
   "execution_count": null,
   "metadata": {},
   "outputs": [],
   "source": [
    "#left join industry on company\n",
    "comp['IndustryId'] = comp[['IndustryId']].astype('float')\n",
    "df = pd.merge(comp, industry, on ='IndustryId', how = 'left',suffixes=('','_right'))\n",
    "df.head(5)\n",
    "df.shape"
   ]
  },
  {
   "cell_type": "code",
   "execution_count": null,
   "metadata": {
    "scrolled": false
   },
   "outputs": [],
   "source": [
    "#left join income statement on previous df \n",
    "df2 = pd.merge(df,df_income_a,on = ['Ticker','SimFinId'], how = 'left', suffixes=('','_i'))\n",
    "df2.head(2)\n",
    "df2.columns\n",
    "df_income_a.shape\n",
    "df2.shape"
   ]
  },
  {
   "cell_type": "code",
   "execution_count": null,
   "metadata": {},
   "outputs": [],
   "source": [
    "#left join balance sheet on previous df \n",
    "df_balance_a['Fiscal Year'] = df_balance_a[['Fiscal Year']].astype('float')\n",
    "df3 = pd.merge(df2,df_balance_a,on = ['Ticker','SimFinId','Fiscal Year','Currency',\"Report Date\",\"Publish Date\"], how = 'left', suffixes=('','_b'))\n",
    "#take a look at the merge data\n",
    "df3.head()\n",
    "df3.columns\n",
    "#check if merge successfully, if successful, the row number should not change\n",
    "df2.shape\n",
    "df3.shape"
   ]
  },
  {
   "cell_type": "code",
   "execution_count": null,
   "metadata": {},
   "outputs": [],
   "source": [
    "#left join cash flow on previous df \n",
    "df_cashflow_a['Fiscal Year'] = df_cashflow_a[['Fiscal Year']].astype('float')\n",
    "df4 = pd.merge(df3,df_cashflow_a,on = ['Ticker','SimFinId','Fiscal Year','Currency','Report Date','Publish Date'], how = 'left', suffixes=('','_c'))\n",
    "#take a look at the merge data\n",
    "df4.head(2)\n",
    "df4.columns\n",
    "#check if merge successfully, if successful, the row number should not change\n",
    "df3.shape\n",
    "df4.shape"
   ]
  },
  {
   "cell_type": "code",
   "execution_count": null,
   "metadata": {
    "scrolled": false
   },
   "outputs": [],
   "source": [
    "#the final data frame is df\n",
    "df = df4.copy()\n",
    "#check for missing value\n",
    "temp = prop_nonmissing(df)\n",
    "temp.sort_values(by = 'Prop',ascending = False)\n",
    "# 只是存用一下这个code，不用理\n",
    "#df_merge2 = df_merge2.drop(df_merge2.columns[df_merge2.columns.str.endswith('right')],axis = 1)"
   ]
  },
  {
   "cell_type": "markdown",
   "metadata": {},
   "source": [
    "# Calculate Financial Ratio"
   ]
  },
  {
   "cell_type": "markdown",
   "metadata": {},
   "source": [
    "lists of useful financial ratios to measure financial health\n",
    "liquidity\n",
    "1. \\* current ratio： current assets/current liabiity\n",
    "2. \\* quick ratio: (cash+marketable+ receivable)/current liabilities\n",
    "3. net working capital to assets ratio: <br>(current asset - current liability)/total assets\n",
    "4. Cash ratio: (cash + marketable securities)/current liabilities \n",
    "\n",
    "solvency(leverage measure)\n",
    "1. long-term debt ratio: long-term debt/(long term debt +equity)\n",
    "2. \\* long-term debt-equity ratio: long-term debt/equity. <br>A downward trend over time in the D/E ratio is a good indicator<br> a company is on increasingly solid financial ground.\n",
    "3. total debt ratio: total liabilities /total assets\n",
    "4. times interest earned : EBIT/ interest expense\n",
    "5. cash coverage ratio : EBIT + depreciation/ interest expense\n",
    "\n",
    "profitability\n",
    "1. return on asset: after tax operating income/total assets\n",
    "2. return on capital: afer tax operating inomce/(long term debt + equity)\n",
    "3. return on equity: after tax operating icnome/equity\n",
    "4. EVA: after_tax operating icnome - (cost of capital * total capitalization). <br>cost of capital data not available\n",
    "operating efficiency\n",
    "\n",
    "1. \\* operating profit margin: EBIT/net sales \n",
    "2. net profit marin: net income/net sales\n",
    "3. asset turover: sales/total assets at start of year\n",
    "4. receivable turover: sales/receivables at the start of year\n",
    "5. inventory turnover: cost of goods sold/inventory at start of year\n",
    "\n",
    "performance measures\n",
    "1. Market Value added: market value of equity - book value of equity\n",
    "2. market to book ratio: Market Market Value of equity / book value of equity \n",
    "3. P/E: Price per share/Earning per share <br>((net income - preferred dividends)/end of year outstanding share)\n"
   ]
  }
 ],
 "metadata": {
  "kernelspec": {
   "display_name": "Python 3",
   "language": "python",
   "name": "python3"
  },
  "language_info": {
   "codemirror_mode": {
    "name": "ipython",
    "version": 3
   },
   "file_extension": ".py",
   "mimetype": "text/x-python",
   "name": "python",
   "nbconvert_exporter": "python",
   "pygments_lexer": "ipython3",
   "version": "3.6.10"
  },
  "toc": {
   "base_numbering": 1,
   "nav_menu": {},
   "number_sections": true,
   "sideBar": true,
   "skip_h1_title": false,
   "title_cell": "Table of Contents",
   "title_sidebar": "Contents",
   "toc_cell": false,
   "toc_position": {
    "height": "calc(100% - 180px)",
    "left": "10px",
    "top": "150px",
    "width": "341.325px"
   },
   "toc_section_display": true,
   "toc_window_display": true
  },
  "varInspector": {
   "cols": {
    "lenName": 16,
    "lenType": 16,
    "lenVar": 40
   },
   "kernels_config": {
    "python": {
     "delete_cmd_postfix": "",
     "delete_cmd_prefix": "del ",
     "library": "var_list.py",
     "varRefreshCmd": "print(var_dic_list())"
    },
    "r": {
     "delete_cmd_postfix": ") ",
     "delete_cmd_prefix": "rm(",
     "library": "var_list.r",
     "varRefreshCmd": "cat(var_dic_list()) "
    }
   },
   "types_to_exclude": [
    "module",
    "function",
    "builtin_function_or_method",
    "instance",
    "_Feature"
   ],
   "window_display": false
  }
 },
 "nbformat": 4,
 "nbformat_minor": 2
}
