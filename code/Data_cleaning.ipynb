{
 "cells": [
  {
   "cell_type": "markdown",
   "metadata": {},
   "source": [
    "# Set up"
   ]
  },
  {
   "cell_type": "code",
   "execution_count": 1,
   "metadata": {},
   "outputs": [],
   "source": [
    "# import libraries \n",
    "import pandas as pd\n",
    "import numpy as np\n",
    "import seaborn as sns\n",
    "import matplotlib.pyplot as plt \n",
    "import simfin as sf\n",
    "from simfin.names import *\n",
    "from IPython.display import display\n",
    "import datetime\n",
    "%matplotlib inline\n",
    "\n",
    "#set the local directory where data-files are stored\n",
    "sf.set_data_dir('C:/Users/think/Desktop/UVA/2020Spring/STAT_4996_Capstone/simfin_data')\n",
    "\n",
    "# 一个cell显示所有output\n",
    "from IPython.core.interactiveshell import InteractiveShell\n",
    "InteractiveShell.ast_node_interactivity = 'all'\n",
    "\n",
    "# Set up API key\n",
    "sf.set_api_key(api_key='free')\n",
    "\n",
    "# Seaborn set plotting style.\n",
    "sns.set_style(\"whitegrid\")\n",
    "\n",
    "#display all columns\n",
    "pd.set_option('display.max_columns', None)\n",
    "pd.set_option('display.max_rows', None)"
   ]
  },
  {
   "cell_type": "code",
   "execution_count": 2,
   "metadata": {},
   "outputs": [],
   "source": [
    "import pandas as pd"
   ]
  },
  {
   "cell_type": "markdown",
   "metadata": {},
   "source": [
    "# Define functions"
   ]
  },
  {
   "cell_type": "code",
   "execution_count": 3,
   "metadata": {},
   "outputs": [],
   "source": [
    "#calculate the proportion of non-missing value in each column\n",
    "def prop_nonmissing(df):\n",
    "    df2 = df.reset_index().copy()\n",
    "    output = pd.DataFrame(index = df2.columns)\n",
    "    nomiss_prop = []\n",
    "    for c in df2.columns:\n",
    "        nomiss_prop.append(round((1-(df2.loc[:,c].isnull().sum()/len(df2.loc[:,c])))*100,2))\n",
    "    output['Prop'] = nomiss_prop\n",
    "    return output"
   ]
  },
  {
   "cell_type": "code",
   "execution_count": null,
   "metadata": {},
   "outputs": [],
   "source": []
  },
  {
   "cell_type": "markdown",
   "metadata": {},
   "source": [
    "# Loading Data"
   ]
  },
  {
   "cell_type": "markdown",
   "metadata": {},
   "source": [
    "## income statement"
   ]
  },
  {
   "cell_type": "code",
   "execution_count": 4,
   "metadata": {},
   "outputs": [
    {
     "name": "stdout",
     "output_type": "stream",
     "text": [
      "Dataset \"us-income-annual\" on disk (8 days old).\n",
      "- Loading from disk ... Done!\n",
      "Dataset \"us-income-banks-annual\" on disk (8 days old).\n",
      "- Loading from disk ... Done!\n",
      "Dataset \"us-balance-insurance-annual\" on disk (8 days old).\n",
      "- Loading from disk ... Done!\n"
     ]
    },
    {
     "data": {
      "text/plain": [
       "\"\\n#load quarter data\\ndf_income_q = sf.load_income(variant='quarterly', market='us')\\ndf_income_q_bank  = sf.load_income_banks(variant='quarterly', market='us')\\ndf_income_q_ins = df = sf.load_balance_insurance(variant='quarterly', market='us')\\n\\n#load ttm data\\ndf_income_ttm = sf.load_income(variant='ttm', market='us')\\ndf_income_ttm_bank  = sf.load_income_banks(variant='ttm', market='us')\\ndf_income_ttm_ins = df = sf.load_balance_insurance(variant='ttm', market='us')\\n\""
      ]
     },
     "execution_count": 4,
     "metadata": {},
     "output_type": "execute_result"
    }
   ],
   "source": [
    "#load in entire annual income statement data\n",
    "df_income_a = sf.load_income(variant='annual', market='us').reset_index()\n",
    "#banks only\n",
    "df_income_a_bank  = sf.load_income_banks(variant='annual', market='us').reset_index()\n",
    "#insurance companies only\n",
    "df_income_a_ins = df = sf.load_balance_insurance(variant='annual', market='us').reset_index()\n",
    "\n",
    "\"\"\"\n",
    "#load quarter data\n",
    "df_income_q = sf.load_income(variant='quarterly', market='us')\n",
    "df_income_q_bank  = sf.load_income_banks(variant='quarterly', market='us')\n",
    "df_income_q_ins = df = sf.load_balance_insurance(variant='quarterly', market='us')\n",
    "\n",
    "#load ttm data\n",
    "df_income_ttm = sf.load_income(variant='ttm', market='us')\n",
    "df_income_ttm_bank  = sf.load_income_banks(variant='ttm', market='us')\n",
    "df_income_ttm_ins = df = sf.load_balance_insurance(variant='ttm', market='us')\n",
    "\"\"\""
   ]
  },
  {
   "cell_type": "markdown",
   "metadata": {},
   "source": [
    "## balance sheet"
   ]
  },
  {
   "cell_type": "code",
   "execution_count": 5,
   "metadata": {},
   "outputs": [
    {
     "name": "stdout",
     "output_type": "stream",
     "text": [
      "Dataset \"us-balance-annual\" on disk (8 days old).\n",
      "- Loading from disk ... Done!\n",
      "Dataset \"us-balance-banks-annual\" on disk (8 days old).\n",
      "- Loading from disk ... Done!\n",
      "Dataset \"us-balance-insurance-annual\" on disk (8 days old).\n",
      "- Loading from disk ... Done!\n"
     ]
    },
    {
     "data": {
      "text/plain": [
       "Index(['Ticker', 'Report Date', 'SimFinId', 'Currency', 'Fiscal Year',\n",
       "       'Fiscal Period', 'Publish Date', 'Shares (Basic)', 'Shares (Diluted)',\n",
       "       'Cash, Cash Equivalents & Short Term Investments',\n",
       "       'Accounts & Notes Receivable', 'Inventories', 'Total Current Assets',\n",
       "       'Property, Plant & Equipment, Net',\n",
       "       'Long Term Investments & Receivables', 'Other Long Term Assets',\n",
       "       'Total Noncurrent Assets', 'Total Assets', 'Payables & Accruals',\n",
       "       'Short Term Debt', 'Total Current Liabilities', 'Long Term Debt',\n",
       "       'Total Noncurrent Liabilities', 'Total Liabilities',\n",
       "       'Share Capital & Additional Paid-In Capital', 'Treasury Stock',\n",
       "       'Retained Earnings', 'Total Equity', 'Total Liabilities & Equity'],\n",
       "      dtype='object')"
      ]
     },
     "execution_count": 5,
     "metadata": {},
     "output_type": "execute_result"
    }
   ],
   "source": [
    "#load in entire annual balance sheet data \n",
    "df_balance_a = sf.load_balance(variant='annual', market='us').reset_index()\n",
    "#banks only\n",
    "df_balance_a_bank = sf.load_balance_banks(variant='annual', market='us').reset_index()\n",
    "#insurance companies only\n",
    "df_balance_a_ins = sf.load_balance_insurance(variant='annual', market='us').reset_index()\n",
    "\n",
    "df_balance_a.columns"
   ]
  },
  {
   "cell_type": "markdown",
   "metadata": {},
   "source": [
    "## cash flow"
   ]
  },
  {
   "cell_type": "code",
   "execution_count": 6,
   "metadata": {},
   "outputs": [
    {
     "name": "stdout",
     "output_type": "stream",
     "text": [
      "Dataset \"us-cashflow-annual\" on disk (8 days old).\n",
      "- Loading from disk ... Done!\n",
      "Dataset \"us-cashflow-banks-annual\" on disk (8 days old).\n",
      "- Loading from disk ... Done!\n",
      "Dataset \"us-cashflow-insurance-annual\" on disk (8 days old).\n",
      "- Loading from disk ... Done!\n"
     ]
    }
   ],
   "source": [
    "#load in entire annual balance sheet data \n",
    "df_cashflow_a = sf.load_cashflow(variant='annual', market='us').reset_index()\n",
    "#banks only\n",
    "df_cashflow_a_bank = sf.load_cashflow_banks(variant='annual', market='us').reset_index()\n",
    "#insurance companies only\n",
    "df_cashflow_a_ins = sf.load_cashflow_insurance(variant='annual', market='us').reset_index()"
   ]
  },
  {
   "cell_type": "markdown",
   "metadata": {},
   "source": [
    "## Shareprice "
   ]
  },
  {
   "cell_type": "code",
   "execution_count": 7,
   "metadata": {},
   "outputs": [
    {
     "name": "stdout",
     "output_type": "stream",
     "text": [
      "Dataset \"us-shareprices-daily\" on disk (8 days old).\n",
      "- Loading from disk ... Done!\n",
      "Dataset \"us-shareprices-latest\" on disk (8 days old).\n",
      "- Loading from disk ... Done!\n"
     ]
    }
   ],
   "source": [
    "df_prices = sf.load_shareprices(variant='daily', market='us').reset_index()\n",
    "df_prices_latest = sf.load_shareprices(variant='latest', market='us').reset_index()"
   ]
  },
  {
   "cell_type": "markdown",
   "metadata": {},
   "source": [
    "## Companies details"
   ]
  },
  {
   "cell_type": "code",
   "execution_count": 8,
   "metadata": {},
   "outputs": [
    {
     "name": "stdout",
     "output_type": "stream",
     "text": [
      "Dataset \"us-companies\" on disk (0 days old).\n",
      "- Loading from disk ... Done!\n",
      "Dataset \"industries\" on disk (8 days old).\n",
      "- Loading from disk ... Done!\n"
     ]
    }
   ],
   "source": [
    "comp = sf.load_companies(market='us').reset_index()\n",
    "industry = sf.load_industries().reset_index()"
   ]
  },
  {
   "cell_type": "markdown",
   "metadata": {},
   "source": [
    "# Date exploration"
   ]
  },
  {
   "cell_type": "markdown",
   "metadata": {},
   "source": [
    "## Income Statement "
   ]
  },
  {
   "cell_type": "markdown",
   "metadata": {},
   "source": [
    "结论：\n",
    "\n",
    "\n",
    "1. Simfin ID 和 Ticker都是唯一的\n",
    "2. 三个表之间公司无重合\n"
   ]
  },
  {
   "cell_type": "code",
   "execution_count": 9,
   "metadata": {
    "scrolled": true
   },
   "outputs": [
    {
     "data": {
      "text/plain": [
       "Index(['Ticker', 'Report Date', 'SimFinId', 'Currency', 'Fiscal Year',\n",
       "       'Fiscal Period', 'Publish Date', 'Shares (Basic)', 'Shares (Diluted)',\n",
       "       'Revenue', 'Cost of Revenue', 'Gross Profit', 'Operating Expenses',\n",
       "       'Selling, General & Administrative', 'Research & Development',\n",
       "       'Depreciation & Amortization', 'Operating Income (Loss)',\n",
       "       'Non-Operating Income (Loss)', 'Interest Expense, Net',\n",
       "       'Pretax Income (Loss), Adj.', 'Abnormal Gains (Losses)',\n",
       "       'Pretax Income (Loss)', 'Income Tax (Expense) Benefit, Net',\n",
       "       'Income (Loss) from Continuing Operations',\n",
       "       'Net Extraordinary Gains (Losses)', 'Net Income',\n",
       "       'Net Income (Common)'],\n",
       "      dtype='object')"
      ]
     },
     "execution_count": 9,
     "metadata": {},
     "output_type": "execute_result"
    }
   ],
   "source": [
    "#display all column names \n",
    "df_income_a.columns"
   ]
  },
  {
   "cell_type": "code",
   "execution_count": 10,
   "metadata": {
    "scrolled": false
   },
   "outputs": [
    {
     "data": {
      "text/plain": [
       "(14768, 27)"
      ]
     },
     "execution_count": 10,
     "metadata": {},
     "output_type": "execute_result"
    },
    {
     "data": {
      "text/plain": [
       "1915"
      ]
     },
     "execution_count": 10,
     "metadata": {},
     "output_type": "execute_result"
    },
    {
     "data": {
      "text/plain": [
       "1915"
      ]
     },
     "execution_count": 10,
     "metadata": {},
     "output_type": "execute_result"
    }
   ],
   "source": [
    "#everything included\n",
    "df_income_a.shape #(14768, 25)\n",
    "df_income_a['Ticker'].nunique() #1915 stocks\n",
    "df_income_a['SimFinId'].nunique() #same as above "
   ]
  },
  {
   "cell_type": "code",
   "execution_count": 11,
   "metadata": {
    "scrolled": true
   },
   "outputs": [
    {
     "data": {
      "text/plain": [
       "set()"
      ]
     },
     "execution_count": 11,
     "metadata": {},
     "output_type": "execute_result"
    },
    {
     "data": {
      "text/plain": [
       "set()"
      ]
     },
     "execution_count": 11,
     "metadata": {},
     "output_type": "execute_result"
    }
   ],
   "source": [
    "#看income dataset是否包含banks 和 insurance\n",
    "intersection = set(df_income_a['SimFinId']) & set(df_income_a_bank['SimFinId'])\n",
    "intersection #无重合\n",
    "\n",
    "intersection2 = set(df_income_a['SimFinId']) & set(df_income_a_ins['SimFinId'])\n",
    "intersection2 #无重合"
   ]
  },
  {
   "cell_type": "code",
   "execution_count": 12,
   "metadata": {},
   "outputs": [
    {
     "data": {
      "text/html": [
       "<div>\n",
       "<style scoped>\n",
       "    .dataframe tbody tr th:only-of-type {\n",
       "        vertical-align: middle;\n",
       "    }\n",
       "\n",
       "    .dataframe tbody tr th {\n",
       "        vertical-align: top;\n",
       "    }\n",
       "\n",
       "    .dataframe thead th {\n",
       "        text-align: right;\n",
       "    }\n",
       "</style>\n",
       "<table border=\"1\" class=\"dataframe\">\n",
       "  <thead>\n",
       "    <tr style=\"text-align: right;\">\n",
       "      <th></th>\n",
       "      <th>Prop</th>\n",
       "    </tr>\n",
       "  </thead>\n",
       "  <tbody>\n",
       "    <tr>\n",
       "      <td>index</td>\n",
       "      <td>100.00</td>\n",
       "    </tr>\n",
       "    <tr>\n",
       "      <td>Publish Date</td>\n",
       "      <td>100.00</td>\n",
       "    </tr>\n",
       "    <tr>\n",
       "      <td>Net Income</td>\n",
       "      <td>100.00</td>\n",
       "    </tr>\n",
       "    <tr>\n",
       "      <td>Income (Loss) from Continuing Operations</td>\n",
       "      <td>100.00</td>\n",
       "    </tr>\n",
       "    <tr>\n",
       "      <td>Pretax Income (Loss)</td>\n",
       "      <td>100.00</td>\n",
       "    </tr>\n",
       "    <tr>\n",
       "      <td>Pretax Income (Loss), Adj.</td>\n",
       "      <td>100.00</td>\n",
       "    </tr>\n",
       "    <tr>\n",
       "      <td>Ticker</td>\n",
       "      <td>100.00</td>\n",
       "    </tr>\n",
       "    <tr>\n",
       "      <td>Net Income (Common)</td>\n",
       "      <td>100.00</td>\n",
       "    </tr>\n",
       "    <tr>\n",
       "      <td>Fiscal Year</td>\n",
       "      <td>100.00</td>\n",
       "    </tr>\n",
       "    <tr>\n",
       "      <td>Report Date</td>\n",
       "      <td>100.00</td>\n",
       "    </tr>\n",
       "    <tr>\n",
       "      <td>Fiscal Period</td>\n",
       "      <td>100.00</td>\n",
       "    </tr>\n",
       "    <tr>\n",
       "      <td>SimFinId</td>\n",
       "      <td>100.00</td>\n",
       "    </tr>\n",
       "    <tr>\n",
       "      <td>Currency</td>\n",
       "      <td>100.00</td>\n",
       "    </tr>\n",
       "    <tr>\n",
       "      <td>Operating Income (Loss)</td>\n",
       "      <td>99.97</td>\n",
       "    </tr>\n",
       "    <tr>\n",
       "      <td>Operating Expenses</td>\n",
       "      <td>99.57</td>\n",
       "    </tr>\n",
       "    <tr>\n",
       "      <td>Non-Operating Income (Loss)</td>\n",
       "      <td>98.96</td>\n",
       "    </tr>\n",
       "    <tr>\n",
       "      <td>Gross Profit</td>\n",
       "      <td>98.48</td>\n",
       "    </tr>\n",
       "    <tr>\n",
       "      <td>Revenue</td>\n",
       "      <td>98.46</td>\n",
       "    </tr>\n",
       "    <tr>\n",
       "      <td>Shares (Basic)</td>\n",
       "      <td>97.23</td>\n",
       "    </tr>\n",
       "    <tr>\n",
       "      <td>Shares (Diluted)</td>\n",
       "      <td>96.74</td>\n",
       "    </tr>\n",
       "    <tr>\n",
       "      <td>Selling, General &amp; Administrative</td>\n",
       "      <td>95.12</td>\n",
       "    </tr>\n",
       "    <tr>\n",
       "      <td>Income Tax (Expense) Benefit, Net</td>\n",
       "      <td>94.18</td>\n",
       "    </tr>\n",
       "    <tr>\n",
       "      <td>Cost of Revenue</td>\n",
       "      <td>90.91</td>\n",
       "    </tr>\n",
       "    <tr>\n",
       "      <td>Interest Expense, Net</td>\n",
       "      <td>88.04</td>\n",
       "    </tr>\n",
       "    <tr>\n",
       "      <td>Abnormal Gains (Losses)</td>\n",
       "      <td>66.33</td>\n",
       "    </tr>\n",
       "    <tr>\n",
       "      <td>Depreciation &amp; Amortization</td>\n",
       "      <td>44.01</td>\n",
       "    </tr>\n",
       "    <tr>\n",
       "      <td>Research &amp; Development</td>\n",
       "      <td>39.96</td>\n",
       "    </tr>\n",
       "    <tr>\n",
       "      <td>Net Extraordinary Gains (Losses)</td>\n",
       "      <td>22.10</td>\n",
       "    </tr>\n",
       "  </tbody>\n",
       "</table>\n",
       "</div>"
      ],
      "text/plain": [
       "                                            Prop\n",
       "index                                     100.00\n",
       "Publish Date                              100.00\n",
       "Net Income                                100.00\n",
       "Income (Loss) from Continuing Operations  100.00\n",
       "Pretax Income (Loss)                      100.00\n",
       "Pretax Income (Loss), Adj.                100.00\n",
       "Ticker                                    100.00\n",
       "Net Income (Common)                       100.00\n",
       "Fiscal Year                               100.00\n",
       "Report Date                               100.00\n",
       "Fiscal Period                             100.00\n",
       "SimFinId                                  100.00\n",
       "Currency                                  100.00\n",
       "Operating Income (Loss)                    99.97\n",
       "Operating Expenses                         99.57\n",
       "Non-Operating Income (Loss)                98.96\n",
       "Gross Profit                               98.48\n",
       "Revenue                                    98.46\n",
       "Shares (Basic)                             97.23\n",
       "Shares (Diluted)                           96.74\n",
       "Selling, General & Administrative          95.12\n",
       "Income Tax (Expense) Benefit, Net          94.18\n",
       "Cost of Revenue                            90.91\n",
       "Interest Expense, Net                      88.04\n",
       "Abnormal Gains (Losses)                    66.33\n",
       "Depreciation & Amortization                44.01\n",
       "Research & Development                     39.96\n",
       "Net Extraordinary Gains (Losses)           22.10"
      ]
     },
     "execution_count": 12,
     "metadata": {},
     "output_type": "execute_result"
    }
   ],
   "source": [
    "#check non-missing value % of income statement\n",
    "prop_nonmissing(df_income_a).sort_values(by = 'Prop',ascending = False)"
   ]
  },
  {
   "cell_type": "code",
   "execution_count": 13,
   "metadata": {},
   "outputs": [
    {
     "data": {
      "image/png": "[encoded data removed]",
      "text/plain": [
       "<Figure size 432x288 with 1 Axes>"
      ]
     },
     "metadata": {
      "needs_background": "light"
     },
     "output_type": "display_data"
    },
    {
     "data": {
      "image/png": "[encoded data removed]",
      "text/plain": [
       "<Figure size 432x288 with 1 Axes>"
      ]
     },
     "metadata": {
      "needs_background": "light"
     },
     "output_type": "display_data"
    },
    {
     "data": {
      "image/png": "[encoded data removed]",
      "text/plain": [
       "<Figure size 432x288 with 1 Axes>"
      ]
     },
     "metadata": {
      "needs_background": "light"
     },
     "output_type": "display_data"
    },
    {
     "data": {
      "image/png": "[encoded data removed]",
      "text/plain": [
       "<Figure size 432x288 with 1 Axes>"
      ]
     },
     "metadata": {
      "needs_background": "light"
     },
     "output_type": "display_data"
    },
    {
     "data": {
      "image/png": "[encoded data removed]",
      "text/plain": [
       "<Figure size 432x288 with 1 Axes>"
      ]
     },
     "metadata": {
      "needs_background": "light"
     },
     "output_type": "display_data"
    },
    {
     "data": {
      "image/png": "[encoded data removed]",
      "text/plain": [
       "<Figure size 432x288 with 1 Axes>"
      ]
     },
     "metadata": {
      "needs_background": "light"
     },
     "output_type": "display_data"
    },
    {
     "data": {
      "image/png": "[encoded data removed]",
      "text/plain": [
       "<Figure size 432x288 with 1 Axes>"
      ]
     },
     "metadata": {
      "needs_background": "light"
     },
     "output_type": "display_data"
    },
    {
     "data": {
      "image/png": "[encoded data removed]",
      "text/plain": [
       "<Figure size 432x288 with 1 Axes>"
      ]
     },
     "metadata": {
      "needs_background": "light"
     },
     "output_type": "display_data"
    },
    {
     "data": {
      "image/png": "[encoded data removed]",
      "text/plain": [
       "<Figure size 432x288 with 1 Axes>"
      ]
     },
     "metadata": {
      "needs_background": "light"
     },
     "output_type": "display_data"
    },
    {
     "data": {
      "image/png": "[encoded data removed]",
      "text/plain": [
       "<Figure size 432x288 with 1 Axes>"
      ]
     },
     "metadata": {
      "needs_background": "light"
     },
     "output_type": "display_data"
    },
    {
     "data": {
      "image/png": "[encoded data removed]",
      "text/plain": [
       "<Figure size 432x288 with 1 Axes>"
      ]
     },
     "metadata": {
      "needs_background": "light"
     },
     "output_type": "display_data"
    },
    {
     "data": {
      "image/png": "[encoded data removed]",
      "text/plain": [
       "<Figure size 432x288 with 1 Axes>"
      ]
     },
     "metadata": {
      "needs_background": "light"
     },
     "output_type": "display_data"
    },
    {
     "data": {
      "image/png": "[encoded data removed]",
      "text/plain": [
       "<Figure size 432x288 with 1 Axes>"
      ]
     },
     "metadata": {
      "needs_background": "light"
     },
     "output_type": "display_data"
    },
    {
     "data": {
      "image/png": "[encoded data removed]",
      "text/plain": [
       "<Figure size 432x288 with 1 Axes>"
      ]
     },
     "metadata": {
      "needs_background": "light"
     },
     "output_type": "display_data"
    },
    {
     "data": {
      "image/png": "[encoded data removed]",
      "text/plain": [
       "<Figure size 432x288 with 1 Axes>"
      ]
     },
     "metadata": {
      "needs_background": "light"
     },
     "output_type": "display_data"
    },
    {
     "data": {
      "image/png": "[encoded data removed]",
      "text/plain": [
       "<Figure size 432x288 with 1 Axes>"
      ]
     },
     "metadata": {
      "needs_background": "light"
     },
     "output_type": "display_data"
    },
    {
     "data": {
      "image/png": "[encoded data removed]",
      "text/plain": [
       "<Figure size 432x288 with 1 Axes>"
      ]
     },
     "metadata": {
      "needs_background": "light"
     },
     "output_type": "display_data"
    },
    {
     "data": {
      "image/png": "[encoded data removed]",
      "text/plain": [
       "<Figure size 432x288 with 1 Axes>"
      ]
     },
     "metadata": {
      "needs_background": "light"
     },
     "output_type": "display_data"
    },
    {
     "data": {
      "image/png": "[encoded data removed]",
      "text/plain": [
       "<Figure size 432x288 with 1 Axes>"
      ]
     },
     "metadata": {
      "needs_background": "light"
     },
     "output_type": "display_data"
    },
    {
     "data": {
      "image/png": "[encoded data removed]",
      "text/plain": [
       "<Figure size 432x288 with 1 Axes>"
      ]
     },
     "metadata": {
      "needs_background": "light"
     },
     "output_type": "display_data"
    }
   ],
   "source": [
    "#plot distribution for each column\n",
    "drop_c =['Ticker','Report Date','SimFinId','Currency','Fiscal Year','Fiscal Period', 'Publish Date' ]\n",
    "df = df_income_a.drop(drop_c,axis=1)\n",
    "for i, col in enumerate(df.columns):\n",
    "    if isinstance(df[col], object):\n",
    "        tmp = df[col].dropna()\n",
    "        __ = plt.figure(i)\n",
    "        _ = sns.distplot(tmp)\n",
    "        plt.show()"
   ]
  },
  {
   "cell_type": "markdown",
   "metadata": {},
   "source": [
    "## Balance Sheet"
   ]
  },
  {
   "cell_type": "code",
   "execution_count": 14,
   "metadata": {},
   "outputs": [
    {
     "data": {
      "text/plain": [
       "Index(['Ticker', 'Report Date', 'SimFinId', 'Currency', 'Fiscal Year',\n",
       "       'Fiscal Period', 'Publish Date', 'Shares (Basic)', 'Shares (Diluted)',\n",
       "       'Cash, Cash Equivalents & Short Term Investments',\n",
       "       'Accounts & Notes Receivable', 'Inventories', 'Total Current Assets',\n",
       "       'Property, Plant & Equipment, Net',\n",
       "       'Long Term Investments & Receivables', 'Other Long Term Assets',\n",
       "       'Total Noncurrent Assets', 'Total Assets', 'Payables & Accruals',\n",
       "       'Short Term Debt', 'Total Current Liabilities', 'Long Term Debt',\n",
       "       'Total Noncurrent Liabilities', 'Total Liabilities',\n",
       "       'Share Capital & Additional Paid-In Capital', 'Treasury Stock',\n",
       "       'Retained Earnings', 'Total Equity', 'Total Liabilities & Equity'],\n",
       "      dtype='object')"
      ]
     },
     "execution_count": 14,
     "metadata": {},
     "output_type": "execute_result"
    }
   ],
   "source": [
    "#display all column names \n",
    "df_balance_a.columns"
   ]
  },
  {
   "cell_type": "code",
   "execution_count": 15,
   "metadata": {},
   "outputs": [
    {
     "data": {
      "text/plain": [
       "(14768, 29)"
      ]
     },
     "execution_count": 15,
     "metadata": {},
     "output_type": "execute_result"
    },
    {
     "data": {
      "text/plain": [
       "1915"
      ]
     },
     "execution_count": 15,
     "metadata": {},
     "output_type": "execute_result"
    },
    {
     "data": {
      "text/plain": [
       "1915"
      ]
     },
     "execution_count": 15,
     "metadata": {},
     "output_type": "execute_result"
    }
   ],
   "source": [
    "#everything included\n",
    "df_balance_a.shape #(14768, 29)\n",
    "df_balance_a['Ticker'].nunique() #1915 stocks\n",
    "df_balance_a['SimFinId'].nunique() #same as above "
   ]
  },
  {
   "cell_type": "code",
   "execution_count": 16,
   "metadata": {},
   "outputs": [
    {
     "data": {
      "text/plain": [
       "set()"
      ]
     },
     "execution_count": 16,
     "metadata": {},
     "output_type": "execute_result"
    },
    {
     "data": {
      "text/plain": [
       "set()"
      ]
     },
     "execution_count": 16,
     "metadata": {},
     "output_type": "execute_result"
    }
   ],
   "source": [
    "#看三张表重合度,无重合\n",
    "intersection = set(df_balance_a['SimFinId']) & set(df_balance_a_bank['SimFinId'])\n",
    "intersection #无重合\n",
    "\n",
    "intersection2 = set(df_balance_a['SimFinId']) & set(df_income_a_ins['SimFinId'])\n",
    "intersection2 #无重合"
   ]
  },
  {
   "cell_type": "code",
   "execution_count": 17,
   "metadata": {
    "scrolled": true
   },
   "outputs": [
    {
     "data": {
      "text/html": [
       "<div>\n",
       "<style scoped>\n",
       "    .dataframe tbody tr th:only-of-type {\n",
       "        vertical-align: middle;\n",
       "    }\n",
       "\n",
       "    .dataframe tbody tr th {\n",
       "        vertical-align: top;\n",
       "    }\n",
       "\n",
       "    .dataframe thead th {\n",
       "        text-align: right;\n",
       "    }\n",
       "</style>\n",
       "<table border=\"1\" class=\"dataframe\">\n",
       "  <thead>\n",
       "    <tr style=\"text-align: right;\">\n",
       "      <th></th>\n",
       "      <th>Prop</th>\n",
       "    </tr>\n",
       "  </thead>\n",
       "  <tbody>\n",
       "    <tr>\n",
       "      <td>index</td>\n",
       "      <td>100.00</td>\n",
       "    </tr>\n",
       "    <tr>\n",
       "      <td>Publish Date</td>\n",
       "      <td>100.00</td>\n",
       "    </tr>\n",
       "    <tr>\n",
       "      <td>Total Liabilities</td>\n",
       "      <td>100.00</td>\n",
       "    </tr>\n",
       "    <tr>\n",
       "      <td>Total Current Liabilities</td>\n",
       "      <td>100.00</td>\n",
       "    </tr>\n",
       "    <tr>\n",
       "      <td>Total Assets</td>\n",
       "      <td>100.00</td>\n",
       "    </tr>\n",
       "    <tr>\n",
       "      <td>Ticker</td>\n",
       "      <td>100.00</td>\n",
       "    </tr>\n",
       "    <tr>\n",
       "      <td>Total Liabilities &amp; Equity</td>\n",
       "      <td>100.00</td>\n",
       "    </tr>\n",
       "    <tr>\n",
       "      <td>Fiscal Period</td>\n",
       "      <td>100.00</td>\n",
       "    </tr>\n",
       "    <tr>\n",
       "      <td>Fiscal Year</td>\n",
       "      <td>100.00</td>\n",
       "    </tr>\n",
       "    <tr>\n",
       "      <td>Report Date</td>\n",
       "      <td>100.00</td>\n",
       "    </tr>\n",
       "    <tr>\n",
       "      <td>SimFinId</td>\n",
       "      <td>100.00</td>\n",
       "    </tr>\n",
       "    <tr>\n",
       "      <td>Currency</td>\n",
       "      <td>100.00</td>\n",
       "    </tr>\n",
       "    <tr>\n",
       "      <td>Total Equity</td>\n",
       "      <td>99.99</td>\n",
       "    </tr>\n",
       "    <tr>\n",
       "      <td>Total Current Assets</td>\n",
       "      <td>99.97</td>\n",
       "    </tr>\n",
       "    <tr>\n",
       "      <td>Cash, Cash Equivalents &amp; Short Term Investments</td>\n",
       "      <td>99.76</td>\n",
       "    </tr>\n",
       "    <tr>\n",
       "      <td>Total Noncurrent Assets</td>\n",
       "      <td>99.57</td>\n",
       "    </tr>\n",
       "    <tr>\n",
       "      <td>Payables &amp; Accruals</td>\n",
       "      <td>99.56</td>\n",
       "    </tr>\n",
       "    <tr>\n",
       "      <td>Share Capital &amp; Additional Paid-In Capital</td>\n",
       "      <td>99.15</td>\n",
       "    </tr>\n",
       "    <tr>\n",
       "      <td>Total Noncurrent Liabilities</td>\n",
       "      <td>98.94</td>\n",
       "    </tr>\n",
       "    <tr>\n",
       "      <td>Other Long Term Assets</td>\n",
       "      <td>98.61</td>\n",
       "    </tr>\n",
       "    <tr>\n",
       "      <td>Property, Plant &amp; Equipment, Net</td>\n",
       "      <td>98.29</td>\n",
       "    </tr>\n",
       "    <tr>\n",
       "      <td>Retained Earnings</td>\n",
       "      <td>96.61</td>\n",
       "    </tr>\n",
       "    <tr>\n",
       "      <td>Shares (Basic)</td>\n",
       "      <td>94.23</td>\n",
       "    </tr>\n",
       "    <tr>\n",
       "      <td>Shares (Diluted)</td>\n",
       "      <td>93.78</td>\n",
       "    </tr>\n",
       "    <tr>\n",
       "      <td>Accounts &amp; Notes Receivable</td>\n",
       "      <td>91.68</td>\n",
       "    </tr>\n",
       "    <tr>\n",
       "      <td>Long Term Debt</td>\n",
       "      <td>78.42</td>\n",
       "    </tr>\n",
       "    <tr>\n",
       "      <td>Inventories</td>\n",
       "      <td>69.41</td>\n",
       "    </tr>\n",
       "    <tr>\n",
       "      <td>Short Term Debt</td>\n",
       "      <td>66.87</td>\n",
       "    </tr>\n",
       "    <tr>\n",
       "      <td>Treasury Stock</td>\n",
       "      <td>49.12</td>\n",
       "    </tr>\n",
       "    <tr>\n",
       "      <td>Long Term Investments &amp; Receivables</td>\n",
       "      <td>29.65</td>\n",
       "    </tr>\n",
       "  </tbody>\n",
       "</table>\n",
       "</div>"
      ],
      "text/plain": [
       "                                                   Prop\n",
       "index                                            100.00\n",
       "Publish Date                                     100.00\n",
       "Total Liabilities                                100.00\n",
       "Total Current Liabilities                        100.00\n",
       "Total Assets                                     100.00\n",
       "Ticker                                           100.00\n",
       "Total Liabilities & Equity                       100.00\n",
       "Fiscal Period                                    100.00\n",
       "Fiscal Year                                      100.00\n",
       "Report Date                                      100.00\n",
       "SimFinId                                         100.00\n",
       "Currency                                         100.00\n",
       "Total Equity                                      99.99\n",
       "Total Current Assets                              99.97\n",
       "Cash, Cash Equivalents & Short Term Investments   99.76\n",
       "Total Noncurrent Assets                           99.57\n",
       "Payables & Accruals                               99.56\n",
       "Share Capital & Additional Paid-In Capital        99.15\n",
       "Total Noncurrent Liabilities                      98.94\n",
       "Other Long Term Assets                            98.61\n",
       "Property, Plant & Equipment, Net                  98.29\n",
       "Retained Earnings                                 96.61\n",
       "Shares (Basic)                                    94.23\n",
       "Shares (Diluted)                                  93.78\n",
       "Accounts & Notes Receivable                       91.68\n",
       "Long Term Debt                                    78.42\n",
       "Inventories                                       69.41\n",
       "Short Term Debt                                   66.87\n",
       "Treasury Stock                                    49.12\n",
       "Long Term Investments & Receivables               29.65"
      ]
     },
     "execution_count": 17,
     "metadata": {},
     "output_type": "execute_result"
    }
   ],
   "source": [
    "#balance sheet\n",
    "prop_nonmissing(df_balance_a).sort_values(by='Prop',ascending = False)"
   ]
  },
  {
   "cell_type": "markdown",
   "metadata": {},
   "source": [
    "## Cash Flow"
   ]
  },
  {
   "cell_type": "code",
   "execution_count": 18,
   "metadata": {},
   "outputs": [
    {
     "data": {
      "text/plain": [
       "Index(['Ticker', 'Report Date', 'SimFinId', 'Currency', 'Fiscal Year',\n",
       "       'Fiscal Period', 'Publish Date', 'Shares (Basic)', 'Shares (Diluted)',\n",
       "       'Net Income/Starting Line', 'Depreciation & Amortization',\n",
       "       'Non-Cash Items', 'Change in Working Capital',\n",
       "       'Change in Accounts Receivable', 'Change in Inventories',\n",
       "       'Change in Accounts Payable', 'Change in Other',\n",
       "       'Net Cash from Operating Activities',\n",
       "       'Change in Fixed Assets & Intangibles',\n",
       "       'Net Change in Long Term Investment',\n",
       "       'Net Cash from Acquisitions & Divestitures',\n",
       "       'Net Cash from Investing Activities', 'Dividends Paid',\n",
       "       'Cash from (Repayment of) Debt', 'Cash from (Repurchase of) Equity',\n",
       "       'Net Cash from Financing Activities', 'Net Change in Cash'],\n",
       "      dtype='object')"
      ]
     },
     "execution_count": 18,
     "metadata": {},
     "output_type": "execute_result"
    }
   ],
   "source": [
    "#display all column names \n",
    "df_cashflow_a.columns"
   ]
  },
  {
   "cell_type": "code",
   "execution_count": 19,
   "metadata": {},
   "outputs": [
    {
     "data": {
      "text/plain": [
       "(14768, 27)"
      ]
     },
     "execution_count": 19,
     "metadata": {},
     "output_type": "execute_result"
    },
    {
     "data": {
      "text/plain": [
       "1915"
      ]
     },
     "execution_count": 19,
     "metadata": {},
     "output_type": "execute_result"
    },
    {
     "data": {
      "text/plain": [
       "1915"
      ]
     },
     "execution_count": 19,
     "metadata": {},
     "output_type": "execute_result"
    }
   ],
   "source": [
    "#everything included\n",
    "df_cashflow_a.shape #(14768, 27)\n",
    "df_cashflow_a['Ticker'].nunique() #1915 stocks\n",
    "df_cashflow_a['SimFinId'].nunique() #same as above "
   ]
  },
  {
   "cell_type": "code",
   "execution_count": 20,
   "metadata": {},
   "outputs": [
    {
     "data": {
      "text/plain": [
       "set()"
      ]
     },
     "execution_count": 20,
     "metadata": {},
     "output_type": "execute_result"
    },
    {
     "data": {
      "text/plain": [
       "set()"
      ]
     },
     "execution_count": 20,
     "metadata": {},
     "output_type": "execute_result"
    }
   ],
   "source": [
    "#看三张表重合度,无重合\n",
    "intersection = set(df_cashflow_a['SimFinId']) & set(df_cashflow_a_bank['SimFinId'])\n",
    "intersection #无重合\n",
    "\n",
    "intersection2 = set(df_cashflow_a['SimFinId']) & set(df_cashflow_a_ins['SimFinId'])\n",
    "intersection2 #无重合"
   ]
  },
  {
   "cell_type": "code",
   "execution_count": 21,
   "metadata": {},
   "outputs": [
    {
     "data": {
      "text/html": [
       "<div>\n",
       "<style scoped>\n",
       "    .dataframe tbody tr th:only-of-type {\n",
       "        vertical-align: middle;\n",
       "    }\n",
       "\n",
       "    .dataframe tbody tr th {\n",
       "        vertical-align: top;\n",
       "    }\n",
       "\n",
       "    .dataframe thead th {\n",
       "        text-align: right;\n",
       "    }\n",
       "</style>\n",
       "<table border=\"1\" class=\"dataframe\">\n",
       "  <thead>\n",
       "    <tr style=\"text-align: right;\">\n",
       "      <th></th>\n",
       "      <th>Prop</th>\n",
       "    </tr>\n",
       "  </thead>\n",
       "  <tbody>\n",
       "    <tr>\n",
       "      <td>index</td>\n",
       "      <td>100.00</td>\n",
       "    </tr>\n",
       "    <tr>\n",
       "      <td>Fiscal Period</td>\n",
       "      <td>100.00</td>\n",
       "    </tr>\n",
       "    <tr>\n",
       "      <td>Net Cash from Operating Activities</td>\n",
       "      <td>100.00</td>\n",
       "    </tr>\n",
       "    <tr>\n",
       "      <td>Ticker</td>\n",
       "      <td>100.00</td>\n",
       "    </tr>\n",
       "    <tr>\n",
       "      <td>Publish Date</td>\n",
       "      <td>100.00</td>\n",
       "    </tr>\n",
       "    <tr>\n",
       "      <td>Net Change in Cash</td>\n",
       "      <td>100.00</td>\n",
       "    </tr>\n",
       "    <tr>\n",
       "      <td>Fiscal Year</td>\n",
       "      <td>100.00</td>\n",
       "    </tr>\n",
       "    <tr>\n",
       "      <td>SimFinId</td>\n",
       "      <td>100.00</td>\n",
       "    </tr>\n",
       "    <tr>\n",
       "      <td>Report Date</td>\n",
       "      <td>100.00</td>\n",
       "    </tr>\n",
       "    <tr>\n",
       "      <td>Currency</td>\n",
       "      <td>100.00</td>\n",
       "    </tr>\n",
       "    <tr>\n",
       "      <td>Net Income/Starting Line</td>\n",
       "      <td>99.67</td>\n",
       "    </tr>\n",
       "    <tr>\n",
       "      <td>Net Cash from Financing Activities</td>\n",
       "      <td>99.63</td>\n",
       "    </tr>\n",
       "    <tr>\n",
       "      <td>Net Cash from Investing Activities</td>\n",
       "      <td>99.62</td>\n",
       "    </tr>\n",
       "    <tr>\n",
       "      <td>Non-Cash Items</td>\n",
       "      <td>99.61</td>\n",
       "    </tr>\n",
       "    <tr>\n",
       "      <td>Change in Working Capital</td>\n",
       "      <td>99.52</td>\n",
       "    </tr>\n",
       "    <tr>\n",
       "      <td>Depreciation &amp; Amortization</td>\n",
       "      <td>97.91</td>\n",
       "    </tr>\n",
       "    <tr>\n",
       "      <td>Change in Fixed Assets &amp; Intangibles</td>\n",
       "      <td>97.85</td>\n",
       "    </tr>\n",
       "    <tr>\n",
       "      <td>Shares (Basic)</td>\n",
       "      <td>97.23</td>\n",
       "    </tr>\n",
       "    <tr>\n",
       "      <td>Shares (Diluted)</td>\n",
       "      <td>96.74</td>\n",
       "    </tr>\n",
       "    <tr>\n",
       "      <td>Cash from (Repurchase of) Equity</td>\n",
       "      <td>88.85</td>\n",
       "    </tr>\n",
       "    <tr>\n",
       "      <td>Cash from (Repayment of) Debt</td>\n",
       "      <td>87.78</td>\n",
       "    </tr>\n",
       "    <tr>\n",
       "      <td>Net Cash from Acquisitions &amp; Divestitures</td>\n",
       "      <td>60.40</td>\n",
       "    </tr>\n",
       "    <tr>\n",
       "      <td>Dividends Paid</td>\n",
       "      <td>51.67</td>\n",
       "    </tr>\n",
       "    <tr>\n",
       "      <td>Net Change in Long Term Investment</td>\n",
       "      <td>39.48</td>\n",
       "    </tr>\n",
       "    <tr>\n",
       "      <td>Change in Other</td>\n",
       "      <td>11.43</td>\n",
       "    </tr>\n",
       "    <tr>\n",
       "      <td>Change in Accounts Receivable</td>\n",
       "      <td>10.41</td>\n",
       "    </tr>\n",
       "    <tr>\n",
       "      <td>Change in Inventories</td>\n",
       "      <td>8.23</td>\n",
       "    </tr>\n",
       "    <tr>\n",
       "      <td>Change in Accounts Payable</td>\n",
       "      <td>7.83</td>\n",
       "    </tr>\n",
       "  </tbody>\n",
       "</table>\n",
       "</div>"
      ],
      "text/plain": [
       "                                             Prop\n",
       "index                                      100.00\n",
       "Fiscal Period                              100.00\n",
       "Net Cash from Operating Activities         100.00\n",
       "Ticker                                     100.00\n",
       "Publish Date                               100.00\n",
       "Net Change in Cash                         100.00\n",
       "Fiscal Year                                100.00\n",
       "SimFinId                                   100.00\n",
       "Report Date                                100.00\n",
       "Currency                                   100.00\n",
       "Net Income/Starting Line                    99.67\n",
       "Net Cash from Financing Activities          99.63\n",
       "Net Cash from Investing Activities          99.62\n",
       "Non-Cash Items                              99.61\n",
       "Change in Working Capital                   99.52\n",
       "Depreciation & Amortization                 97.91\n",
       "Change in Fixed Assets & Intangibles        97.85\n",
       "Shares (Basic)                              97.23\n",
       "Shares (Diluted)                            96.74\n",
       "Cash from (Repurchase of) Equity            88.85\n",
       "Cash from (Repayment of) Debt               87.78\n",
       "Net Cash from Acquisitions & Divestitures   60.40\n",
       "Dividends Paid                              51.67\n",
       "Net Change in Long Term Investment          39.48\n",
       "Change in Other                             11.43\n",
       "Change in Accounts Receivable               10.41\n",
       "Change in Inventories                        8.23\n",
       "Change in Accounts Payable                   7.83"
      ]
     },
     "execution_count": 21,
     "metadata": {},
     "output_type": "execute_result"
    }
   ],
   "source": [
    "#cash flow\n",
    "prop_nonmissing(df_cashflow_a).sort_values(by='Prop', ascending = False)"
   ]
  },
  {
   "cell_type": "markdown",
   "metadata": {},
   "source": [
    "可以drop：Net Extraordinary Gains (Losses)\t,Abnormal Gains (Losses), Depreciation， too much missing value and are not useful for calculating financial ratio\n",
    "\n",
    "R&D是否需要drop？或许R&D投资高的企业profit margin比较高\n",
    "Net extraordinary gain 和 loss或许可以做成categorical variable"
   ]
  },
  {
   "cell_type": "markdown",
   "metadata": {},
   "source": [
    "## Stock Price"
   ]
  },
  {
   "cell_type": "code",
   "execution_count": 22,
   "metadata": {},
   "outputs": [
    {
     "data": {
      "text/plain": [
       "Index(['Ticker', 'Date', 'SimFinId', 'Open', 'Low', 'High', 'Close',\n",
       "       'Adj. Close', 'Dividend', 'Volume'],\n",
       "      dtype='object')"
      ]
     },
     "execution_count": 22,
     "metadata": {},
     "output_type": "execute_result"
    }
   ],
   "source": [
    "#display all column names\n",
    "df_prices.columns"
   ]
  },
  {
   "cell_type": "code",
   "execution_count": 23,
   "metadata": {},
   "outputs": [
    {
     "data": {
      "text/plain": [
       "(5027050, 10)"
      ]
     },
     "execution_count": 23,
     "metadata": {},
     "output_type": "execute_result"
    },
    {
     "data": {
      "text/plain": [
       "2050"
      ]
     },
     "execution_count": 23,
     "metadata": {},
     "output_type": "execute_result"
    }
   ],
   "source": [
    "df_prices.shape #(5027050, 10)\n",
    "df_prices['Ticker'].nunique()#2050 companies"
   ]
  },
  {
   "cell_type": "code",
   "execution_count": 24,
   "metadata": {},
   "outputs": [
    {
     "data": {
      "text/html": [
       "<div>\n",
       "<style scoped>\n",
       "    .dataframe tbody tr th:only-of-type {\n",
       "        vertical-align: middle;\n",
       "    }\n",
       "\n",
       "    .dataframe tbody tr th {\n",
       "        vertical-align: top;\n",
       "    }\n",
       "\n",
       "    .dataframe thead th {\n",
       "        text-align: right;\n",
       "    }\n",
       "</style>\n",
       "<table border=\"1\" class=\"dataframe\">\n",
       "  <thead>\n",
       "    <tr style=\"text-align: right;\">\n",
       "      <th></th>\n",
       "      <th>Prop</th>\n",
       "    </tr>\n",
       "  </thead>\n",
       "  <tbody>\n",
       "    <tr>\n",
       "      <td>index</td>\n",
       "      <td>100.00</td>\n",
       "    </tr>\n",
       "    <tr>\n",
       "      <td>Ticker</td>\n",
       "      <td>100.00</td>\n",
       "    </tr>\n",
       "    <tr>\n",
       "      <td>Date</td>\n",
       "      <td>100.00</td>\n",
       "    </tr>\n",
       "    <tr>\n",
       "      <td>SimFinId</td>\n",
       "      <td>100.00</td>\n",
       "    </tr>\n",
       "    <tr>\n",
       "      <td>Volume</td>\n",
       "      <td>100.00</td>\n",
       "    </tr>\n",
       "    <tr>\n",
       "      <td>Adj. Close</td>\n",
       "      <td>99.88</td>\n",
       "    </tr>\n",
       "    <tr>\n",
       "      <td>Open</td>\n",
       "      <td>98.38</td>\n",
       "    </tr>\n",
       "    <tr>\n",
       "      <td>Low</td>\n",
       "      <td>98.38</td>\n",
       "    </tr>\n",
       "    <tr>\n",
       "      <td>High</td>\n",
       "      <td>98.38</td>\n",
       "    </tr>\n",
       "    <tr>\n",
       "      <td>Close</td>\n",
       "      <td>98.38</td>\n",
       "    </tr>\n",
       "    <tr>\n",
       "      <td>Dividend</td>\n",
       "      <td>0.76</td>\n",
       "    </tr>\n",
       "  </tbody>\n",
       "</table>\n",
       "</div>"
      ],
      "text/plain": [
       "              Prop\n",
       "index       100.00\n",
       "Ticker      100.00\n",
       "Date        100.00\n",
       "SimFinId    100.00\n",
       "Volume      100.00\n",
       "Adj. Close   99.88\n",
       "Open         98.38\n",
       "Low          98.38\n",
       "High         98.38\n",
       "Close        98.38\n",
       "Dividend      0.76"
      ]
     },
     "execution_count": 24,
     "metadata": {},
     "output_type": "execute_result"
    }
   ],
   "source": [
    "#check missing values \n",
    "prop_nonmissing(df_prices).sort_values(by = 'Prop', ascending = False)"
   ]
  },
  {
   "cell_type": "markdown",
   "metadata": {},
   "source": [
    "## Company&Industry"
   ]
  },
  {
   "cell_type": "code",
   "execution_count": 25,
   "metadata": {},
   "outputs": [
    {
     "data": {
      "text/plain": [
       "Index(['Ticker', 'SimFinId', 'Company Name', 'IndustryId'], dtype='object')"
      ]
     },
     "execution_count": 25,
     "metadata": {},
     "output_type": "execute_result"
    },
    {
     "data": {
      "text/plain": [
       "Index(['IndustryId', 'Sector', 'Industry'], dtype='object')"
      ]
     },
     "execution_count": 25,
     "metadata": {},
     "output_type": "execute_result"
    }
   ],
   "source": [
    "#display all column names \n",
    "comp.columns\n",
    "industry.columns"
   ]
  },
  {
   "cell_type": "code",
   "execution_count": 26,
   "metadata": {},
   "outputs": [
    {
     "data": {
      "text/plain": [
       "(2067, 4)"
      ]
     },
     "execution_count": 26,
     "metadata": {},
     "output_type": "execute_result"
    },
    {
     "data": {
      "text/plain": [
       "(71, 3)"
      ]
     },
     "execution_count": 26,
     "metadata": {},
     "output_type": "execute_result"
    },
    {
     "data": {
      "text/plain": [
       "2067"
      ]
     },
     "execution_count": 26,
     "metadata": {},
     "output_type": "execute_result"
    },
    {
     "data": {
      "text/plain": [
       "71"
      ]
     },
     "execution_count": 26,
     "metadata": {},
     "output_type": "execute_result"
    },
    {
     "data": {
      "text/plain": [
       "71"
      ]
     },
     "execution_count": 26,
     "metadata": {},
     "output_type": "execute_result"
    },
    {
     "data": {
      "text/plain": [
       "12"
      ]
     },
     "execution_count": 26,
     "metadata": {},
     "output_type": "execute_result"
    }
   ],
   "source": [
    "comp.shape #(2069, 4)\n",
    "industry.shape #(71,3)\n",
    "comp['Ticker'].nunique() #2069 stocks\n",
    "industry['IndustryId'].nunique() #71 industries\n",
    "industry['Industry'].nunique()#same as above\n",
    "industry['Sector'].nunique()#12 sector"
   ]
  },
  {
   "cell_type": "code",
   "execution_count": 27,
   "metadata": {},
   "outputs": [
    {
     "data": {
      "text/html": [
       "<div>\n",
       "<style scoped>\n",
       "    .dataframe tbody tr th:only-of-type {\n",
       "        vertical-align: middle;\n",
       "    }\n",
       "\n",
       "    .dataframe tbody tr th {\n",
       "        vertical-align: top;\n",
       "    }\n",
       "\n",
       "    .dataframe thead th {\n",
       "        text-align: right;\n",
       "    }\n",
       "</style>\n",
       "<table border=\"1\" class=\"dataframe\">\n",
       "  <thead>\n",
       "    <tr style=\"text-align: right;\">\n",
       "      <th></th>\n",
       "      <th>Prop</th>\n",
       "    </tr>\n",
       "  </thead>\n",
       "  <tbody>\n",
       "    <tr>\n",
       "      <td>index</td>\n",
       "      <td>100.00</td>\n",
       "    </tr>\n",
       "    <tr>\n",
       "      <td>Ticker</td>\n",
       "      <td>100.00</td>\n",
       "    </tr>\n",
       "    <tr>\n",
       "      <td>SimFinId</td>\n",
       "      <td>100.00</td>\n",
       "    </tr>\n",
       "    <tr>\n",
       "      <td>Company Name</td>\n",
       "      <td>100.00</td>\n",
       "    </tr>\n",
       "    <tr>\n",
       "      <td>IndustryId</td>\n",
       "      <td>91.15</td>\n",
       "    </tr>\n",
       "  </tbody>\n",
       "</table>\n",
       "</div>"
      ],
      "text/plain": [
       "                Prop\n",
       "index         100.00\n",
       "Ticker        100.00\n",
       "SimFinId      100.00\n",
       "Company Name  100.00\n",
       "IndustryId     91.15"
      ]
     },
     "execution_count": 27,
     "metadata": {},
     "output_type": "execute_result"
    },
    {
     "data": {
      "text/html": [
       "<div>\n",
       "<style scoped>\n",
       "    .dataframe tbody tr th:only-of-type {\n",
       "        vertical-align: middle;\n",
       "    }\n",
       "\n",
       "    .dataframe tbody tr th {\n",
       "        vertical-align: top;\n",
       "    }\n",
       "\n",
       "    .dataframe thead th {\n",
       "        text-align: right;\n",
       "    }\n",
       "</style>\n",
       "<table border=\"1\" class=\"dataframe\">\n",
       "  <thead>\n",
       "    <tr style=\"text-align: right;\">\n",
       "      <th></th>\n",
       "      <th>Prop</th>\n",
       "    </tr>\n",
       "  </thead>\n",
       "  <tbody>\n",
       "    <tr>\n",
       "      <td>index</td>\n",
       "      <td>100.0</td>\n",
       "    </tr>\n",
       "    <tr>\n",
       "      <td>IndustryId</td>\n",
       "      <td>100.0</td>\n",
       "    </tr>\n",
       "    <tr>\n",
       "      <td>Sector</td>\n",
       "      <td>100.0</td>\n",
       "    </tr>\n",
       "    <tr>\n",
       "      <td>Industry</td>\n",
       "      <td>100.0</td>\n",
       "    </tr>\n",
       "  </tbody>\n",
       "</table>\n",
       "</div>"
      ],
      "text/plain": [
       "             Prop\n",
       "index       100.0\n",
       "IndustryId  100.0\n",
       "Sector      100.0\n",
       "Industry    100.0"
      ]
     },
     "execution_count": 27,
     "metadata": {},
     "output_type": "execute_result"
    }
   ],
   "source": [
    "#check missing values\n",
    "prop_nonmissing(comp)\n",
    "prop_nonmissing(industry)"
   ]
  },
  {
   "cell_type": "code",
   "execution_count": 28,
   "metadata": {},
   "outputs": [
    {
     "data": {
      "text/plain": [
       "1915"
      ]
     },
     "execution_count": 28,
     "metadata": {},
     "output_type": "execute_result"
    },
    {
     "data": {
      "text/plain": [
       "1915"
      ]
     },
     "execution_count": 28,
     "metadata": {},
     "output_type": "execute_result"
    }
   ],
   "source": [
    "intersection3 = set(df_balance_a['SimFinId']) & set(df_income_a['SimFinId'])\n",
    "len(intersection3) #有income和balance数据的是同一批公司\n",
    "\n",
    "intersection4 = set(df_balance_a['SimFinId']) & set(df_cashflow_a['SimFinId'])\n",
    "len(intersection4) #有income和balance数据的是同一批公司"
   ]
  },
  {
   "cell_type": "markdown",
   "metadata": {},
   "source": [
    "# Join Data"
   ]
  },
  {
   "cell_type": "code",
   "execution_count": 29,
   "metadata": {},
   "outputs": [
    {
     "data": {
      "text/html": [
       "<div>\n",
       "<style scoped>\n",
       "    .dataframe tbody tr th:only-of-type {\n",
       "        vertical-align: middle;\n",
       "    }\n",
       "\n",
       "    .dataframe tbody tr th {\n",
       "        vertical-align: top;\n",
       "    }\n",
       "\n",
       "    .dataframe thead th {\n",
       "        text-align: right;\n",
       "    }\n",
       "</style>\n",
       "<table border=\"1\" class=\"dataframe\">\n",
       "  <thead>\n",
       "    <tr style=\"text-align: right;\">\n",
       "      <th></th>\n",
       "      <th>Ticker</th>\n",
       "      <th>SimFinId</th>\n",
       "      <th>Company Name</th>\n",
       "      <th>IndustryId</th>\n",
       "    </tr>\n",
       "  </thead>\n",
       "  <tbody>\n",
       "    <tr>\n",
       "      <td>0</td>\n",
       "      <td>A</td>\n",
       "      <td>45846</td>\n",
       "      <td>AGILENT TECHNOLOGIES INC</td>\n",
       "      <td>106001.0</td>\n",
       "    </tr>\n",
       "    <tr>\n",
       "      <td>1</td>\n",
       "      <td>AA</td>\n",
       "      <td>367153</td>\n",
       "      <td>Alcoa Corp</td>\n",
       "      <td>110004.0</td>\n",
       "    </tr>\n",
       "  </tbody>\n",
       "</table>\n",
       "</div>"
      ],
      "text/plain": [
       "  Ticker  SimFinId              Company Name  IndustryId\n",
       "0      A     45846  AGILENT TECHNOLOGIES INC    106001.0\n",
       "1     AA    367153                Alcoa Corp    110004.0"
      ]
     },
     "execution_count": 29,
     "metadata": {},
     "output_type": "execute_result"
    },
    {
     "data": {
      "text/html": [
       "<div>\n",
       "<style scoped>\n",
       "    .dataframe tbody tr th:only-of-type {\n",
       "        vertical-align: middle;\n",
       "    }\n",
       "\n",
       "    .dataframe tbody tr th {\n",
       "        vertical-align: top;\n",
       "    }\n",
       "\n",
       "    .dataframe thead th {\n",
       "        text-align: right;\n",
       "    }\n",
       "</style>\n",
       "<table border=\"1\" class=\"dataframe\">\n",
       "  <thead>\n",
       "    <tr style=\"text-align: right;\">\n",
       "      <th></th>\n",
       "      <th>IndustryId</th>\n",
       "      <th>Sector</th>\n",
       "      <th>Industry</th>\n",
       "    </tr>\n",
       "  </thead>\n",
       "  <tbody>\n",
       "    <tr>\n",
       "      <td>0</td>\n",
       "      <td>100001</td>\n",
       "      <td>Industrials</td>\n",
       "      <td>Industrial Products</td>\n",
       "    </tr>\n",
       "    <tr>\n",
       "      <td>1</td>\n",
       "      <td>100002</td>\n",
       "      <td>Industrials</td>\n",
       "      <td>Business Services</td>\n",
       "    </tr>\n",
       "  </tbody>\n",
       "</table>\n",
       "</div>"
      ],
      "text/plain": [
       "   IndustryId       Sector             Industry\n",
       "0      100001  Industrials  Industrial Products\n",
       "1      100002  Industrials    Business Services"
      ]
     },
     "execution_count": 29,
     "metadata": {},
     "output_type": "execute_result"
    }
   ],
   "source": [
    "comp.head(2)\n",
    "industry.head(2)"
   ]
  },
  {
   "cell_type": "code",
   "execution_count": 30,
   "metadata": {},
   "outputs": [
    {
     "data": {
      "text/html": [
       "<div>\n",
       "<style scoped>\n",
       "    .dataframe tbody tr th:only-of-type {\n",
       "        vertical-align: middle;\n",
       "    }\n",
       "\n",
       "    .dataframe tbody tr th {\n",
       "        vertical-align: top;\n",
       "    }\n",
       "\n",
       "    .dataframe thead th {\n",
       "        text-align: right;\n",
       "    }\n",
       "</style>\n",
       "<table border=\"1\" class=\"dataframe\">\n",
       "  <thead>\n",
       "    <tr style=\"text-align: right;\">\n",
       "      <th></th>\n",
       "      <th>Ticker</th>\n",
       "      <th>SimFinId</th>\n",
       "      <th>Company Name</th>\n",
       "      <th>IndustryId</th>\n",
       "      <th>Sector</th>\n",
       "      <th>Industry</th>\n",
       "    </tr>\n",
       "  </thead>\n",
       "  <tbody>\n",
       "    <tr>\n",
       "      <td>0</td>\n",
       "      <td>A</td>\n",
       "      <td>45846</td>\n",
       "      <td>AGILENT TECHNOLOGIES INC</td>\n",
       "      <td>106001.0</td>\n",
       "      <td>Healthcare</td>\n",
       "      <td>Medical Diagnostics &amp; Research</td>\n",
       "    </tr>\n",
       "    <tr>\n",
       "      <td>1</td>\n",
       "      <td>AA</td>\n",
       "      <td>367153</td>\n",
       "      <td>Alcoa Corp</td>\n",
       "      <td>110004.0</td>\n",
       "      <td>Basic Materials</td>\n",
       "      <td>Metals &amp; Mining</td>\n",
       "    </tr>\n",
       "    <tr>\n",
       "      <td>2</td>\n",
       "      <td>AAC</td>\n",
       "      <td>939324</td>\n",
       "      <td>AAC Holdings, Inc.</td>\n",
       "      <td>NaN</td>\n",
       "      <td>NaN</td>\n",
       "      <td>NaN</td>\n",
       "    </tr>\n",
       "    <tr>\n",
       "      <td>3</td>\n",
       "      <td>AAL</td>\n",
       "      <td>68568</td>\n",
       "      <td>American Airlines Group Inc.</td>\n",
       "      <td>100006.0</td>\n",
       "      <td>Industrials</td>\n",
       "      <td>Airlines</td>\n",
       "    </tr>\n",
       "    <tr>\n",
       "      <td>4</td>\n",
       "      <td>AAME</td>\n",
       "      <td>450021</td>\n",
       "      <td>ATLANTIC AMERICAN CORP</td>\n",
       "      <td>104004.0</td>\n",
       "      <td>Financial Services</td>\n",
       "      <td>Insurance - Life</td>\n",
       "    </tr>\n",
       "  </tbody>\n",
       "</table>\n",
       "</div>"
      ],
      "text/plain": [
       "  Ticker  SimFinId                  Company Name  IndustryId  \\\n",
       "0      A     45846      AGILENT TECHNOLOGIES INC    106001.0   \n",
       "1     AA    367153                    Alcoa Corp    110004.0   \n",
       "2    AAC    939324            AAC Holdings, Inc.         NaN   \n",
       "3    AAL     68568  American Airlines Group Inc.    100006.0   \n",
       "4   AAME    450021        ATLANTIC AMERICAN CORP    104004.0   \n",
       "\n",
       "               Sector                        Industry  \n",
       "0          Healthcare  Medical Diagnostics & Research  \n",
       "1     Basic Materials                 Metals & Mining  \n",
       "2                 NaN                             NaN  \n",
       "3         Industrials                        Airlines  \n",
       "4  Financial Services                Insurance - Life  "
      ]
     },
     "execution_count": 30,
     "metadata": {},
     "output_type": "execute_result"
    },
    {
     "data": {
      "text/plain": [
       "(2067, 6)"
      ]
     },
     "execution_count": 30,
     "metadata": {},
     "output_type": "execute_result"
    }
   ],
   "source": [
    "#left join industry on company\n",
    "comp['IndustryId'] = comp[['IndustryId']].astype('float')\n",
    "df = pd.merge(comp, industry, on ='IndustryId', how = 'left',suffixes=('','_right'))\n",
    "df.head(5)\n",
    "df.shape"
   ]
  },
  {
   "cell_type": "code",
   "execution_count": 31,
   "metadata": {
    "scrolled": false
   },
   "outputs": [
    {
     "data": {
      "text/html": [
       "<div>\n",
       "<style scoped>\n",
       "    .dataframe tbody tr th:only-of-type {\n",
       "        vertical-align: middle;\n",
       "    }\n",
       "\n",
       "    .dataframe tbody tr th {\n",
       "        vertical-align: top;\n",
       "    }\n",
       "\n",
       "    .dataframe thead th {\n",
       "        text-align: right;\n",
       "    }\n",
       "</style>\n",
       "<table border=\"1\" class=\"dataframe\">\n",
       "  <thead>\n",
       "    <tr style=\"text-align: right;\">\n",
       "      <th></th>\n",
       "      <th>Ticker</th>\n",
       "      <th>SimFinId</th>\n",
       "      <th>Company Name</th>\n",
       "      <th>IndustryId</th>\n",
       "      <th>Sector</th>\n",
       "      <th>Industry</th>\n",
       "      <th>Report Date</th>\n",
       "      <th>Currency</th>\n",
       "      <th>Fiscal Year</th>\n",
       "      <th>Fiscal Period</th>\n",
       "      <th>Publish Date</th>\n",
       "      <th>Shares (Basic)</th>\n",
       "      <th>Shares (Diluted)</th>\n",
       "      <th>Revenue</th>\n",
       "      <th>Cost of Revenue</th>\n",
       "      <th>Gross Profit</th>\n",
       "      <th>Operating Expenses</th>\n",
       "      <th>Selling, General &amp; Administrative</th>\n",
       "      <th>Research &amp; Development</th>\n",
       "      <th>Depreciation &amp; Amortization</th>\n",
       "      <th>Operating Income (Loss)</th>\n",
       "      <th>Non-Operating Income (Loss)</th>\n",
       "      <th>Interest Expense, Net</th>\n",
       "      <th>Pretax Income (Loss), Adj.</th>\n",
       "      <th>Abnormal Gains (Losses)</th>\n",
       "      <th>Pretax Income (Loss)</th>\n",
       "      <th>Income Tax (Expense) Benefit, Net</th>\n",
       "      <th>Income (Loss) from Continuing Operations</th>\n",
       "      <th>Net Extraordinary Gains (Losses)</th>\n",
       "      <th>Net Income</th>\n",
       "      <th>Net Income (Common)</th>\n",
       "    </tr>\n",
       "  </thead>\n",
       "  <tbody>\n",
       "    <tr>\n",
       "      <td>0</td>\n",
       "      <td>A</td>\n",
       "      <td>45846</td>\n",
       "      <td>AGILENT TECHNOLOGIES INC</td>\n",
       "      <td>106001.0</td>\n",
       "      <td>Healthcare</td>\n",
       "      <td>Medical Diagnostics &amp; Research</td>\n",
       "      <td>2008-10-31</td>\n",
       "      <td>USD</td>\n",
       "      <td>2008.0</td>\n",
       "      <td>FY</td>\n",
       "      <td>2009-10-05</td>\n",
       "      <td>363000000.0</td>\n",
       "      <td>371000000.0</td>\n",
       "      <td>5.774000e+09</td>\n",
       "      <td>-2.578000e+09</td>\n",
       "      <td>3.196000e+09</td>\n",
       "      <td>-2.401000e+09</td>\n",
       "      <td>-1.697000e+09</td>\n",
       "      <td>-704000000.0</td>\n",
       "      <td>NaN</td>\n",
       "      <td>795000000.0</td>\n",
       "      <td>20000000.0</td>\n",
       "      <td>-10000000.0</td>\n",
       "      <td>815000000.0</td>\n",
       "      <td>0.0</td>\n",
       "      <td>815000000.0</td>\n",
       "      <td>-122000000.0</td>\n",
       "      <td>693000000.0</td>\n",
       "      <td>NaN</td>\n",
       "      <td>693000000.0</td>\n",
       "      <td>693000000.0</td>\n",
       "    </tr>\n",
       "    <tr>\n",
       "      <td>1</td>\n",
       "      <td>A</td>\n",
       "      <td>45846</td>\n",
       "      <td>AGILENT TECHNOLOGIES INC</td>\n",
       "      <td>106001.0</td>\n",
       "      <td>Healthcare</td>\n",
       "      <td>Medical Diagnostics &amp; Research</td>\n",
       "      <td>2009-10-31</td>\n",
       "      <td>USD</td>\n",
       "      <td>2009.0</td>\n",
       "      <td>FY</td>\n",
       "      <td>2009-12-21</td>\n",
       "      <td>346000000.0</td>\n",
       "      <td>346000000.0</td>\n",
       "      <td>4.481000e+09</td>\n",
       "      <td>-2.189000e+09</td>\n",
       "      <td>2.292000e+09</td>\n",
       "      <td>-2.245000e+09</td>\n",
       "      <td>-1.603000e+09</td>\n",
       "      <td>-642000000.0</td>\n",
       "      <td>NaN</td>\n",
       "      <td>47000000.0</td>\n",
       "      <td>-40000000.0</td>\n",
       "      <td>-59000000.0</td>\n",
       "      <td>7000000.0</td>\n",
       "      <td>0.0</td>\n",
       "      <td>7000000.0</td>\n",
       "      <td>-38000000.0</td>\n",
       "      <td>-31000000.0</td>\n",
       "      <td>NaN</td>\n",
       "      <td>-31000000.0</td>\n",
       "      <td>-31000000.0</td>\n",
       "    </tr>\n",
       "  </tbody>\n",
       "</table>\n",
       "</div>"
      ],
      "text/plain": [
       "  Ticker  SimFinId              Company Name  IndustryId      Sector  \\\n",
       "0      A     45846  AGILENT TECHNOLOGIES INC    106001.0  Healthcare   \n",
       "1      A     45846  AGILENT TECHNOLOGIES INC    106001.0  Healthcare   \n",
       "\n",
       "                         Industry Report Date Currency  Fiscal Year  \\\n",
       "0  Medical Diagnostics & Research  2008-10-31      USD       2008.0   \n",
       "1  Medical Diagnostics & Research  2009-10-31      USD       2009.0   \n",
       "\n",
       "  Fiscal Period Publish Date  Shares (Basic)  Shares (Diluted)       Revenue  \\\n",
       "0            FY   2009-10-05     363000000.0       371000000.0  5.774000e+09   \n",
       "1            FY   2009-12-21     346000000.0       346000000.0  4.481000e+09   \n",
       "\n",
       "   Cost of Revenue  Gross Profit  Operating Expenses  \\\n",
       "0    -2.578000e+09  3.196000e+09       -2.401000e+09   \n",
       "1    -2.189000e+09  2.292000e+09       -2.245000e+09   \n",
       "\n",
       "   Selling, General & Administrative  Research & Development  \\\n",
       "0                      -1.697000e+09            -704000000.0   \n",
       "1                      -1.603000e+09            -642000000.0   \n",
       "\n",
       "   Depreciation & Amortization  Operating Income (Loss)  \\\n",
       "0                          NaN              795000000.0   \n",
       "1                          NaN               47000000.0   \n",
       "\n",
       "   Non-Operating Income (Loss)  Interest Expense, Net  \\\n",
       "0                   20000000.0            -10000000.0   \n",
       "1                  -40000000.0            -59000000.0   \n",
       "\n",
       "   Pretax Income (Loss), Adj.  Abnormal Gains (Losses)  Pretax Income (Loss)  \\\n",
       "0                 815000000.0                      0.0           815000000.0   \n",
       "1                   7000000.0                      0.0             7000000.0   \n",
       "\n",
       "   Income Tax (Expense) Benefit, Net  \\\n",
       "0                       -122000000.0   \n",
       "1                        -38000000.0   \n",
       "\n",
       "   Income (Loss) from Continuing Operations  Net Extraordinary Gains (Losses)  \\\n",
       "0                               693000000.0                               NaN   \n",
       "1                               -31000000.0                               NaN   \n",
       "\n",
       "    Net Income  Net Income (Common)  \n",
       "0  693000000.0          693000000.0  \n",
       "1  -31000000.0          -31000000.0  "
      ]
     },
     "execution_count": 31,
     "metadata": {},
     "output_type": "execute_result"
    },
    {
     "data": {
      "text/plain": [
       "Index(['Ticker', 'SimFinId', 'Company Name', 'IndustryId', 'Sector',\n",
       "       'Industry', 'Report Date', 'Currency', 'Fiscal Year', 'Fiscal Period',\n",
       "       'Publish Date', 'Shares (Basic)', 'Shares (Diluted)', 'Revenue',\n",
       "       'Cost of Revenue', 'Gross Profit', 'Operating Expenses',\n",
       "       'Selling, General & Administrative', 'Research & Development',\n",
       "       'Depreciation & Amortization', 'Operating Income (Loss)',\n",
       "       'Non-Operating Income (Loss)', 'Interest Expense, Net',\n",
       "       'Pretax Income (Loss), Adj.', 'Abnormal Gains (Losses)',\n",
       "       'Pretax Income (Loss)', 'Income Tax (Expense) Benefit, Net',\n",
       "       'Income (Loss) from Continuing Operations',\n",
       "       'Net Extraordinary Gains (Losses)', 'Net Income',\n",
       "       'Net Income (Common)'],\n",
       "      dtype='object')"
      ]
     },
     "execution_count": 31,
     "metadata": {},
     "output_type": "execute_result"
    },
    {
     "data": {
      "text/plain": [
       "(14768, 27)"
      ]
     },
     "execution_count": 31,
     "metadata": {},
     "output_type": "execute_result"
    },
    {
     "data": {
      "text/plain": [
       "(14894, 31)"
      ]
     },
     "execution_count": 31,
     "metadata": {},
     "output_type": "execute_result"
    }
   ],
   "source": [
    "#left join income statement on previous df \n",
    "df2 = pd.merge(df,df_income_a,on = ['Ticker','SimFinId'], how = 'left', suffixes=('','_i'))\n",
    "df2.head(2)\n",
    "df2.columns\n",
    "df_income_a.shape\n",
    "df2.shape"
   ]
  },
  {
   "cell_type": "code",
   "execution_count": 32,
   "metadata": {},
   "outputs": [
    {
     "data": {
      "text/html": [
       "<div>\n",
       "<style scoped>\n",
       "    .dataframe tbody tr th:only-of-type {\n",
       "        vertical-align: middle;\n",
       "    }\n",
       "\n",
       "    .dataframe tbody tr th {\n",
       "        vertical-align: top;\n",
       "    }\n",
       "\n",
       "    .dataframe thead th {\n",
       "        text-align: right;\n",
       "    }\n",
       "</style>\n",
       "<table border=\"1\" class=\"dataframe\">\n",
       "  <thead>\n",
       "    <tr style=\"text-align: right;\">\n",
       "      <th></th>\n",
       "      <th>Ticker</th>\n",
       "      <th>SimFinId</th>\n",
       "      <th>Company Name</th>\n",
       "      <th>IndustryId</th>\n",
       "      <th>Sector</th>\n",
       "      <th>Industry</th>\n",
       "      <th>Report Date</th>\n",
       "      <th>Currency</th>\n",
       "      <th>Fiscal Year</th>\n",
       "      <th>Fiscal Period</th>\n",
       "      <th>Publish Date</th>\n",
       "      <th>Shares (Basic)</th>\n",
       "      <th>Shares (Diluted)</th>\n",
       "      <th>Revenue</th>\n",
       "      <th>Cost of Revenue</th>\n",
       "      <th>Gross Profit</th>\n",
       "      <th>Operating Expenses</th>\n",
       "      <th>Selling, General &amp; Administrative</th>\n",
       "      <th>Research &amp; Development</th>\n",
       "      <th>Depreciation &amp; Amortization</th>\n",
       "      <th>Operating Income (Loss)</th>\n",
       "      <th>Non-Operating Income (Loss)</th>\n",
       "      <th>Interest Expense, Net</th>\n",
       "      <th>Pretax Income (Loss), Adj.</th>\n",
       "      <th>Abnormal Gains (Losses)</th>\n",
       "      <th>Pretax Income (Loss)</th>\n",
       "      <th>Income Tax (Expense) Benefit, Net</th>\n",
       "      <th>Income (Loss) from Continuing Operations</th>\n",
       "      <th>Net Extraordinary Gains (Losses)</th>\n",
       "      <th>Net Income</th>\n",
       "      <th>Net Income (Common)</th>\n",
       "      <th>Fiscal Period_b</th>\n",
       "      <th>Shares (Basic)_b</th>\n",
       "      <th>Shares (Diluted)_b</th>\n",
       "      <th>Cash, Cash Equivalents &amp; Short Term Investments</th>\n",
       "      <th>Accounts &amp; Notes Receivable</th>\n",
       "      <th>Inventories</th>\n",
       "      <th>Total Current Assets</th>\n",
       "      <th>Property, Plant &amp; Equipment, Net</th>\n",
       "      <th>Long Term Investments &amp; Receivables</th>\n",
       "      <th>Other Long Term Assets</th>\n",
       "      <th>Total Noncurrent Assets</th>\n",
       "      <th>Total Assets</th>\n",
       "      <th>Payables &amp; Accruals</th>\n",
       "      <th>Short Term Debt</th>\n",
       "      <th>Total Current Liabilities</th>\n",
       "      <th>Long Term Debt</th>\n",
       "      <th>Total Noncurrent Liabilities</th>\n",
       "      <th>Total Liabilities</th>\n",
       "      <th>Share Capital &amp; Additional Paid-In Capital</th>\n",
       "      <th>Treasury Stock</th>\n",
       "      <th>Retained Earnings</th>\n",
       "      <th>Total Equity</th>\n",
       "      <th>Total Liabilities &amp; Equity</th>\n",
       "    </tr>\n",
       "  </thead>\n",
       "  <tbody>\n",
       "    <tr>\n",
       "      <td>0</td>\n",
       "      <td>A</td>\n",
       "      <td>45846</td>\n",
       "      <td>AGILENT TECHNOLOGIES INC</td>\n",
       "      <td>106001.0</td>\n",
       "      <td>Healthcare</td>\n",
       "      <td>Medical Diagnostics &amp; Research</td>\n",
       "      <td>2008-10-31</td>\n",
       "      <td>USD</td>\n",
       "      <td>2008.0</td>\n",
       "      <td>FY</td>\n",
       "      <td>2009-10-05</td>\n",
       "      <td>363000000.0</td>\n",
       "      <td>371000000.0</td>\n",
       "      <td>5.774000e+09</td>\n",
       "      <td>-2.578000e+09</td>\n",
       "      <td>3.196000e+09</td>\n",
       "      <td>-2.401000e+09</td>\n",
       "      <td>-1.697000e+09</td>\n",
       "      <td>-704000000.0</td>\n",
       "      <td>NaN</td>\n",
       "      <td>7.950000e+08</td>\n",
       "      <td>20000000.0</td>\n",
       "      <td>-10000000.0</td>\n",
       "      <td>8.150000e+08</td>\n",
       "      <td>0.0</td>\n",
       "      <td>8.150000e+08</td>\n",
       "      <td>-122000000.0</td>\n",
       "      <td>6.930000e+08</td>\n",
       "      <td>NaN</td>\n",
       "      <td>6.930000e+08</td>\n",
       "      <td>6.930000e+08</td>\n",
       "      <td>Q4</td>\n",
       "      <td>357000000.0</td>\n",
       "      <td>359000000.0</td>\n",
       "      <td>1.429000e+09</td>\n",
       "      <td>770000000.0</td>\n",
       "      <td>6.460000e+08</td>\n",
       "      <td>3.182000e+09</td>\n",
       "      <td>8.240000e+08</td>\n",
       "      <td>206000000.0</td>\n",
       "      <td>2.795000e+09</td>\n",
       "      <td>3.825000e+09</td>\n",
       "      <td>7.007000e+09</td>\n",
       "      <td>436000000.0</td>\n",
       "      <td>NaN</td>\n",
       "      <td>1.330000e+09</td>\n",
       "      <td>2.125000e+09</td>\n",
       "      <td>3.118000e+09</td>\n",
       "      <td>4.448000e+09</td>\n",
       "      <td>7.416000e+09</td>\n",
       "      <td>-7.470000e+09</td>\n",
       "      <td>2.791000e+09</td>\n",
       "      <td>2.559000e+09</td>\n",
       "      <td>7.007000e+09</td>\n",
       "    </tr>\n",
       "    <tr>\n",
       "      <td>1</td>\n",
       "      <td>A</td>\n",
       "      <td>45846</td>\n",
       "      <td>AGILENT TECHNOLOGIES INC</td>\n",
       "      <td>106001.0</td>\n",
       "      <td>Healthcare</td>\n",
       "      <td>Medical Diagnostics &amp; Research</td>\n",
       "      <td>2009-10-31</td>\n",
       "      <td>USD</td>\n",
       "      <td>2009.0</td>\n",
       "      <td>FY</td>\n",
       "      <td>2009-12-21</td>\n",
       "      <td>346000000.0</td>\n",
       "      <td>346000000.0</td>\n",
       "      <td>4.481000e+09</td>\n",
       "      <td>-2.189000e+09</td>\n",
       "      <td>2.292000e+09</td>\n",
       "      <td>-2.245000e+09</td>\n",
       "      <td>-1.603000e+09</td>\n",
       "      <td>-642000000.0</td>\n",
       "      <td>NaN</td>\n",
       "      <td>4.700000e+07</td>\n",
       "      <td>-40000000.0</td>\n",
       "      <td>-59000000.0</td>\n",
       "      <td>7.000000e+06</td>\n",
       "      <td>0.0</td>\n",
       "      <td>7.000000e+06</td>\n",
       "      <td>-38000000.0</td>\n",
       "      <td>-3.100000e+07</td>\n",
       "      <td>NaN</td>\n",
       "      <td>-3.100000e+07</td>\n",
       "      <td>-3.100000e+07</td>\n",
       "      <td>Q4</td>\n",
       "      <td>343000000.0</td>\n",
       "      <td>343000000.0</td>\n",
       "      <td>2.493000e+09</td>\n",
       "      <td>595000000.0</td>\n",
       "      <td>5.520000e+08</td>\n",
       "      <td>3.961000e+09</td>\n",
       "      <td>8.450000e+08</td>\n",
       "      <td>163000000.0</td>\n",
       "      <td>2.643000e+09</td>\n",
       "      <td>3.651000e+09</td>\n",
       "      <td>7.612000e+09</td>\n",
       "      <td>307000000.0</td>\n",
       "      <td>1.000000e+06</td>\n",
       "      <td>1.123000e+09</td>\n",
       "      <td>2.904000e+09</td>\n",
       "      <td>3.975000e+09</td>\n",
       "      <td>5.098000e+09</td>\n",
       "      <td>7.558000e+09</td>\n",
       "      <td>-7.627000e+09</td>\n",
       "      <td>2.760000e+09</td>\n",
       "      <td>2.514000e+09</td>\n",
       "      <td>7.612000e+09</td>\n",
       "    </tr>\n",
       "    <tr>\n",
       "      <td>2</td>\n",
       "      <td>A</td>\n",
       "      <td>45846</td>\n",
       "      <td>AGILENT TECHNOLOGIES INC</td>\n",
       "      <td>106001.0</td>\n",
       "      <td>Healthcare</td>\n",
       "      <td>Medical Diagnostics &amp; Research</td>\n",
       "      <td>2010-10-31</td>\n",
       "      <td>USD</td>\n",
       "      <td>2010.0</td>\n",
       "      <td>FY</td>\n",
       "      <td>2010-12-20</td>\n",
       "      <td>347000000.0</td>\n",
       "      <td>353000000.0</td>\n",
       "      <td>5.444000e+09</td>\n",
       "      <td>-2.514000e+09</td>\n",
       "      <td>2.930000e+09</td>\n",
       "      <td>-2.364000e+09</td>\n",
       "      <td>-1.752000e+09</td>\n",
       "      <td>-612000000.0</td>\n",
       "      <td>NaN</td>\n",
       "      <td>5.660000e+08</td>\n",
       "      <td>-6000000.0</td>\n",
       "      <td>-76000000.0</td>\n",
       "      <td>5.600000e+08</td>\n",
       "      <td>132000000.0</td>\n",
       "      <td>6.920000e+08</td>\n",
       "      <td>-8000000.0</td>\n",
       "      <td>6.840000e+08</td>\n",
       "      <td>NaN</td>\n",
       "      <td>6.840000e+08</td>\n",
       "      <td>6.840000e+08</td>\n",
       "      <td>Q4</td>\n",
       "      <td>344000000.0</td>\n",
       "      <td>356000000.0</td>\n",
       "      <td>2.649000e+09</td>\n",
       "      <td>869000000.0</td>\n",
       "      <td>7.160000e+08</td>\n",
       "      <td>6.169000e+09</td>\n",
       "      <td>9.800000e+08</td>\n",
       "      <td>142000000.0</td>\n",
       "      <td>2.405000e+09</td>\n",
       "      <td>3.527000e+09</td>\n",
       "      <td>9.696000e+09</td>\n",
       "      <td>499000000.0</td>\n",
       "      <td>1.501000e+09</td>\n",
       "      <td>3.083000e+09</td>\n",
       "      <td>2.190000e+09</td>\n",
       "      <td>3.377000e+09</td>\n",
       "      <td>6.460000e+09</td>\n",
       "      <td>7.910000e+09</td>\n",
       "      <td>-8.038000e+09</td>\n",
       "      <td>3.444000e+09</td>\n",
       "      <td>3.236000e+09</td>\n",
       "      <td>9.696000e+09</td>\n",
       "    </tr>\n",
       "    <tr>\n",
       "      <td>3</td>\n",
       "      <td>A</td>\n",
       "      <td>45846</td>\n",
       "      <td>AGILENT TECHNOLOGIES INC</td>\n",
       "      <td>106001.0</td>\n",
       "      <td>Healthcare</td>\n",
       "      <td>Medical Diagnostics &amp; Research</td>\n",
       "      <td>2011-10-31</td>\n",
       "      <td>USD</td>\n",
       "      <td>2011.0</td>\n",
       "      <td>FY</td>\n",
       "      <td>2011-12-16</td>\n",
       "      <td>347000000.0</td>\n",
       "      <td>355000000.0</td>\n",
       "      <td>6.615000e+09</td>\n",
       "      <td>-3.086000e+09</td>\n",
       "      <td>3.529000e+09</td>\n",
       "      <td>-2.458000e+09</td>\n",
       "      <td>-1.809000e+09</td>\n",
       "      <td>-649000000.0</td>\n",
       "      <td>NaN</td>\n",
       "      <td>1.071000e+09</td>\n",
       "      <td>-39000000.0</td>\n",
       "      <td>-72000000.0</td>\n",
       "      <td>1.032000e+09</td>\n",
       "      <td>NaN</td>\n",
       "      <td>1.032000e+09</td>\n",
       "      <td>-20000000.0</td>\n",
       "      <td>1.012000e+09</td>\n",
       "      <td>NaN</td>\n",
       "      <td>1.012000e+09</td>\n",
       "      <td>1.012000e+09</td>\n",
       "      <td>Q4</td>\n",
       "      <td>346000000.0</td>\n",
       "      <td>353000000.0</td>\n",
       "      <td>3.527000e+09</td>\n",
       "      <td>860000000.0</td>\n",
       "      <td>8.980000e+08</td>\n",
       "      <td>5.569000e+09</td>\n",
       "      <td>1.006000e+09</td>\n",
       "      <td>117000000.0</td>\n",
       "      <td>2.365000e+09</td>\n",
       "      <td>3.488000e+09</td>\n",
       "      <td>9.057000e+09</td>\n",
       "      <td>472000000.0</td>\n",
       "      <td>2.530000e+08</td>\n",
       "      <td>1.837000e+09</td>\n",
       "      <td>1.932000e+09</td>\n",
       "      <td>2.904000e+09</td>\n",
       "      <td>4.741000e+09</td>\n",
       "      <td>8.271000e+09</td>\n",
       "      <td>-8.535000e+09</td>\n",
       "      <td>4.456000e+09</td>\n",
       "      <td>4.316000e+09</td>\n",
       "      <td>9.057000e+09</td>\n",
       "    </tr>\n",
       "    <tr>\n",
       "      <td>4</td>\n",
       "      <td>A</td>\n",
       "      <td>45846</td>\n",
       "      <td>AGILENT TECHNOLOGIES INC</td>\n",
       "      <td>106001.0</td>\n",
       "      <td>Healthcare</td>\n",
       "      <td>Medical Diagnostics &amp; Research</td>\n",
       "      <td>2012-10-31</td>\n",
       "      <td>USD</td>\n",
       "      <td>2012.0</td>\n",
       "      <td>FY</td>\n",
       "      <td>2012-12-20</td>\n",
       "      <td>348000000.0</td>\n",
       "      <td>353000000.0</td>\n",
       "      <td>6.858000e+09</td>\n",
       "      <td>-3.254000e+09</td>\n",
       "      <td>3.604000e+09</td>\n",
       "      <td>-2.485000e+09</td>\n",
       "      <td>-1.817000e+09</td>\n",
       "      <td>-668000000.0</td>\n",
       "      <td>NaN</td>\n",
       "      <td>1.119000e+09</td>\n",
       "      <td>-76000000.0</td>\n",
       "      <td>-92000000.0</td>\n",
       "      <td>1.043000e+09</td>\n",
       "      <td>NaN</td>\n",
       "      <td>1.043000e+09</td>\n",
       "      <td>110000000.0</td>\n",
       "      <td>1.153000e+09</td>\n",
       "      <td>NaN</td>\n",
       "      <td>1.153000e+09</td>\n",
       "      <td>1.153000e+09</td>\n",
       "      <td>Q4</td>\n",
       "      <td>348000000.0</td>\n",
       "      <td>353000000.0</td>\n",
       "      <td>2.351000e+09</td>\n",
       "      <td>923000000.0</td>\n",
       "      <td>1.014000e+09</td>\n",
       "      <td>4.629000e+09</td>\n",
       "      <td>1.164000e+09</td>\n",
       "      <td>109000000.0</td>\n",
       "      <td>4.634000e+09</td>\n",
       "      <td>5.907000e+09</td>\n",
       "      <td>1.053600e+10</td>\n",
       "      <td>461000000.0</td>\n",
       "      <td>2.500000e+08</td>\n",
       "      <td>1.893000e+09</td>\n",
       "      <td>2.112000e+09</td>\n",
       "      <td>3.458000e+09</td>\n",
       "      <td>5.351000e+09</td>\n",
       "      <td>8.495000e+09</td>\n",
       "      <td>-8.707000e+09</td>\n",
       "      <td>5.505000e+09</td>\n",
       "      <td>5.185000e+09</td>\n",
       "      <td>1.053600e+10</td>\n",
       "    </tr>\n",
       "  </tbody>\n",
       "</table>\n",
       "</div>"
      ],
      "text/plain": [
       "  Ticker  SimFinId              Company Name  IndustryId      Sector  \\\n",
       "0      A     45846  AGILENT TECHNOLOGIES INC    106001.0  Healthcare   \n",
       "1      A     45846  AGILENT TECHNOLOGIES INC    106001.0  Healthcare   \n",
       "2      A     45846  AGILENT TECHNOLOGIES INC    106001.0  Healthcare   \n",
       "3      A     45846  AGILENT TECHNOLOGIES INC    106001.0  Healthcare   \n",
       "4      A     45846  AGILENT TECHNOLOGIES INC    106001.0  Healthcare   \n",
       "\n",
       "                         Industry Report Date Currency  Fiscal Year  \\\n",
       "0  Medical Diagnostics & Research  2008-10-31      USD       2008.0   \n",
       "1  Medical Diagnostics & Research  2009-10-31      USD       2009.0   \n",
       "2  Medical Diagnostics & Research  2010-10-31      USD       2010.0   \n",
       "3  Medical Diagnostics & Research  2011-10-31      USD       2011.0   \n",
       "4  Medical Diagnostics & Research  2012-10-31      USD       2012.0   \n",
       "\n",
       "  Fiscal Period Publish Date  Shares (Basic)  Shares (Diluted)       Revenue  \\\n",
       "0            FY   2009-10-05     363000000.0       371000000.0  5.774000e+09   \n",
       "1            FY   2009-12-21     346000000.0       346000000.0  4.481000e+09   \n",
       "2            FY   2010-12-20     347000000.0       353000000.0  5.444000e+09   \n",
       "3            FY   2011-12-16     347000000.0       355000000.0  6.615000e+09   \n",
       "4            FY   2012-12-20     348000000.0       353000000.0  6.858000e+09   \n",
       "\n",
       "   Cost of Revenue  Gross Profit  Operating Expenses  \\\n",
       "0    -2.578000e+09  3.196000e+09       -2.401000e+09   \n",
       "1    -2.189000e+09  2.292000e+09       -2.245000e+09   \n",
       "2    -2.514000e+09  2.930000e+09       -2.364000e+09   \n",
       "3    -3.086000e+09  3.529000e+09       -2.458000e+09   \n",
       "4    -3.254000e+09  3.604000e+09       -2.485000e+09   \n",
       "\n",
       "   Selling, General & Administrative  Research & Development  \\\n",
       "0                      -1.697000e+09            -704000000.0   \n",
       "1                      -1.603000e+09            -642000000.0   \n",
       "2                      -1.752000e+09            -612000000.0   \n",
       "3                      -1.809000e+09            -649000000.0   \n",
       "4                      -1.817000e+09            -668000000.0   \n",
       "\n",
       "   Depreciation & Amortization  Operating Income (Loss)  \\\n",
       "0                          NaN             7.950000e+08   \n",
       "1                          NaN             4.700000e+07   \n",
       "2                          NaN             5.660000e+08   \n",
       "3                          NaN             1.071000e+09   \n",
       "4                          NaN             1.119000e+09   \n",
       "\n",
       "   Non-Operating Income (Loss)  Interest Expense, Net  \\\n",
       "0                   20000000.0            -10000000.0   \n",
       "1                  -40000000.0            -59000000.0   \n",
       "2                   -6000000.0            -76000000.0   \n",
       "3                  -39000000.0            -72000000.0   \n",
       "4                  -76000000.0            -92000000.0   \n",
       "\n",
       "   Pretax Income (Loss), Adj.  Abnormal Gains (Losses)  Pretax Income (Loss)  \\\n",
       "0                8.150000e+08                      0.0          8.150000e+08   \n",
       "1                7.000000e+06                      0.0          7.000000e+06   \n",
       "2                5.600000e+08              132000000.0          6.920000e+08   \n",
       "3                1.032000e+09                      NaN          1.032000e+09   \n",
       "4                1.043000e+09                      NaN          1.043000e+09   \n",
       "\n",
       "   Income Tax (Expense) Benefit, Net  \\\n",
       "0                       -122000000.0   \n",
       "1                        -38000000.0   \n",
       "2                         -8000000.0   \n",
       "3                        -20000000.0   \n",
       "4                        110000000.0   \n",
       "\n",
       "   Income (Loss) from Continuing Operations  Net Extraordinary Gains (Losses)  \\\n",
       "0                              6.930000e+08                               NaN   \n",
       "1                             -3.100000e+07                               NaN   \n",
       "2                              6.840000e+08                               NaN   \n",
       "3                              1.012000e+09                               NaN   \n",
       "4                              1.153000e+09                               NaN   \n",
       "\n",
       "     Net Income  Net Income (Common) Fiscal Period_b  Shares (Basic)_b  \\\n",
       "0  6.930000e+08         6.930000e+08              Q4       357000000.0   \n",
       "1 -3.100000e+07        -3.100000e+07              Q4       343000000.0   \n",
       "2  6.840000e+08         6.840000e+08              Q4       344000000.0   \n",
       "3  1.012000e+09         1.012000e+09              Q4       346000000.0   \n",
       "4  1.153000e+09         1.153000e+09              Q4       348000000.0   \n",
       "\n",
       "   Shares (Diluted)_b  Cash, Cash Equivalents & Short Term Investments  \\\n",
       "0         359000000.0                                     1.429000e+09   \n",
       "1         343000000.0                                     2.493000e+09   \n",
       "2         356000000.0                                     2.649000e+09   \n",
       "3         353000000.0                                     3.527000e+09   \n",
       "4         353000000.0                                     2.351000e+09   \n",
       "\n",
       "   Accounts & Notes Receivable   Inventories  Total Current Assets  \\\n",
       "0                  770000000.0  6.460000e+08          3.182000e+09   \n",
       "1                  595000000.0  5.520000e+08          3.961000e+09   \n",
       "2                  869000000.0  7.160000e+08          6.169000e+09   \n",
       "3                  860000000.0  8.980000e+08          5.569000e+09   \n",
       "4                  923000000.0  1.014000e+09          4.629000e+09   \n",
       "\n",
       "   Property, Plant & Equipment, Net  Long Term Investments & Receivables  \\\n",
       "0                      8.240000e+08                          206000000.0   \n",
       "1                      8.450000e+08                          163000000.0   \n",
       "2                      9.800000e+08                          142000000.0   \n",
       "3                      1.006000e+09                          117000000.0   \n",
       "4                      1.164000e+09                          109000000.0   \n",
       "\n",
       "   Other Long Term Assets  Total Noncurrent Assets  Total Assets  \\\n",
       "0            2.795000e+09             3.825000e+09  7.007000e+09   \n",
       "1            2.643000e+09             3.651000e+09  7.612000e+09   \n",
       "2            2.405000e+09             3.527000e+09  9.696000e+09   \n",
       "3            2.365000e+09             3.488000e+09  9.057000e+09   \n",
       "4            4.634000e+09             5.907000e+09  1.053600e+10   \n",
       "\n",
       "   Payables & Accruals  Short Term Debt  Total Current Liabilities  \\\n",
       "0          436000000.0              NaN               1.330000e+09   \n",
       "1          307000000.0     1.000000e+06               1.123000e+09   \n",
       "2          499000000.0     1.501000e+09               3.083000e+09   \n",
       "3          472000000.0     2.530000e+08               1.837000e+09   \n",
       "4          461000000.0     2.500000e+08               1.893000e+09   \n",
       "\n",
       "   Long Term Debt  Total Noncurrent Liabilities  Total Liabilities  \\\n",
       "0    2.125000e+09                  3.118000e+09       4.448000e+09   \n",
       "1    2.904000e+09                  3.975000e+09       5.098000e+09   \n",
       "2    2.190000e+09                  3.377000e+09       6.460000e+09   \n",
       "3    1.932000e+09                  2.904000e+09       4.741000e+09   \n",
       "4    2.112000e+09                  3.458000e+09       5.351000e+09   \n",
       "\n",
       "   Share Capital & Additional Paid-In Capital  Treasury Stock  \\\n",
       "0                                7.416000e+09   -7.470000e+09   \n",
       "1                                7.558000e+09   -7.627000e+09   \n",
       "2                                7.910000e+09   -8.038000e+09   \n",
       "3                                8.271000e+09   -8.535000e+09   \n",
       "4                                8.495000e+09   -8.707000e+09   \n",
       "\n",
       "   Retained Earnings  Total Equity  Total Liabilities & Equity  \n",
       "0       2.791000e+09  2.559000e+09                7.007000e+09  \n",
       "1       2.760000e+09  2.514000e+09                7.612000e+09  \n",
       "2       3.444000e+09  3.236000e+09                9.696000e+09  \n",
       "3       4.456000e+09  4.316000e+09                9.057000e+09  \n",
       "4       5.505000e+09  5.185000e+09                1.053600e+10  "
      ]
     },
     "execution_count": 32,
     "metadata": {},
     "output_type": "execute_result"
    },
    {
     "data": {
      "text/plain": [
       "Index(['Ticker', 'SimFinId', 'Company Name', 'IndustryId', 'Sector',\n",
       "       'Industry', 'Report Date', 'Currency', 'Fiscal Year', 'Fiscal Period',\n",
       "       'Publish Date', 'Shares (Basic)', 'Shares (Diluted)', 'Revenue',\n",
       "       'Cost of Revenue', 'Gross Profit', 'Operating Expenses',\n",
       "       'Selling, General & Administrative', 'Research & Development',\n",
       "       'Depreciation & Amortization', 'Operating Income (Loss)',\n",
       "       'Non-Operating Income (Loss)', 'Interest Expense, Net',\n",
       "       'Pretax Income (Loss), Adj.', 'Abnormal Gains (Losses)',\n",
       "       'Pretax Income (Loss)', 'Income Tax (Expense) Benefit, Net',\n",
       "       'Income (Loss) from Continuing Operations',\n",
       "       'Net Extraordinary Gains (Losses)', 'Net Income', 'Net Income (Common)',\n",
       "       'Fiscal Period_b', 'Shares (Basic)_b', 'Shares (Diluted)_b',\n",
       "       'Cash, Cash Equivalents & Short Term Investments',\n",
       "       'Accounts & Notes Receivable', 'Inventories', 'Total Current Assets',\n",
       "       'Property, Plant & Equipment, Net',\n",
       "       'Long Term Investments & Receivables', 'Other Long Term Assets',\n",
       "       'Total Noncurrent Assets', 'Total Assets', 'Payables & Accruals',\n",
       "       'Short Term Debt', 'Total Current Liabilities', 'Long Term Debt',\n",
       "       'Total Noncurrent Liabilities', 'Total Liabilities',\n",
       "       'Share Capital & Additional Paid-In Capital', 'Treasury Stock',\n",
       "       'Retained Earnings', 'Total Equity', 'Total Liabilities & Equity'],\n",
       "      dtype='object')"
      ]
     },
     "execution_count": 32,
     "metadata": {},
     "output_type": "execute_result"
    },
    {
     "data": {
      "text/plain": [
       "(14894, 31)"
      ]
     },
     "execution_count": 32,
     "metadata": {},
     "output_type": "execute_result"
    },
    {
     "data": {
      "text/plain": [
       "(14894, 54)"
      ]
     },
     "execution_count": 32,
     "metadata": {},
     "output_type": "execute_result"
    }
   ],
   "source": [
    "#left join balance sheet on previous df \n",
    "df_balance_a['Fiscal Year'] = df_balance_a[['Fiscal Year']].astype('float')\n",
    "df3 = pd.merge(df2,df_balance_a,on = ['Ticker','SimFinId','Fiscal Year','Currency',\"Report Date\",\"Publish Date\"], how = 'left', suffixes=('','_b'))\n",
    "#take a look at the merge data\n",
    "df3.head()\n",
    "df3.columns\n",
    "#check if merge successfully, if successful, the row number should not change\n",
    "df2.shape\n",
    "df3.shape"
   ]
  },
  {
   "cell_type": "code",
   "execution_count": 33,
   "metadata": {},
   "outputs": [
    {
     "data": {
      "text/html": [
       "<div>\n",
       "<style scoped>\n",
       "    .dataframe tbody tr th:only-of-type {\n",
       "        vertical-align: middle;\n",
       "    }\n",
       "\n",
       "    .dataframe tbody tr th {\n",
       "        vertical-align: top;\n",
       "    }\n",
       "\n",
       "    .dataframe thead th {\n",
       "        text-align: right;\n",
       "    }\n",
       "</style>\n",
       "<table border=\"1\" class=\"dataframe\">\n",
       "  <thead>\n",
       "    <tr style=\"text-align: right;\">\n",
       "      <th></th>\n",
       "      <th>Ticker</th>\n",
       "      <th>SimFinId</th>\n",
       "      <th>Company Name</th>\n",
       "      <th>IndustryId</th>\n",
       "      <th>Sector</th>\n",
       "      <th>Industry</th>\n",
       "      <th>Report Date</th>\n",
       "      <th>Currency</th>\n",
       "      <th>Fiscal Year</th>\n",
       "      <th>Fiscal Period</th>\n",
       "      <th>Publish Date</th>\n",
       "      <th>Shares (Basic)</th>\n",
       "      <th>Shares (Diluted)</th>\n",
       "      <th>Revenue</th>\n",
       "      <th>Cost of Revenue</th>\n",
       "      <th>Gross Profit</th>\n",
       "      <th>Operating Expenses</th>\n",
       "      <th>Selling, General &amp; Administrative</th>\n",
       "      <th>Research &amp; Development</th>\n",
       "      <th>Depreciation &amp; Amortization</th>\n",
       "      <th>Operating Income (Loss)</th>\n",
       "      <th>Non-Operating Income (Loss)</th>\n",
       "      <th>Interest Expense, Net</th>\n",
       "      <th>Pretax Income (Loss), Adj.</th>\n",
       "      <th>Abnormal Gains (Losses)</th>\n",
       "      <th>Pretax Income (Loss)</th>\n",
       "      <th>Income Tax (Expense) Benefit, Net</th>\n",
       "      <th>Income (Loss) from Continuing Operations</th>\n",
       "      <th>Net Extraordinary Gains (Losses)</th>\n",
       "      <th>Net Income</th>\n",
       "      <th>Net Income (Common)</th>\n",
       "      <th>Fiscal Period_b</th>\n",
       "      <th>Shares (Basic)_b</th>\n",
       "      <th>Shares (Diluted)_b</th>\n",
       "      <th>Cash, Cash Equivalents &amp; Short Term Investments</th>\n",
       "      <th>Accounts &amp; Notes Receivable</th>\n",
       "      <th>Inventories</th>\n",
       "      <th>Total Current Assets</th>\n",
       "      <th>Property, Plant &amp; Equipment, Net</th>\n",
       "      <th>Long Term Investments &amp; Receivables</th>\n",
       "      <th>Other Long Term Assets</th>\n",
       "      <th>Total Noncurrent Assets</th>\n",
       "      <th>Total Assets</th>\n",
       "      <th>Payables &amp; Accruals</th>\n",
       "      <th>Short Term Debt</th>\n",
       "      <th>Total Current Liabilities</th>\n",
       "      <th>Long Term Debt</th>\n",
       "      <th>Total Noncurrent Liabilities</th>\n",
       "      <th>Total Liabilities</th>\n",
       "      <th>Share Capital &amp; Additional Paid-In Capital</th>\n",
       "      <th>Treasury Stock</th>\n",
       "      <th>Retained Earnings</th>\n",
       "      <th>Total Equity</th>\n",
       "      <th>Total Liabilities &amp; Equity</th>\n",
       "      <th>Fiscal Period_c</th>\n",
       "      <th>Shares (Basic)_c</th>\n",
       "      <th>Shares (Diluted)_c</th>\n",
       "      <th>Net Income/Starting Line</th>\n",
       "      <th>Depreciation &amp; Amortization_c</th>\n",
       "      <th>Non-Cash Items</th>\n",
       "      <th>Change in Working Capital</th>\n",
       "      <th>Change in Accounts Receivable</th>\n",
       "      <th>Change in Inventories</th>\n",
       "      <th>Change in Accounts Payable</th>\n",
       "      <th>Change in Other</th>\n",
       "      <th>Net Cash from Operating Activities</th>\n",
       "      <th>Change in Fixed Assets &amp; Intangibles</th>\n",
       "      <th>Net Change in Long Term Investment</th>\n",
       "      <th>Net Cash from Acquisitions &amp; Divestitures</th>\n",
       "      <th>Net Cash from Investing Activities</th>\n",
       "      <th>Dividends Paid</th>\n",
       "      <th>Cash from (Repayment of) Debt</th>\n",
       "      <th>Cash from (Repurchase of) Equity</th>\n",
       "      <th>Net Cash from Financing Activities</th>\n",
       "      <th>Net Change in Cash</th>\n",
       "    </tr>\n",
       "  </thead>\n",
       "  <tbody>\n",
       "    <tr>\n",
       "      <td>0</td>\n",
       "      <td>A</td>\n",
       "      <td>45846</td>\n",
       "      <td>AGILENT TECHNOLOGIES INC</td>\n",
       "      <td>106001.0</td>\n",
       "      <td>Healthcare</td>\n",
       "      <td>Medical Diagnostics &amp; Research</td>\n",
       "      <td>2008-10-31</td>\n",
       "      <td>USD</td>\n",
       "      <td>2008.0</td>\n",
       "      <td>FY</td>\n",
       "      <td>2009-10-05</td>\n",
       "      <td>363000000.0</td>\n",
       "      <td>371000000.0</td>\n",
       "      <td>5.774000e+09</td>\n",
       "      <td>-2.578000e+09</td>\n",
       "      <td>3.196000e+09</td>\n",
       "      <td>-2.401000e+09</td>\n",
       "      <td>-1.697000e+09</td>\n",
       "      <td>-704000000.0</td>\n",
       "      <td>NaN</td>\n",
       "      <td>795000000.0</td>\n",
       "      <td>20000000.0</td>\n",
       "      <td>-10000000.0</td>\n",
       "      <td>815000000.0</td>\n",
       "      <td>0.0</td>\n",
       "      <td>815000000.0</td>\n",
       "      <td>-122000000.0</td>\n",
       "      <td>693000000.0</td>\n",
       "      <td>NaN</td>\n",
       "      <td>693000000.0</td>\n",
       "      <td>693000000.0</td>\n",
       "      <td>Q4</td>\n",
       "      <td>357000000.0</td>\n",
       "      <td>359000000.0</td>\n",
       "      <td>1.429000e+09</td>\n",
       "      <td>770000000.0</td>\n",
       "      <td>646000000.0</td>\n",
       "      <td>3.182000e+09</td>\n",
       "      <td>824000000.0</td>\n",
       "      <td>206000000.0</td>\n",
       "      <td>2.795000e+09</td>\n",
       "      <td>3.825000e+09</td>\n",
       "      <td>7.007000e+09</td>\n",
       "      <td>436000000.0</td>\n",
       "      <td>NaN</td>\n",
       "      <td>1.330000e+09</td>\n",
       "      <td>2.125000e+09</td>\n",
       "      <td>3.118000e+09</td>\n",
       "      <td>4.448000e+09</td>\n",
       "      <td>7.416000e+09</td>\n",
       "      <td>-7.470000e+09</td>\n",
       "      <td>2.791000e+09</td>\n",
       "      <td>2.559000e+09</td>\n",
       "      <td>7.007000e+09</td>\n",
       "      <td>FY</td>\n",
       "      <td>363000000.0</td>\n",
       "      <td>371000000.0</td>\n",
       "      <td>693000000.0</td>\n",
       "      <td>201000000.0</td>\n",
       "      <td>41000000.0</td>\n",
       "      <td>-179000000.0</td>\n",
       "      <td>-44000000.0</td>\n",
       "      <td>-14000000.0</td>\n",
       "      <td>-21000000.0</td>\n",
       "      <td>-100000000.0</td>\n",
       "      <td>756000000.0</td>\n",
       "      <td>-140000000.0</td>\n",
       "      <td>150000000.0</td>\n",
       "      <td>-172000000.0</td>\n",
       "      <td>-385000000.0</td>\n",
       "      <td>NaN</td>\n",
       "      <td>16000000.0</td>\n",
       "      <td>-790000000.0</td>\n",
       "      <td>-788000000.0</td>\n",
       "      <td>-4.210000e+08</td>\n",
       "    </tr>\n",
       "    <tr>\n",
       "      <td>1</td>\n",
       "      <td>A</td>\n",
       "      <td>45846</td>\n",
       "      <td>AGILENT TECHNOLOGIES INC</td>\n",
       "      <td>106001.0</td>\n",
       "      <td>Healthcare</td>\n",
       "      <td>Medical Diagnostics &amp; Research</td>\n",
       "      <td>2009-10-31</td>\n",
       "      <td>USD</td>\n",
       "      <td>2009.0</td>\n",
       "      <td>FY</td>\n",
       "      <td>2009-12-21</td>\n",
       "      <td>346000000.0</td>\n",
       "      <td>346000000.0</td>\n",
       "      <td>4.481000e+09</td>\n",
       "      <td>-2.189000e+09</td>\n",
       "      <td>2.292000e+09</td>\n",
       "      <td>-2.245000e+09</td>\n",
       "      <td>-1.603000e+09</td>\n",
       "      <td>-642000000.0</td>\n",
       "      <td>NaN</td>\n",
       "      <td>47000000.0</td>\n",
       "      <td>-40000000.0</td>\n",
       "      <td>-59000000.0</td>\n",
       "      <td>7000000.0</td>\n",
       "      <td>0.0</td>\n",
       "      <td>7000000.0</td>\n",
       "      <td>-38000000.0</td>\n",
       "      <td>-31000000.0</td>\n",
       "      <td>NaN</td>\n",
       "      <td>-31000000.0</td>\n",
       "      <td>-31000000.0</td>\n",
       "      <td>Q4</td>\n",
       "      <td>343000000.0</td>\n",
       "      <td>343000000.0</td>\n",
       "      <td>2.493000e+09</td>\n",
       "      <td>595000000.0</td>\n",
       "      <td>552000000.0</td>\n",
       "      <td>3.961000e+09</td>\n",
       "      <td>845000000.0</td>\n",
       "      <td>163000000.0</td>\n",
       "      <td>2.643000e+09</td>\n",
       "      <td>3.651000e+09</td>\n",
       "      <td>7.612000e+09</td>\n",
       "      <td>307000000.0</td>\n",
       "      <td>1000000.0</td>\n",
       "      <td>1.123000e+09</td>\n",
       "      <td>2.904000e+09</td>\n",
       "      <td>3.975000e+09</td>\n",
       "      <td>5.098000e+09</td>\n",
       "      <td>7.558000e+09</td>\n",
       "      <td>-7.627000e+09</td>\n",
       "      <td>2.760000e+09</td>\n",
       "      <td>2.514000e+09</td>\n",
       "      <td>7.612000e+09</td>\n",
       "      <td>FY</td>\n",
       "      <td>346000000.0</td>\n",
       "      <td>346000000.0</td>\n",
       "      <td>-31000000.0</td>\n",
       "      <td>162000000.0</td>\n",
       "      <td>215000000.0</td>\n",
       "      <td>62000000.0</td>\n",
       "      <td>193000000.0</td>\n",
       "      <td>47000000.0</td>\n",
       "      <td>-7000000.0</td>\n",
       "      <td>-171000000.0</td>\n",
       "      <td>408000000.0</td>\n",
       "      <td>-127000000.0</td>\n",
       "      <td>94000000.0</td>\n",
       "      <td>43000000.0</td>\n",
       "      <td>-4000000.0</td>\n",
       "      <td>NaN</td>\n",
       "      <td>748000000.0</td>\n",
       "      <td>-86000000.0</td>\n",
       "      <td>647000000.0</td>\n",
       "      <td>1.074000e+09</td>\n",
       "    </tr>\n",
       "  </tbody>\n",
       "</table>\n",
       "</div>"
      ],
      "text/plain": [
       "  Ticker  SimFinId              Company Name  IndustryId      Sector  \\\n",
       "0      A     45846  AGILENT TECHNOLOGIES INC    106001.0  Healthcare   \n",
       "1      A     45846  AGILENT TECHNOLOGIES INC    106001.0  Healthcare   \n",
       "\n",
       "                         Industry Report Date Currency  Fiscal Year  \\\n",
       "0  Medical Diagnostics & Research  2008-10-31      USD       2008.0   \n",
       "1  Medical Diagnostics & Research  2009-10-31      USD       2009.0   \n",
       "\n",
       "  Fiscal Period Publish Date  Shares (Basic)  Shares (Diluted)       Revenue  \\\n",
       "0            FY   2009-10-05     363000000.0       371000000.0  5.774000e+09   \n",
       "1            FY   2009-12-21     346000000.0       346000000.0  4.481000e+09   \n",
       "\n",
       "   Cost of Revenue  Gross Profit  Operating Expenses  \\\n",
       "0    -2.578000e+09  3.196000e+09       -2.401000e+09   \n",
       "1    -2.189000e+09  2.292000e+09       -2.245000e+09   \n",
       "\n",
       "   Selling, General & Administrative  Research & Development  \\\n",
       "0                      -1.697000e+09            -704000000.0   \n",
       "1                      -1.603000e+09            -642000000.0   \n",
       "\n",
       "   Depreciation & Amortization  Operating Income (Loss)  \\\n",
       "0                          NaN              795000000.0   \n",
       "1                          NaN               47000000.0   \n",
       "\n",
       "   Non-Operating Income (Loss)  Interest Expense, Net  \\\n",
       "0                   20000000.0            -10000000.0   \n",
       "1                  -40000000.0            -59000000.0   \n",
       "\n",
       "   Pretax Income (Loss), Adj.  Abnormal Gains (Losses)  Pretax Income (Loss)  \\\n",
       "0                 815000000.0                      0.0           815000000.0   \n",
       "1                   7000000.0                      0.0             7000000.0   \n",
       "\n",
       "   Income Tax (Expense) Benefit, Net  \\\n",
       "0                       -122000000.0   \n",
       "1                        -38000000.0   \n",
       "\n",
       "   Income (Loss) from Continuing Operations  Net Extraordinary Gains (Losses)  \\\n",
       "0                               693000000.0                               NaN   \n",
       "1                               -31000000.0                               NaN   \n",
       "\n",
       "    Net Income  Net Income (Common) Fiscal Period_b  Shares (Basic)_b  \\\n",
       "0  693000000.0          693000000.0              Q4       357000000.0   \n",
       "1  -31000000.0          -31000000.0              Q4       343000000.0   \n",
       "\n",
       "   Shares (Diluted)_b  Cash, Cash Equivalents & Short Term Investments  \\\n",
       "0         359000000.0                                     1.429000e+09   \n",
       "1         343000000.0                                     2.493000e+09   \n",
       "\n",
       "   Accounts & Notes Receivable  Inventories  Total Current Assets  \\\n",
       "0                  770000000.0  646000000.0          3.182000e+09   \n",
       "1                  595000000.0  552000000.0          3.961000e+09   \n",
       "\n",
       "   Property, Plant & Equipment, Net  Long Term Investments & Receivables  \\\n",
       "0                       824000000.0                          206000000.0   \n",
       "1                       845000000.0                          163000000.0   \n",
       "\n",
       "   Other Long Term Assets  Total Noncurrent Assets  Total Assets  \\\n",
       "0            2.795000e+09             3.825000e+09  7.007000e+09   \n",
       "1            2.643000e+09             3.651000e+09  7.612000e+09   \n",
       "\n",
       "   Payables & Accruals  Short Term Debt  Total Current Liabilities  \\\n",
       "0          436000000.0              NaN               1.330000e+09   \n",
       "1          307000000.0        1000000.0               1.123000e+09   \n",
       "\n",
       "   Long Term Debt  Total Noncurrent Liabilities  Total Liabilities  \\\n",
       "0    2.125000e+09                  3.118000e+09       4.448000e+09   \n",
       "1    2.904000e+09                  3.975000e+09       5.098000e+09   \n",
       "\n",
       "   Share Capital & Additional Paid-In Capital  Treasury Stock  \\\n",
       "0                                7.416000e+09   -7.470000e+09   \n",
       "1                                7.558000e+09   -7.627000e+09   \n",
       "\n",
       "   Retained Earnings  Total Equity  Total Liabilities & Equity  \\\n",
       "0       2.791000e+09  2.559000e+09                7.007000e+09   \n",
       "1       2.760000e+09  2.514000e+09                7.612000e+09   \n",
       "\n",
       "  Fiscal Period_c  Shares (Basic)_c  Shares (Diluted)_c  \\\n",
       "0              FY       363000000.0         371000000.0   \n",
       "1              FY       346000000.0         346000000.0   \n",
       "\n",
       "   Net Income/Starting Line  Depreciation & Amortization_c  Non-Cash Items  \\\n",
       "0               693000000.0                    201000000.0      41000000.0   \n",
       "1               -31000000.0                    162000000.0     215000000.0   \n",
       "\n",
       "   Change in Working Capital  Change in Accounts Receivable  \\\n",
       "0               -179000000.0                    -44000000.0   \n",
       "1                 62000000.0                    193000000.0   \n",
       "\n",
       "   Change in Inventories  Change in Accounts Payable  Change in Other  \\\n",
       "0            -14000000.0                 -21000000.0     -100000000.0   \n",
       "1             47000000.0                  -7000000.0     -171000000.0   \n",
       "\n",
       "   Net Cash from Operating Activities  Change in Fixed Assets & Intangibles  \\\n",
       "0                         756000000.0                          -140000000.0   \n",
       "1                         408000000.0                          -127000000.0   \n",
       "\n",
       "   Net Change in Long Term Investment  \\\n",
       "0                         150000000.0   \n",
       "1                          94000000.0   \n",
       "\n",
       "   Net Cash from Acquisitions & Divestitures  \\\n",
       "0                               -172000000.0   \n",
       "1                                 43000000.0   \n",
       "\n",
       "   Net Cash from Investing Activities  Dividends Paid  \\\n",
       "0                        -385000000.0             NaN   \n",
       "1                          -4000000.0             NaN   \n",
       "\n",
       "   Cash from (Repayment of) Debt  Cash from (Repurchase of) Equity  \\\n",
       "0                     16000000.0                      -790000000.0   \n",
       "1                    748000000.0                       -86000000.0   \n",
       "\n",
       "   Net Cash from Financing Activities  Net Change in Cash  \n",
       "0                        -788000000.0       -4.210000e+08  \n",
       "1                         647000000.0        1.074000e+09  "
      ]
     },
     "execution_count": 33,
     "metadata": {},
     "output_type": "execute_result"
    },
    {
     "data": {
      "text/plain": [
       "Index(['Ticker', 'SimFinId', 'Company Name', 'IndustryId', 'Sector',\n",
       "       'Industry', 'Report Date', 'Currency', 'Fiscal Year', 'Fiscal Period',\n",
       "       'Publish Date', 'Shares (Basic)', 'Shares (Diluted)', 'Revenue',\n",
       "       'Cost of Revenue', 'Gross Profit', 'Operating Expenses',\n",
       "       'Selling, General & Administrative', 'Research & Development',\n",
       "       'Depreciation & Amortization', 'Operating Income (Loss)',\n",
       "       'Non-Operating Income (Loss)', 'Interest Expense, Net',\n",
       "       'Pretax Income (Loss), Adj.', 'Abnormal Gains (Losses)',\n",
       "       'Pretax Income (Loss)', 'Income Tax (Expense) Benefit, Net',\n",
       "       'Income (Loss) from Continuing Operations',\n",
       "       'Net Extraordinary Gains (Losses)', 'Net Income', 'Net Income (Common)',\n",
       "       'Fiscal Period_b', 'Shares (Basic)_b', 'Shares (Diluted)_b',\n",
       "       'Cash, Cash Equivalents & Short Term Investments',\n",
       "       'Accounts & Notes Receivable', 'Inventories', 'Total Current Assets',\n",
       "       'Property, Plant & Equipment, Net',\n",
       "       'Long Term Investments & Receivables', 'Other Long Term Assets',\n",
       "       'Total Noncurrent Assets', 'Total Assets', 'Payables & Accruals',\n",
       "       'Short Term Debt', 'Total Current Liabilities', 'Long Term Debt',\n",
       "       'Total Noncurrent Liabilities', 'Total Liabilities',\n",
       "       'Share Capital & Additional Paid-In Capital', 'Treasury Stock',\n",
       "       'Retained Earnings', 'Total Equity', 'Total Liabilities & Equity',\n",
       "       'Fiscal Period_c', 'Shares (Basic)_c', 'Shares (Diluted)_c',\n",
       "       'Net Income/Starting Line', 'Depreciation & Amortization_c',\n",
       "       'Non-Cash Items', 'Change in Working Capital',\n",
       "       'Change in Accounts Receivable', 'Change in Inventories',\n",
       "       'Change in Accounts Payable', 'Change in Other',\n",
       "       'Net Cash from Operating Activities',\n",
       "       'Change in Fixed Assets & Intangibles',\n",
       "       'Net Change in Long Term Investment',\n",
       "       'Net Cash from Acquisitions & Divestitures',\n",
       "       'Net Cash from Investing Activities', 'Dividends Paid',\n",
       "       'Cash from (Repayment of) Debt', 'Cash from (Repurchase of) Equity',\n",
       "       'Net Cash from Financing Activities', 'Net Change in Cash'],\n",
       "      dtype='object')"
      ]
     },
     "execution_count": 33,
     "metadata": {},
     "output_type": "execute_result"
    },
    {
     "data": {
      "text/plain": [
       "(14894, 54)"
      ]
     },
     "execution_count": 33,
     "metadata": {},
     "output_type": "execute_result"
    },
    {
     "data": {
      "text/plain": [
       "(14894, 75)"
      ]
     },
     "execution_count": 33,
     "metadata": {},
     "output_type": "execute_result"
    }
   ],
   "source": [
    "#left join cash flow on previous df \n",
    "df_cashflow_a['Fiscal Year'] = df_cashflow_a[['Fiscal Year']].astype('float')\n",
    "df4 = pd.merge(df3,df_cashflow_a,on = ['Ticker','SimFinId','Fiscal Year','Currency','Report Date','Publish Date'], how = 'left', suffixes=('','_c'))\n",
    "#take a look at the merge data\n",
    "df4.head(2)\n",
    "df4.columns\n",
    "#check if merge successfully, if successful, the row number should not change\n",
    "df3.shape\n",
    "df4.shape"
   ]
  },
  {
   "cell_type": "code",
   "execution_count": 34,
   "metadata": {},
   "outputs": [
    {
     "data": {
      "text/html": [
       "<div>\n",
       "<style scoped>\n",
       "    .dataframe tbody tr th:only-of-type {\n",
       "        vertical-align: middle;\n",
       "    }\n",
       "\n",
       "    .dataframe tbody tr th {\n",
       "        vertical-align: top;\n",
       "    }\n",
       "\n",
       "    .dataframe thead th {\n",
       "        text-align: right;\n",
       "    }\n",
       "</style>\n",
       "<table border=\"1\" class=\"dataframe\">\n",
       "  <thead>\n",
       "    <tr style=\"text-align: right;\">\n",
       "      <th></th>\n",
       "      <th>Prop</th>\n",
       "    </tr>\n",
       "  </thead>\n",
       "  <tbody>\n",
       "    <tr>\n",
       "      <td>index</td>\n",
       "      <td>100.00</td>\n",
       "    </tr>\n",
       "    <tr>\n",
       "      <td>SimFinId</td>\n",
       "      <td>100.00</td>\n",
       "    </tr>\n",
       "    <tr>\n",
       "      <td>Company Name</td>\n",
       "      <td>100.00</td>\n",
       "    </tr>\n",
       "    <tr>\n",
       "      <td>Ticker</td>\n",
       "      <td>100.00</td>\n",
       "    </tr>\n",
       "    <tr>\n",
       "      <td>Fiscal Period</td>\n",
       "      <td>98.94</td>\n",
       "    </tr>\n",
       "    <tr>\n",
       "      <td>Pretax Income (Loss)</td>\n",
       "      <td>98.94</td>\n",
       "    </tr>\n",
       "    <tr>\n",
       "      <td>Income (Loss) from Continuing Operations</td>\n",
       "      <td>98.94</td>\n",
       "    </tr>\n",
       "    <tr>\n",
       "      <td>Net Income</td>\n",
       "      <td>98.94</td>\n",
       "    </tr>\n",
       "    <tr>\n",
       "      <td>Net Income (Common)</td>\n",
       "      <td>98.94</td>\n",
       "    </tr>\n",
       "    <tr>\n",
       "      <td>Pretax Income (Loss), Adj.</td>\n",
       "      <td>98.94</td>\n",
       "    </tr>\n",
       "    <tr>\n",
       "      <td>Publish Date</td>\n",
       "      <td>98.94</td>\n",
       "    </tr>\n",
       "    <tr>\n",
       "      <td>Fiscal Year</td>\n",
       "      <td>98.94</td>\n",
       "    </tr>\n",
       "    <tr>\n",
       "      <td>Currency</td>\n",
       "      <td>98.94</td>\n",
       "    </tr>\n",
       "    <tr>\n",
       "      <td>Report Date</td>\n",
       "      <td>98.94</td>\n",
       "    </tr>\n",
       "    <tr>\n",
       "      <td>Operating Income (Loss)</td>\n",
       "      <td>98.91</td>\n",
       "    </tr>\n",
       "    <tr>\n",
       "      <td>Operating Expenses</td>\n",
       "      <td>98.51</td>\n",
       "    </tr>\n",
       "    <tr>\n",
       "      <td>Non-Operating Income (Loss)</td>\n",
       "      <td>97.91</td>\n",
       "    </tr>\n",
       "    <tr>\n",
       "      <td>Total Current Liabilities</td>\n",
       "      <td>97.63</td>\n",
       "    </tr>\n",
       "    <tr>\n",
       "      <td>Total Assets</td>\n",
       "      <td>97.63</td>\n",
       "    </tr>\n",
       "    <tr>\n",
       "      <td>Fiscal Period_b</td>\n",
       "      <td>97.63</td>\n",
       "    </tr>\n",
       "    <tr>\n",
       "      <td>Total Liabilities</td>\n",
       "      <td>97.63</td>\n",
       "    </tr>\n",
       "    <tr>\n",
       "      <td>Total Liabilities &amp; Equity</td>\n",
       "      <td>97.63</td>\n",
       "    </tr>\n",
       "    <tr>\n",
       "      <td>Total Equity</td>\n",
       "      <td>97.62</td>\n",
       "    </tr>\n",
       "    <tr>\n",
       "      <td>Total Current Assets</td>\n",
       "      <td>97.60</td>\n",
       "    </tr>\n",
       "    <tr>\n",
       "      <td>Gross Profit</td>\n",
       "      <td>97.47</td>\n",
       "    </tr>\n",
       "    <tr>\n",
       "      <td>Revenue</td>\n",
       "      <td>97.45</td>\n",
       "    </tr>\n",
       "    <tr>\n",
       "      <td>Cash, Cash Equivalents &amp; Short Term Investments</td>\n",
       "      <td>97.40</td>\n",
       "    </tr>\n",
       "    <tr>\n",
       "      <td>Total Noncurrent Assets</td>\n",
       "      <td>97.21</td>\n",
       "    </tr>\n",
       "    <tr>\n",
       "      <td>Payables &amp; Accruals</td>\n",
       "      <td>97.19</td>\n",
       "    </tr>\n",
       "    <tr>\n",
       "      <td>Share Capital &amp; Additional Paid-In Capital</td>\n",
       "      <td>96.79</td>\n",
       "    </tr>\n",
       "    <tr>\n",
       "      <td>Total Noncurrent Liabilities</td>\n",
       "      <td>96.70</td>\n",
       "    </tr>\n",
       "    <tr>\n",
       "      <td>Net Cash from Operating Activities</td>\n",
       "      <td>96.40</td>\n",
       "    </tr>\n",
       "    <tr>\n",
       "      <td>Fiscal Period_c</td>\n",
       "      <td>96.40</td>\n",
       "    </tr>\n",
       "    <tr>\n",
       "      <td>Net Change in Cash</td>\n",
       "      <td>96.40</td>\n",
       "    </tr>\n",
       "    <tr>\n",
       "      <td>Other Long Term Assets</td>\n",
       "      <td>96.30</td>\n",
       "    </tr>\n",
       "    <tr>\n",
       "      <td>Shares (Basic)</td>\n",
       "      <td>96.20</td>\n",
       "    </tr>\n",
       "    <tr>\n",
       "      <td>Net Cash from Investing Activities</td>\n",
       "      <td>96.11</td>\n",
       "    </tr>\n",
       "    <tr>\n",
       "      <td>Net Cash from Financing Activities</td>\n",
       "      <td>96.09</td>\n",
       "    </tr>\n",
       "    <tr>\n",
       "      <td>Net Income/Starting Line</td>\n",
       "      <td>96.07</td>\n",
       "    </tr>\n",
       "    <tr>\n",
       "      <td>Non-Cash Items</td>\n",
       "      <td>96.05</td>\n",
       "    </tr>\n",
       "    <tr>\n",
       "      <td>Property, Plant &amp; Equipment, Net</td>\n",
       "      <td>95.98</td>\n",
       "    </tr>\n",
       "    <tr>\n",
       "      <td>Change in Working Capital</td>\n",
       "      <td>95.92</td>\n",
       "    </tr>\n",
       "    <tr>\n",
       "      <td>Shares (Diluted)</td>\n",
       "      <td>95.72</td>\n",
       "    </tr>\n",
       "    <tr>\n",
       "      <td>Change in Fixed Assets &amp; Intangibles</td>\n",
       "      <td>94.47</td>\n",
       "    </tr>\n",
       "    <tr>\n",
       "      <td>Depreciation &amp; Amortization_c</td>\n",
       "      <td>94.45</td>\n",
       "    </tr>\n",
       "    <tr>\n",
       "      <td>Retained Earnings</td>\n",
       "      <td>94.29</td>\n",
       "    </tr>\n",
       "    <tr>\n",
       "      <td>Industry</td>\n",
       "      <td>94.27</td>\n",
       "    </tr>\n",
       "    <tr>\n",
       "      <td>Sector</td>\n",
       "      <td>94.27</td>\n",
       "    </tr>\n",
       "    <tr>\n",
       "      <td>IndustryId</td>\n",
       "      <td>94.27</td>\n",
       "    </tr>\n",
       "    <tr>\n",
       "      <td>Selling, General &amp; Administrative</td>\n",
       "      <td>94.10</td>\n",
       "    </tr>\n",
       "    <tr>\n",
       "      <td>Shares (Basic)_c</td>\n",
       "      <td>93.82</td>\n",
       "    </tr>\n",
       "    <tr>\n",
       "      <td>Shares (Diluted)_c</td>\n",
       "      <td>93.35</td>\n",
       "    </tr>\n",
       "    <tr>\n",
       "      <td>Income Tax (Expense) Benefit, Net</td>\n",
       "      <td>93.20</td>\n",
       "    </tr>\n",
       "    <tr>\n",
       "      <td>Shares (Basic)_b</td>\n",
       "      <td>92.00</td>\n",
       "    </tr>\n",
       "    <tr>\n",
       "      <td>Shares (Diluted)_b</td>\n",
       "      <td>91.55</td>\n",
       "    </tr>\n",
       "    <tr>\n",
       "      <td>Cost of Revenue</td>\n",
       "      <td>89.99</td>\n",
       "    </tr>\n",
       "    <tr>\n",
       "      <td>Accounts &amp; Notes Receivable</td>\n",
       "      <td>89.57</td>\n",
       "    </tr>\n",
       "    <tr>\n",
       "      <td>Interest Expense, Net</td>\n",
       "      <td>87.08</td>\n",
       "    </tr>\n",
       "    <tr>\n",
       "      <td>Cash from (Repurchase of) Equity</td>\n",
       "      <td>86.06</td>\n",
       "    </tr>\n",
       "    <tr>\n",
       "      <td>Cash from (Repayment of) Debt</td>\n",
       "      <td>84.84</td>\n",
       "    </tr>\n",
       "    <tr>\n",
       "      <td>Long Term Debt</td>\n",
       "      <td>76.75</td>\n",
       "    </tr>\n",
       "    <tr>\n",
       "      <td>Inventories</td>\n",
       "      <td>68.02</td>\n",
       "    </tr>\n",
       "    <tr>\n",
       "      <td>Abnormal Gains (Losses)</td>\n",
       "      <td>65.61</td>\n",
       "    </tr>\n",
       "    <tr>\n",
       "      <td>Short Term Debt</td>\n",
       "      <td>65.48</td>\n",
       "    </tr>\n",
       "    <tr>\n",
       "      <td>Net Cash from Acquisitions &amp; Divestitures</td>\n",
       "      <td>58.67</td>\n",
       "    </tr>\n",
       "    <tr>\n",
       "      <td>Dividends Paid</td>\n",
       "      <td>50.38</td>\n",
       "    </tr>\n",
       "    <tr>\n",
       "      <td>Treasury Stock</td>\n",
       "      <td>48.08</td>\n",
       "    </tr>\n",
       "    <tr>\n",
       "      <td>Depreciation &amp; Amortization</td>\n",
       "      <td>43.54</td>\n",
       "    </tr>\n",
       "    <tr>\n",
       "      <td>Research &amp; Development</td>\n",
       "      <td>39.47</td>\n",
       "    </tr>\n",
       "    <tr>\n",
       "      <td>Net Change in Long Term Investment</td>\n",
       "      <td>38.24</td>\n",
       "    </tr>\n",
       "    <tr>\n",
       "      <td>Long Term Investments &amp; Receivables</td>\n",
       "      <td>29.15</td>\n",
       "    </tr>\n",
       "    <tr>\n",
       "      <td>Net Extraordinary Gains (Losses)</td>\n",
       "      <td>21.87</td>\n",
       "    </tr>\n",
       "    <tr>\n",
       "      <td>Change in Other</td>\n",
       "      <td>11.26</td>\n",
       "    </tr>\n",
       "    <tr>\n",
       "      <td>Change in Accounts Receivable</td>\n",
       "      <td>10.25</td>\n",
       "    </tr>\n",
       "    <tr>\n",
       "      <td>Change in Inventories</td>\n",
       "      <td>8.08</td>\n",
       "    </tr>\n",
       "    <tr>\n",
       "      <td>Change in Accounts Payable</td>\n",
       "      <td>7.69</td>\n",
       "    </tr>\n",
       "  </tbody>\n",
       "</table>\n",
       "</div>"
      ],
      "text/plain": [
       "                                                   Prop\n",
       "index                                            100.00\n",
       "SimFinId                                         100.00\n",
       "Company Name                                     100.00\n",
       "Ticker                                           100.00\n",
       "Fiscal Period                                     98.94\n",
       "Pretax Income (Loss)                              98.94\n",
       "Income (Loss) from Continuing Operations          98.94\n",
       "Net Income                                        98.94\n",
       "Net Income (Common)                               98.94\n",
       "Pretax Income (Loss), Adj.                        98.94\n",
       "Publish Date                                      98.94\n",
       "Fiscal Year                                       98.94\n",
       "Currency                                          98.94\n",
       "Report Date                                       98.94\n",
       "Operating Income (Loss)                           98.91\n",
       "Operating Expenses                                98.51\n",
       "Non-Operating Income (Loss)                       97.91\n",
       "Total Current Liabilities                         97.63\n",
       "Total Assets                                      97.63\n",
       "Fiscal Period_b                                   97.63\n",
       "Total Liabilities                                 97.63\n",
       "Total Liabilities & Equity                        97.63\n",
       "Total Equity                                      97.62\n",
       "Total Current Assets                              97.60\n",
       "Gross Profit                                      97.47\n",
       "Revenue                                           97.45\n",
       "Cash, Cash Equivalents & Short Term Investments   97.40\n",
       "Total Noncurrent Assets                           97.21\n",
       "Payables & Accruals                               97.19\n",
       "Share Capital & Additional Paid-In Capital        96.79\n",
       "Total Noncurrent Liabilities                      96.70\n",
       "Net Cash from Operating Activities                96.40\n",
       "Fiscal Period_c                                   96.40\n",
       "Net Change in Cash                                96.40\n",
       "Other Long Term Assets                            96.30\n",
       "Shares (Basic)                                    96.20\n",
       "Net Cash from Investing Activities                96.11\n",
       "Net Cash from Financing Activities                96.09\n",
       "Net Income/Starting Line                          96.07\n",
       "Non-Cash Items                                    96.05\n",
       "Property, Plant & Equipment, Net                  95.98\n",
       "Change in Working Capital                         95.92\n",
       "Shares (Diluted)                                  95.72\n",
       "Change in Fixed Assets & Intangibles              94.47\n",
       "Depreciation & Amortization_c                     94.45\n",
       "Retained Earnings                                 94.29\n",
       "Industry                                          94.27\n",
       "Sector                                            94.27\n",
       "IndustryId                                        94.27\n",
       "Selling, General & Administrative                 94.10\n",
       "Shares (Basic)_c                                  93.82\n",
       "Shares (Diluted)_c                                93.35\n",
       "Income Tax (Expense) Benefit, Net                 93.20\n",
       "Shares (Basic)_b                                  92.00\n",
       "Shares (Diluted)_b                                91.55\n",
       "Cost of Revenue                                   89.99\n",
       "Accounts & Notes Receivable                       89.57\n",
       "Interest Expense, Net                             87.08\n",
       "Cash from (Repurchase of) Equity                  86.06\n",
       "Cash from (Repayment of) Debt                     84.84\n",
       "Long Term Debt                                    76.75\n",
       "Inventories                                       68.02\n",
       "Abnormal Gains (Losses)                           65.61\n",
       "Short Term Debt                                   65.48\n",
       "Net Cash from Acquisitions & Divestitures         58.67\n",
       "Dividends Paid                                    50.38\n",
       "Treasury Stock                                    48.08\n",
       "Depreciation & Amortization                       43.54\n",
       "Research & Development                            39.47\n",
       "Net Change in Long Term Investment                38.24\n",
       "Long Term Investments & Receivables               29.15\n",
       "Net Extraordinary Gains (Losses)                  21.87\n",
       "Change in Other                                   11.26\n",
       "Change in Accounts Receivable                     10.25\n",
       "Change in Inventories                              8.08\n",
       "Change in Accounts Payable                         7.69"
      ]
     },
     "execution_count": 34,
     "metadata": {},
     "output_type": "execute_result"
    }
   ],
   "source": [
    "#the final data frame is df\n",
    "df = df4.copy()\n",
    "#check for missing value\n",
    "temp = prop_nonmissing(df)\n",
    "temp.sort_values(by = 'Prop',ascending = False)\n",
    "# 只是存用一下这个code，不用理\n",
    "#df_merge2 = df_merge2.drop(df_merge2.columns[df_merge2.columns.str.endswith('right')],axis = 1)"
   ]
  },
  {
   "cell_type": "markdown",
   "metadata": {},
   "source": [
    "# Calculate Financial Ratio"
   ]
  },
  {
   "cell_type": "markdown",
   "metadata": {},
   "source": [
    "lists of useful financial ratios to measure financial health\n",
    "liquidity\n",
    "1. \\* current ratio： current assets/current liabiity\n",
    "2. \\* quick ratio: (cash+marketable+ receivable)/current liabilities\n",
    "3. net working capital to assets ratio: <br>(current asset - current liability)/total assets\n",
    "4. Cash ratio: (cash + marketable securities)/current liabilities \n",
    "\n",
    "solvency(leverage measure)\n",
    "1. long-term debt ratio: long-term debt/(long term debt +equity)\n",
    "2. \\* long-term debt-equity ratio: long-term debt/equity. <br>A downward trend over time in the D/E ratio is a good indicator<br> a company is on increasingly solid financial ground.\n",
    "3. total debt ratio: total liabilities /total assets\n",
    "4. times interest earned : EBIT/ interest expense\n",
    "5. cash coverage ratio : EBIT + depreciation/ interest expense\n",
    "\n",
    "profitability\n",
    "1. return on asset: after tax operating income/total assets\n",
    "2. return on capital: afer tax operating inomce/(long term debt + equity)\n",
    "3. return on equity: after tax operating icnome/equity\n",
    "4. EVA: after_tax operating icnome - (cost of capital * total capitalization). <br>cost of capital data not available\n",
    "operating efficiency\n",
    "\n",
    "1. \\* operating profit margin: EBIT/net sales \n",
    "2. net profit marin: net income/net sales\n",
    "3. asset turover: sales/total assets at start of year\n",
    "4. receivable turover: sales/receivables at the start of year\n",
    "5. inventory turnover: cost of goods sold/inventory at start of year\n",
    "\n",
    "performance measures\n",
    "1. Market Value added: market value of equity - book value of equity\n",
    "2. market to book ratio: Market Market Value of equity / book value of equity \n",
    "3. P/E: Price per share/Earning per share <br>((net income - preferred dividends)/end of year outstanding share)\n"
   ]
  }
 ],
 "metadata": {
  "kernelspec": {
   "display_name": "Python 3",
   "language": "python",
   "name": "python3"
  },
  "language_info": {
   "codemirror_mode": {
    "name": "ipython",
    "version": 3
   },
   "file_extension": ".py",
   "mimetype": "text/x-python",
   "name": "python",
   "nbconvert_exporter": "python",
   "pygments_lexer": "ipython3",
   "version": "3.7.4"
  },
  "toc": {
   "base_numbering": 1,
   "nav_menu": {},
   "number_sections": true,
   "sideBar": true,
   "skip_h1_title": false,
   "title_cell": "Table of Contents",
   "title_sidebar": "Contents",
   "toc_cell": false,
   "toc_position": {
    "height": "calc(100% - 180px)",
    "left": "10px",
    "top": "150px",
    "width": "341.325px"
   },
   "toc_section_display": true,
   "toc_window_display": true
  },
  "varInspector": {
   "cols": {
    "lenName": 16,
    "lenType": 16,
    "lenVar": 40
   },
   "kernels_config": {
    "python": {
     "delete_cmd_postfix": "",
     "delete_cmd_prefix": "del ",
     "library": "var_list.py",
     "varRefreshCmd": "print(var_dic_list())"
    },
    "r": {
     "delete_cmd_postfix": ") ",
     "delete_cmd_prefix": "rm(",
     "library": "var_list.r",
     "varRefreshCmd": "cat(var_dic_list()) "
    }
   },
   "types_to_exclude": [
    "module",
    "function",
    "builtin_function_or_method",
    "instance",
    "_Feature"
   ],
   "window_display": false
  }
 },
 "nbformat": 4,
 "nbformat_minor": 2
}
